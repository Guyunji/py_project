{
 "cells": [
  {
   "cell_type": "code",
   "execution_count": 6,
   "id": "8f221d3e",
   "metadata": {},
   "outputs": [
    {
     "name": "stdout",
     "output_type": "stream",
     "text": [
      "안녕하세요\n",
      "100\n"
     ]
    }
   ],
   "source": [
    "print('안녕하세요')\n",
    "print(100)"
   ]
  },
  {
   "cell_type": "code",
   "execution_count": null,
   "id": "470cc78e",
   "metadata": {},
   "outputs": [],
   "source": []
  },
  {
   "cell_type": "code",
   "execution_count": 7,
   "id": "0d192465",
   "metadata": {},
   "outputs": [],
   "source": [
    "# 주석 => 코드 내부에 사용, 코드로 인식 X, 간단한 메모\n",
    "# 변수 => 데이터를 저장(메모리: 플레시메모리)하는 방식\n",
    "# 변수이름 (식별자) = 값(데이터: 숫자, 문자열, 논리값(True,False), 객체)\n",
    "# 변수에는 데이터를 저장하고 있는 메모리의 주소값을 저장\n",
    "num = 10"
   ]
  },
  {
   "cell_type": "code",
   "execution_count": 8,
   "id": "a3592bf6",
   "metadata": {},
   "outputs": [
    {
     "name": "stdout",
     "output_type": "stream",
     "text": [
      "10\n"
     ]
    }
   ],
   "source": [
    "print(num)"
   ]
  },
  {
   "cell_type": "code",
   "execution_count": 10,
   "id": "b85a0338",
   "metadata": {},
   "outputs": [
    {
     "data": {
      "text/plain": [
       "140725460288712"
      ]
     },
     "execution_count": 10,
     "metadata": {},
     "output_type": "execute_result"
    }
   ],
   "source": [
    "id(num) # id : 메모리 주소값"
   ]
  },
  {
   "cell_type": "code",
   "execution_count": 16,
   "id": "518db8e7",
   "metadata": {},
   "outputs": [],
   "source": [
    "# 변수 = 데이터\n",
    "# 데이터 => 숫자, 문자, 논리값\n",
    "# 숫자 => 정수, 실수\n",
    "num1 = 10\n",
    "num2 = 3.14"
   ]
  },
  {
   "cell_type": "code",
   "execution_count": null,
   "id": "ae1e99b8",
   "metadata": {},
   "outputs": [
    {
     "name": "stdout",
     "output_type": "stream",
     "text": [
      "<class 'int'>\n",
      "<class 'float'>\n"
     ]
    }
   ],
   "source": [
    "print(type(num1))\n",
    "print(type(num2)) # 숫자 => 정수와 실수로 나누어 처리"
   ]
  },
  {
   "cell_type": "code",
   "execution_count": 20,
   "id": "a3f156fc",
   "metadata": {},
   "outputs": [],
   "source": [
    "num3 = 'hello~'"
   ]
  },
  {
   "cell_type": "code",
   "execution_count": 21,
   "id": "6f0e9a8f",
   "metadata": {},
   "outputs": [
    {
     "name": "stdout",
     "output_type": "stream",
     "text": [
      "hello~\n",
      "<class 'str'>\n"
     ]
    }
   ],
   "source": [
    "print(num3)\n",
    "print(type(num3))"
   ]
  },
  {
   "cell_type": "code",
   "execution_count": 22,
   "id": "4d095422",
   "metadata": {},
   "outputs": [],
   "source": [
    "# 논리값 : 참, 거짓 => True, False\n",
    "check1 = True\n",
    "check2 = False"
   ]
  },
  {
   "cell_type": "code",
   "execution_count": 23,
   "id": "f1381ac6",
   "metadata": {},
   "outputs": [
    {
     "name": "stdout",
     "output_type": "stream",
     "text": [
      "True <class 'bool'>\n",
      "False <class 'bool'>\n"
     ]
    }
   ],
   "source": [
    "print(check1, type(check1))\n",
    "print(check2, type(check2))"
   ]
  },
  {
   "cell_type": "code",
   "execution_count": 36,
   "id": "2d1d909b",
   "metadata": {},
   "outputs": [],
   "source": [
    "str_a = 'python' # 변수에는 객체의 주소값"
   ]
  },
  {
   "cell_type": "code",
   "execution_count": 37,
   "id": "4b917695",
   "metadata": {},
   "outputs": [
    {
     "data": {
      "text/plain": [
       "'PYTHON'"
      ]
     },
     "execution_count": 37,
     "metadata": {},
     "output_type": "execute_result"
    }
   ],
   "source": [
    "str_a.upper()\n",
    "# 주소값.메서드()"
   ]
  },
  {
   "cell_type": "code",
   "execution_count": 38,
   "id": "8e5a3e7a",
   "metadata": {},
   "outputs": [
    {
     "name": "stdout",
     "output_type": "stream",
     "text": [
      "<class 'str'>\n"
     ]
    }
   ],
   "source": [
    "print(type(str_a))"
   ]
  },
  {
   "cell_type": "code",
   "execution_count": 34,
   "id": "26125155",
   "metadata": {},
   "outputs": [],
   "source": [
    "str_a = 100 \n",
    "# 문제가 안생김"
   ]
  },
  {
   "cell_type": "code",
   "execution_count": 33,
   "id": "ee08ddb8",
   "metadata": {},
   "outputs": [
    {
     "name": "stdout",
     "output_type": "stream",
     "text": [
      "100 <class 'int'>\n"
     ]
    }
   ],
   "source": [
    "print(str_a, type(str_a))"
   ]
  },
  {
   "cell_type": "code",
   "execution_count": 59,
   "id": "fed132cb",
   "metadata": {},
   "outputs": [],
   "source": [
    "# 문자열 생성\n",
    "# '', \"\", ''' ''', \"\"\" \"\"\"\n",
    "str_1 = 'hello'\n",
    "str_2 = \"안녕하세요!\"\n",
    "str_3 = '''첫째 라인\n",
    "안녕하세요\n",
    "반갑습니다.\n",
    "'''\n",
    "\n",
    "str_4 = \"\"\"\n",
    "select *\n",
    "from emp\n",
    "where empno=10\n",
    "\"\"\""
   ]
  },
  {
   "cell_type": "code",
   "execution_count": 60,
   "id": "ebd08669",
   "metadata": {},
   "outputs": [
    {
     "name": "stdout",
     "output_type": "stream",
     "text": [
      "hello <class 'str'>\n",
      "안녕하세요! <class 'str'>\n",
      "첫째 라인\n",
      "안녕하세요\n",
      "반갑습니다.\n",
      " <class 'str'>\n",
      "\n",
      "select *\n",
      "from emp\n",
      "where empno=10\n",
      " <class 'str'>\n"
     ]
    }
   ],
   "source": [
    "print(str_1, type(str_1))\n",
    "print(str_2, type(str_2))\n",
    "print(str_3, type(str_3))\n",
    "print(str_4, type(str_4))"
   ]
  },
  {
   "cell_type": "code",
   "execution_count": 61,
   "id": "1549bbc9",
   "metadata": {},
   "outputs": [
    {
     "name": "stdout",
     "output_type": "stream",
     "text": [
      "hello python!!\n",
      "==========\n"
     ]
    }
   ],
   "source": [
    "# 문자열의 연산 => 사칙연산 X => 더하기(연결)\n",
    "# 사칙연산 X => 더하기(연결)\n",
    "# 곱셈 * => 반복(몇번 반복)\n",
    "print('hello'+' python!!')\n",
    "print('='*10)"
   ]
  },
  {
   "cell_type": "code",
   "execution_count": 62,
   "id": "d8a92219",
   "metadata": {},
   "outputs": [
    {
     "name": "stdout",
     "output_type": "stream",
     "text": [
      "5\n",
      "6\n"
     ]
    }
   ],
   "source": [
    "# 함수(기능) : 데이터 전달하면 -> 처리(연산) -> 값을 반환\n",
    "# 문자열의 길이 반환 함수 : len(변수:시퀀스 형식의 데이터)\n",
    "print(len(str_1))\n",
    "print(len(str_2))"
   ]
  },
  {
   "cell_type": "code",
   "execution_count": 63,
   "id": "ca32e410",
   "metadata": {},
   "outputs": [],
   "source": [
    "# 문자열 : 시퀀스 데이터 => 순서 o\n",
    "# 시퀀스 데이터의 데이터들의 구분 => index 값\n",
    "# hello => ['h', 'e', 'l', 'l', 'o']\n",
    "#   index => 0    1    2    3    4   => 0 ~ N-1 => 0~4\n",
    "str_5 = \"hello~ python!!\"\n",
    "#       0123456789.."
   ]
  },
  {
   "cell_type": "code",
   "execution_count": 64,
   "id": "13134d41",
   "metadata": {},
   "outputs": [
    {
     "data": {
      "text/plain": [
       "'h'"
      ]
     },
     "execution_count": 64,
     "metadata": {},
     "output_type": "execute_result"
    }
   ],
   "source": [
    "str_5[0]"
   ]
  },
  {
   "cell_type": "code",
   "execution_count": 66,
   "id": "bc5ee907",
   "metadata": {},
   "outputs": [
    {
     "data": {
      "text/plain": [
       "'hello'"
      ]
     },
     "execution_count": 66,
     "metadata": {},
     "output_type": "execute_result"
    }
   ],
   "source": [
    "# 문자열(시퀀스)의 슬라이싱\n",
    "# s[시작 index : 종료 index]   => 종료 index값을 만나면 탈출\n",
    "# str_5[0 : 5]\n",
    "str_5[0 : 5]"
   ]
  },
  {
   "cell_type": "code",
   "execution_count": 68,
   "id": "b211d459",
   "metadata": {},
   "outputs": [
    {
     "name": "stdout",
     "output_type": "stream",
     "text": [
      "안녕하세요! 저는 손흥민입니다. 나이는 30입니다.\n"
     ]
    }
   ],
   "source": [
    "# 문자열 포맷팅\n",
    "# 3.6 버전 이후 f\"\", 접두사 f 붙이고 포맷팅\n",
    "user_name = '손흥민'\n",
    "user_age = 30\n",
    "print(f'안녕하세요! 저는 {user_name}입니다. 나이는 {user_age}입니다.')"
   ]
  },
  {
   "cell_type": "code",
   "execution_count": 69,
   "id": "2b532ed7",
   "metadata": {},
   "outputs": [
    {
     "name": "stdout",
     "output_type": "stream",
     "text": [
      "내년에는 나이가 31살이 됩니다.\n"
     ]
    }
   ],
   "source": [
    "print(f'내년에는 나이가 {user_age+1}살이 됩니다.')"
   ]
  },
  {
   "cell_type": "code",
   "execution_count": 70,
   "id": "27df4c7b",
   "metadata": {},
   "outputs": [],
   "source": [
    "# 복합 대입 연산\n",
    "num = 1"
   ]
  },
  {
   "cell_type": "code",
   "execution_count": 71,
   "id": "31ef0ddd",
   "metadata": {},
   "outputs": [],
   "source": [
    "num = num + 1"
   ]
  },
  {
   "cell_type": "code",
   "execution_count": 72,
   "id": "d5bd6dc0",
   "metadata": {},
   "outputs": [],
   "source": [
    "num += 1 # num= num + 1"
   ]
  },
  {
   "cell_type": "code",
   "execution_count": 73,
   "id": "6a70025f",
   "metadata": {},
   "outputs": [
    {
     "name": "stdout",
     "output_type": "stream",
     "text": [
      "3\n"
     ]
    }
   ],
   "source": [
    "print(num)"
   ]
  },
  {
   "cell_type": "code",
   "execution_count": 80,
   "id": "96b56363",
   "metadata": {},
   "outputs": [
    {
     "name": "stdout",
     "output_type": "stream",
     "text": [
      "240 80.0\n"
     ]
    }
   ],
   "source": [
    "# 과목별 점수의 총합과 평균 및 총점과 평균 출력\n",
    "kor = 80\n",
    "eng = 90\n",
    "math = 70\n",
    "\n",
    "sum = kor + eng + math\n",
    "avg = sum/3\n",
    "\n",
    "print(sum, avg)"
   ]
  },
  {
   "cell_type": "code",
   "execution_count": 81,
   "id": "4bdd6a82",
   "metadata": {},
   "outputs": [],
   "source": [
    "del sum"
   ]
  },
  {
   "cell_type": "code",
   "execution_count": 84,
   "id": "023d6804",
   "metadata": {},
   "outputs": [
    {
     "name": "stdout",
     "output_type": "stream",
     "text": [
      "과목별 점수: {'국어': 80, '영어': 90, '수학': 70}\n",
      "총점: 240\n",
      "평균: 80.0\n"
     ]
    }
   ],
   "source": [
    "# 과목별 점수 리스트\n",
    "scores = {\n",
    "    '국어': 80,\n",
    "    '영어': 90,\n",
    "    '수학': 70\n",
    "}\n",
    "\n",
    "# 총점 및 평균 계산\n",
    "total = sum(scores.values())\n",
    "average = total / len(scores)\n",
    "\n",
    "# 출력\n",
    "print(\"과목별 점수:\", scores)\n",
    "print(\"총점:\", total)\n",
    "print(\"평균:\", average)"
   ]
  },
  {
   "cell_type": "code",
   "execution_count": 85,
   "id": "90d4bd2e",
   "metadata": {},
   "outputs": [
    {
     "name": "stdout",
     "output_type": "stream",
     "text": [
      "성인 남성입니다.\n"
     ]
    }
   ],
   "source": [
    "# 성별이 남성이고 18세 이상의 성인 여부를 판단하는 조건식\n",
    "gender = '남성'\n",
    "age = 26\n",
    "\n",
    "if gender == '남성' and age >= 18:\n",
    "    print(\"성인 남성입니다.\")\n",
    "else:\n",
    "    print(\"성인 남성이 아닙니다.\")"
   ]
  },
  {
   "cell_type": "markdown",
   "id": "9a7362b0",
   "metadata": {
    "tags": [
     "parameters"
    ]
   },
   "source": [
    "### 연습문제 1\n",
    "과목별 점수, 총점, 평균점수 출력 \\\n",
    "과목 : 국어, 영어, 수학"
   ]
  },
  {
   "cell_type": "code",
   "execution_count": 91,
   "id": "c35bf2fe",
   "metadata": {},
   "outputs": [],
   "source": [
    "# 1. 변수 선언, 초기화\n",
    "kor_score = 100   # 국어점수\n",
    "eng_score = 70    # 영어점수\n",
    "math_score = 80   # 수학점수"
   ]
  },
  {
   "cell_type": "code",
   "execution_count": 92,
   "id": "f5c08360",
   "metadata": {},
   "outputs": [],
   "source": [
    "# 2. 연산 : 총점, 평균\n",
    "sum_score = kor_score + eng_score + math_score\n",
    "avg_score = sum_score / 3"
   ]
  },
  {
   "cell_type": "code",
   "execution_count": 94,
   "id": "983c783f",
   "metadata": {},
   "outputs": [
    {
     "name": "stdout",
     "output_type": "stream",
     "text": [
      "국어점수:100, 영어점수:70, 수학점수:80 \n",
      "총점:250 \n",
      "평균점수:83.33333333333333\n"
     ]
    }
   ],
   "source": [
    "# 3. 결과 출력\n",
    "print(f'국어점수:{kor_score}, 영어점수:{eng_score}, 수학점수:{math_score} \\n총점:{sum_score} \\n평균점수:{avg_score}')"
   ]
  },
  {
   "cell_type": "markdown",
   "id": "b9c6f405",
   "metadata": {},
   "source": [
    "### 연습문제2 \n",
    "성별 체크, 나이 체크 \\\n",
    "성별은 남성이고(and), 성인 판별 (18살 이상)"
   ]
  },
  {
   "cell_type": "code",
   "execution_count": 95,
   "id": "bb79e348",
   "metadata": {},
   "outputs": [],
   "source": [
    "# 1. 변수\n",
    "gender = 'M' # 성별 : 'M' | 'F'\n",
    "age = 15"
   ]
  },
  {
   "cell_type": "code",
   "execution_count": 96,
   "id": "cf7d5a47",
   "metadata": {},
   "outputs": [],
   "source": [
    "# 2. 남성 그리고 성인\n",
    "check = gender == 'M' and age >= 18"
   ]
  },
  {
   "cell_type": "code",
   "execution_count": 97,
   "id": "a831f223",
   "metadata": {},
   "outputs": [
    {
     "name": "stdout",
     "output_type": "stream",
     "text": [
      "성인 남성 체크 : False\n"
     ]
    }
   ],
   "source": [
    "print('성인 남성 체크 :', check)"
   ]
  },
  {
   "cell_type": "code",
   "execution_count": 1,
   "id": "7a6d50be",
   "metadata": {},
   "outputs": [],
   "source": [
    "# 리스트 : [] => 순서를 가지는 데이터 묶음\n",
    "# index 값으로 요소들을 참조 => 0 ~ N(요소의 개수)-1\n",
    "list_a = [1,2,3]\n",
    "# index   0 1 2\n",
    "# 요소의 개수 : 3"
   ]
  },
  {
   "cell_type": "code",
   "execution_count": 99,
   "id": "c2fb7d91",
   "metadata": {},
   "outputs": [
    {
     "data": {
      "text/plain": [
       "[1, 2, 3]"
      ]
     },
     "execution_count": 99,
     "metadata": {},
     "output_type": "execute_result"
    }
   ],
   "source": [
    "list_a"
   ]
  },
  {
   "cell_type": "code",
   "execution_count": 101,
   "id": "b8d3853b",
   "metadata": {},
   "outputs": [
    {
     "name": "stdout",
     "output_type": "stream",
     "text": [
      "[1, 2, 3] <class 'list'>\n"
     ]
    }
   ],
   "source": [
    "print(list_a, type(list_a))"
   ]
  },
  {
   "cell_type": "code",
   "execution_count": 102,
   "id": "ebb7dc53",
   "metadata": {},
   "outputs": [],
   "source": [
    "# bool(), int(), float(), str(), list()"
   ]
  },
  {
   "cell_type": "code",
   "execution_count": null,
   "id": "0d4663f8",
   "metadata": {},
   "outputs": [
    {
     "data": {
      "text/plain": [
       "3"
      ]
     },
     "execution_count": 103,
     "metadata": {},
     "output_type": "execute_result"
    }
   ],
   "source": [
    "# 요소의 참조 : 변수처럼 이용용\n",
    "list_a[2]"
   ]
  },
  {
   "cell_type": "code",
   "execution_count": 6,
   "id": "d4b21003",
   "metadata": {},
   "outputs": [],
   "source": [
    "list_a[2] = 4"
   ]
  },
  {
   "cell_type": "code",
   "execution_count": 7,
   "id": "35bfd4ed",
   "metadata": {},
   "outputs": [
    {
     "data": {
      "text/plain": [
       "[1, 2, 4]"
      ]
     },
     "execution_count": 7,
     "metadata": {},
     "output_type": "execute_result"
    }
   ],
   "source": [
    "list_a"
   ]
  },
  {
   "cell_type": "code",
   "execution_count": 3,
   "id": "d07288a5",
   "metadata": {},
   "outputs": [
    {
     "data": {
      "text/plain": [
       "3"
      ]
     },
     "execution_count": 3,
     "metadata": {},
     "output_type": "execute_result"
    }
   ],
   "source": [
    "list_a[0] + list_a[1]  # 1 + 2"
   ]
  },
  {
   "cell_type": "code",
   "execution_count": 8,
   "id": "046b3277",
   "metadata": {},
   "outputs": [
    {
     "data": {
      "text/plain": [
       "4"
      ]
     },
     "execution_count": 8,
     "metadata": {},
     "output_type": "execute_result"
    }
   ],
   "source": [
    "list_a[-1]  # -를 붙이면 뒤에서 부터"
   ]
  },
  {
   "cell_type": "code",
   "execution_count": 9,
   "id": "da4d1816",
   "metadata": {},
   "outputs": [
    {
     "data": {
      "text/plain": [
       "2"
      ]
     },
     "execution_count": 9,
     "metadata": {},
     "output_type": "execute_result"
    }
   ],
   "source": [
    "len(list_a)-1  # N-1"
   ]
  },
  {
   "cell_type": "code",
   "execution_count": 11,
   "id": "9ec0cad6",
   "metadata": {},
   "outputs": [
    {
     "data": {
      "text/plain": [
       "4"
      ]
     },
     "execution_count": 11,
     "metadata": {},
     "output_type": "execute_result"
    }
   ],
   "source": [
    "list_a[ len(list_a)-1 ]  # N-1"
   ]
  },
  {
   "cell_type": "code",
   "execution_count": 12,
   "id": "a97ca2ba",
   "metadata": {},
   "outputs": [],
   "source": [
    "list_b = [1, 2, 3, ['a','b','c']]\n",
    "#         0  1  2        3\n",
    "#        [int, int, int, list]"
   ]
  },
  {
   "cell_type": "code",
   "execution_count": 14,
   "id": "192a704e",
   "metadata": {},
   "outputs": [
    {
     "data": {
      "text/plain": [
       "4"
      ]
     },
     "execution_count": 14,
     "metadata": {},
     "output_type": "execute_result"
    }
   ],
   "source": [
    "len(list_b)"
   ]
  },
  {
   "cell_type": "code",
   "execution_count": 17,
   "id": "5b27de1a",
   "metadata": {},
   "outputs": [
    {
     "name": "stdout",
     "output_type": "stream",
     "text": [
      "1\n",
      "2\n",
      "3\n",
      "['a', 'b', 'c']\n",
      "a b c\n"
     ]
    }
   ],
   "source": [
    "print(list_b[0])\n",
    "print(list_b[1])\n",
    "print(list_b[2])\n",
    "print(list_b[3])  #list\n",
    "print(list_b[3][0], list_b[3][1], list_b[3][2])\n",
    "#     list를 가르키는 주소값[index]"
   ]
  },
  {
   "cell_type": "code",
   "execution_count": 19,
   "id": "536f8a12",
   "metadata": {},
   "outputs": [],
   "source": [
    "# 슬라이싱\n",
    "list_c = [1, 2, 3, 4, 5]\n",
    "#         0  1  2  3  4"
   ]
  },
  {
   "cell_type": "code",
   "execution_count": 20,
   "id": "8d185f62",
   "metadata": {},
   "outputs": [
    {
     "data": {
      "text/plain": [
       "[1, 2, 3, 4, 5]"
      ]
     },
     "execution_count": 20,
     "metadata": {},
     "output_type": "execute_result"
    }
   ],
   "source": [
    "list_c[1:4]\n",
    "list_c[:4]    # list_c[0:4]\n",
    "list_c[1:]    # list_c[1:5]\n",
    "list_c"
   ]
  },
  {
   "cell_type": "code",
   "execution_count": 21,
   "id": "0e605049",
   "metadata": {},
   "outputs": [],
   "source": [
    "list_d = [100,200,300]"
   ]
  },
  {
   "cell_type": "code",
   "execution_count": 24,
   "id": "9c593c8a",
   "metadata": {},
   "outputs": [
    {
     "data": {
      "text/plain": [
       "[100, 200, 300]"
      ]
     },
     "execution_count": 24,
     "metadata": {},
     "output_type": "execute_result"
    }
   ],
   "source": [
    "list_c\n",
    "list_d\n",
    "list_c + list_d   # 새로운 리스트 생성\n",
    "list_d + list_c   # 새로운 리스트 생성\n",
    "list_c\n",
    "list_d"
   ]
  },
  {
   "cell_type": "code",
   "execution_count": 25,
   "id": "fd5b4ff6",
   "metadata": {},
   "outputs": [
    {
     "data": {
      "text/plain": [
       "[100, 200, 300, 100, 200, 300, 100, 200, 300]"
      ]
     },
     "execution_count": 25,
     "metadata": {},
     "output_type": "execute_result"
    }
   ],
   "source": [
    "# * : 리스트의 요소를 n번 반복해서 저장 -> 새로운 리스트\n",
    "list_d * 3"
   ]
  },
  {
   "cell_type": "code",
   "execution_count": 49,
   "id": "1acd7769",
   "metadata": {},
   "outputs": [],
   "source": [
    "# 리스트에 요소(데이터) 추가 : 순서 => 마지막 인덱스 다음데 데이터 추가\n",
    "# append() : 메서드\n",
    "list_a = [1, 2, 3]"
   ]
  },
  {
   "cell_type": "code",
   "execution_count": 39,
   "id": "fce120aa",
   "metadata": {},
   "outputs": [],
   "source": [
    "list_a.append(100)\n",
    "# 객체(list)"
   ]
  },
  {
   "cell_type": "code",
   "execution_count": 50,
   "id": "3634c922",
   "metadata": {},
   "outputs": [
    {
     "data": {
      "text/plain": [
       "1"
      ]
     },
     "execution_count": 50,
     "metadata": {},
     "output_type": "execute_result"
    }
   ],
   "source": [
    "# pop : 마지막 요소 추출 -> 삭제, 값을 반환\n",
    "# list_a.pop()\n",
    "list_a.pop(0)"
   ]
  },
  {
   "cell_type": "code",
   "execution_count": 51,
   "id": "72f6e792",
   "metadata": {},
   "outputs": [
    {
     "data": {
      "text/plain": [
       "[2, 3]"
      ]
     },
     "execution_count": 51,
     "metadata": {},
     "output_type": "execute_result"
    }
   ],
   "source": [
    "list_a"
   ]
  },
  {
   "cell_type": "code",
   "execution_count": 52,
   "id": "cab3fedb",
   "metadata": {},
   "outputs": [],
   "source": [
    "list_a = [1, 4, 9, 2, 10]"
   ]
  },
  {
   "cell_type": "code",
   "execution_count": 54,
   "id": "84e5fc6a",
   "metadata": {},
   "outputs": [],
   "source": [
    "list_a.sort()"
   ]
  },
  {
   "cell_type": "code",
   "execution_count": 55,
   "id": "de50d0a1",
   "metadata": {},
   "outputs": [
    {
     "data": {
      "text/plain": [
       "[1, 2, 4, 9, 10]"
      ]
     },
     "execution_count": 55,
     "metadata": {},
     "output_type": "execute_result"
    }
   ],
   "source": [
    "list_a  # 정렬"
   ]
  },
  {
   "cell_type": "code",
   "execution_count": 56,
   "id": "d7e8b31b",
   "metadata": {},
   "outputs": [
    {
     "data": {
      "text/plain": [
       "[10, 9, 4, 2, 1]"
      ]
     },
     "execution_count": 56,
     "metadata": {},
     "output_type": "execute_result"
    }
   ],
   "source": [
    "list_a.reverse()  # 역정렬\n",
    "list_a"
   ]
  },
  {
   "cell_type": "code",
   "execution_count": 60,
   "id": "4a37f808",
   "metadata": {},
   "outputs": [
    {
     "data": {
      "text/plain": [
       "2"
      ]
     },
     "execution_count": 60,
     "metadata": {},
     "output_type": "execute_result"
    }
   ],
   "source": [
    "list_a.index(4)"
   ]
  },
  {
   "cell_type": "code",
   "execution_count": 61,
   "id": "a877f59f",
   "metadata": {},
   "outputs": [],
   "source": [
    "list_a.insert(1, 100)"
   ]
  },
  {
   "cell_type": "code",
   "execution_count": 62,
   "id": "4b159a45",
   "metadata": {},
   "outputs": [
    {
     "data": {
      "text/plain": [
       "[10, 100, 9, 4, 2, 1]"
      ]
     },
     "execution_count": 62,
     "metadata": {},
     "output_type": "execute_result"
    }
   ],
   "source": [
    "list_a"
   ]
  },
  {
   "cell_type": "code",
   "execution_count": 63,
   "id": "b4ef86e1",
   "metadata": {},
   "outputs": [],
   "source": [
    "list_a.extend(list_d)"
   ]
  },
  {
   "cell_type": "code",
   "execution_count": 64,
   "id": "0e13a5ab",
   "metadata": {},
   "outputs": [
    {
     "data": {
      "text/plain": [
       "[10, 100, 9, 4, 2, 1, 100, 200, 300]"
      ]
     },
     "execution_count": 64,
     "metadata": {},
     "output_type": "execute_result"
    }
   ],
   "source": [
    "list_a"
   ]
  },
  {
   "cell_type": "code",
   "execution_count": 65,
   "id": "7bcbea2a",
   "metadata": {},
   "outputs": [
    {
     "name": "stdout",
     "output_type": "stream",
     "text": [
      "<class 'tuple'>\n"
     ]
    }
   ],
   "source": [
    "# tuple : list와 동일\n",
    "# 단, 요소(데이터) 변경은 불가능 -> 데이터 안전하게 유지\n",
    "t_1 = ()\n",
    "print(type(t_1))"
   ]
  },
  {
   "cell_type": "code",
   "execution_count": 66,
   "id": "c8328f21",
   "metadata": {},
   "outputs": [],
   "source": [
    "t_2 = (1)"
   ]
  },
  {
   "cell_type": "code",
   "execution_count": 67,
   "id": "622b9517",
   "metadata": {},
   "outputs": [
    {
     "data": {
      "text/plain": [
       "1"
      ]
     },
     "execution_count": 67,
     "metadata": {},
     "output_type": "execute_result"
    }
   ],
   "source": [
    "t_2"
   ]
  },
  {
   "cell_type": "code",
   "execution_count": 68,
   "id": "6bf6228a",
   "metadata": {},
   "outputs": [],
   "source": [
    "t_2 = (1,2,3,4)\n",
    "t_3 = 10,20,30,40"
   ]
  },
  {
   "cell_type": "code",
   "execution_count": 69,
   "id": "9eb57c1a",
   "metadata": {},
   "outputs": [
    {
     "data": {
      "text/plain": [
       "tuple"
      ]
     },
     "execution_count": 69,
     "metadata": {},
     "output_type": "execute_result"
    }
   ],
   "source": [
    "type(t_3)"
   ]
  },
  {
   "cell_type": "code",
   "execution_count": 71,
   "id": "bb69838d",
   "metadata": {},
   "outputs": [
    {
     "data": {
      "text/plain": [
       "1"
      ]
     },
     "execution_count": 71,
     "metadata": {},
     "output_type": "execute_result"
    }
   ],
   "source": [
    "t_2[0]"
   ]
  },
  {
   "cell_type": "code",
   "execution_count": 72,
   "id": "28f27d7a",
   "metadata": {},
   "outputs": [
    {
     "data": {
      "text/plain": [
       "10"
      ]
     },
     "execution_count": 72,
     "metadata": {},
     "output_type": "execute_result"
    }
   ],
   "source": [
    "t_3[0]"
   ]
  },
  {
   "cell_type": "code",
   "execution_count": 73,
   "id": "0c8f8f8b",
   "metadata": {},
   "outputs": [
    {
     "ename": "TypeError",
     "evalue": "'tuple' object does not support item assignment",
     "output_type": "error",
     "traceback": [
      "\u001b[31m---------------------------------------------------------------------------\u001b[39m",
      "\u001b[31mTypeError\u001b[39m                                 Traceback (most recent call last)",
      "\u001b[36mCell\u001b[39m\u001b[36m \u001b[39m\u001b[32mIn[73]\u001b[39m\u001b[32m, line 1\u001b[39m\n\u001b[32m----> \u001b[39m\u001b[32m1\u001b[39m \u001b[43mt_2\u001b[49m\u001b[43m[\u001b[49m\u001b[32;43m0\u001b[39;49m\u001b[43m]\u001b[49m = \u001b[32m100\u001b[39m\n",
      "\u001b[31mTypeError\u001b[39m: 'tuple' object does not support item assignment"
     ]
    }
   ],
   "source": [
    "t_2[0] = 100"
   ]
  },
  {
   "cell_type": "code",
   "execution_count": 74,
   "id": "abb79f5d",
   "metadata": {},
   "outputs": [
    {
     "ename": "TypeError",
     "evalue": "'tuple' object doesn't support item deletion",
     "output_type": "error",
     "traceback": [
      "\u001b[31m---------------------------------------------------------------------------\u001b[39m",
      "\u001b[31mTypeError\u001b[39m                                 Traceback (most recent call last)",
      "\u001b[36mCell\u001b[39m\u001b[36m \u001b[39m\u001b[32mIn[74]\u001b[39m\u001b[32m, line 1\u001b[39m\n\u001b[32m----> \u001b[39m\u001b[32m1\u001b[39m \u001b[38;5;28;01mdel\u001b[39;00m \u001b[43mt_2\u001b[49m\u001b[43m[\u001b[49m\u001b[32;43m0\u001b[39;49m\u001b[43m]\u001b[49m\n",
      "\u001b[31mTypeError\u001b[39m: 'tuple' object doesn't support item deletion"
     ]
    }
   ],
   "source": [
    "del t_2[0]"
   ]
  },
  {
   "cell_type": "code",
   "execution_count": 75,
   "id": "1b0a4a38",
   "metadata": {},
   "outputs": [
    {
     "data": {
      "text/plain": [
       "(20, 30)"
      ]
     },
     "execution_count": 75,
     "metadata": {},
     "output_type": "execute_result"
    }
   ],
   "source": [
    "t_3[1:3]"
   ]
  },
  {
   "cell_type": "code",
   "execution_count": 79,
   "id": "c3a367f5",
   "metadata": {},
   "outputs": [],
   "source": [
    "a, b, c = 1000, 2000, 3000   # 특정함수에서 반환 데이터 tuple 타입"
   ]
  },
  {
   "cell_type": "code",
   "execution_count": 78,
   "id": "f75c74bb",
   "metadata": {},
   "outputs": [
    {
     "name": "stdout",
     "output_type": "stream",
     "text": [
      "1000 2000 3000\n"
     ]
    }
   ],
   "source": [
    "print(a, b, c)"
   ]
  },
  {
   "cell_type": "code",
   "execution_count": 80,
   "id": "63726d82",
   "metadata": {},
   "outputs": [
    {
     "data": {
      "text/plain": [
       "(1, 2, 3, 4, 10, 20, 30, 40)"
      ]
     },
     "execution_count": 80,
     "metadata": {},
     "output_type": "execute_result"
    }
   ],
   "source": [
    "t_2 + t_3"
   ]
  },
  {
   "cell_type": "code",
   "execution_count": 81,
   "id": "7fee0de8",
   "metadata": {},
   "outputs": [
    {
     "data": {
      "text/plain": [
       "(1, 2, 3, 4, 1, 2, 3, 4, 1, 2, 3, 4)"
      ]
     },
     "execution_count": 81,
     "metadata": {},
     "output_type": "execute_result"
    }
   ],
   "source": [
    "t_2 * 3"
   ]
  },
  {
   "cell_type": "code",
   "execution_count": 83,
   "id": "6cde7b36",
   "metadata": {},
   "outputs": [
    {
     "data": {
      "text/plain": [
       "dict"
      ]
     },
     "execution_count": 83,
     "metadata": {},
     "output_type": "execute_result"
    }
   ],
   "source": [
    "# 딕셔너리 : key : value => key 값으로 데이터를 참조\n",
    "# { key1:value1, key2:value2, .... }\n",
    "dict_1 = {}\n",
    "type(dict_1)"
   ]
  },
  {
   "cell_type": "code",
   "execution_count": 84,
   "id": "cde8aa3e",
   "metadata": {},
   "outputs": [
    {
     "name": "stdout",
     "output_type": "stream",
     "text": [
      "{1: 'a'}\n",
      "<class 'dict'>\n"
     ]
    }
   ],
   "source": [
    "dict_2 = {1 : 'a'}\n",
    "print(dict_2)\n",
    "print(type(dict_2))"
   ]
  },
  {
   "cell_type": "code",
   "execution_count": 85,
   "id": "c8be8f0a",
   "metadata": {},
   "outputs": [
    {
     "data": {
      "text/plain": [
       "{1: 'a', 2: 'b'}"
      ]
     },
     "execution_count": 85,
     "metadata": {},
     "output_type": "execute_result"
    }
   ],
   "source": [
    "# 요소값 추가 => key 정의, 값 정의\n",
    "dict_2[2] = 'b'\n",
    "dict_2"
   ]
  },
  {
   "cell_type": "code",
   "execution_count": 89,
   "id": "ea667d27",
   "metadata": {},
   "outputs": [],
   "source": [
    "dict_2[3] = (1,2,3)"
   ]
  },
  {
   "cell_type": "code",
   "execution_count": null,
   "id": "15a459c6",
   "metadata": {},
   "outputs": [],
   "source": [
    "del dict_2[3]  # 딕셔너리 삭제"
   ]
  },
  {
   "cell_type": "code",
   "execution_count": 91,
   "id": "bae2dfe2",
   "metadata": {},
   "outputs": [
    {
     "data": {
      "text/plain": [
       "{1: 'a', 2: 'b'}"
      ]
     },
     "execution_count": 91,
     "metadata": {},
     "output_type": "execute_result"
    }
   ],
   "source": [
    "dict_2"
   ]
  },
  {
   "cell_type": "code",
   "execution_count": null,
   "id": "0fe215d8",
   "metadata": {},
   "outputs": [],
   "source": [
    "# 학생 : 학번, 이름, 학년, 학과 => 데이터의 구조화\n",
    "student_1 = {\n",
    "    's_no' : 1111,\n",
    "    's_name' : 'KING',\n",
    "    'grade' : 4,\n",
    "    'majer' : 'COM'\n",
    "}"
   ]
  },
  {
   "cell_type": "code",
   "execution_count": 94,
   "id": "9aaa4529",
   "metadata": {},
   "outputs": [
    {
     "data": {
      "text/plain": [
       "'COM'"
      ]
     },
     "execution_count": 94,
     "metadata": {},
     "output_type": "execute_result"
    }
   ],
   "source": [
    "student_1['majer']"
   ]
  },
  {
   "cell_type": "code",
   "execution_count": 95,
   "id": "50470050",
   "metadata": {},
   "outputs": [],
   "source": [
    "player = {\n",
    "    'team' : 'TO', \n",
    "    'name' : 'SON',\n",
    "    'number' : 7\n",
    "}"
   ]
  },
  {
   "cell_type": "code",
   "execution_count": 96,
   "id": "5ec741b1",
   "metadata": {},
   "outputs": [
    {
     "data": {
      "text/plain": [
       "dict_keys(['team', 'name', 'number'])"
      ]
     },
     "execution_count": 96,
     "metadata": {},
     "output_type": "execute_result"
    }
   ],
   "source": [
    "player.keys()"
   ]
  },
  {
   "cell_type": "code",
   "execution_count": 97,
   "id": "6b22a1c7",
   "metadata": {},
   "outputs": [
    {
     "data": {
      "text/plain": [
       "['team', 'name', 'number']"
      ]
     },
     "execution_count": 97,
     "metadata": {},
     "output_type": "execute_result"
    }
   ],
   "source": [
    "list(player.keys())"
   ]
  },
  {
   "cell_type": "code",
   "execution_count": 98,
   "id": "794b4f7b",
   "metadata": {},
   "outputs": [
    {
     "data": {
      "text/plain": [
       "dict_values(['TO', 'SON', 7])"
      ]
     },
     "execution_count": 98,
     "metadata": {},
     "output_type": "execute_result"
    }
   ],
   "source": [
    "player.values()"
   ]
  },
  {
   "cell_type": "code",
   "execution_count": 99,
   "id": "d6cdaee8",
   "metadata": {},
   "outputs": [
    {
     "data": {
      "text/plain": [
       "['TO', 'SON', 7]"
      ]
     },
     "execution_count": 99,
     "metadata": {},
     "output_type": "execute_result"
    }
   ],
   "source": [
    "list(player.values())"
   ]
  },
  {
   "cell_type": "code",
   "execution_count": 104,
   "id": "8da210fa",
   "metadata": {},
   "outputs": [
    {
     "data": {
      "text/plain": [
       "False"
      ]
     },
     "execution_count": 104,
     "metadata": {},
     "output_type": "execute_result"
    }
   ],
   "source": [
    "'age' in player"
   ]
  },
  {
   "cell_type": "code",
   "execution_count": 101,
   "id": "77a87b9a",
   "metadata": {},
   "outputs": [
    {
     "data": {
      "text/plain": [
       "True"
      ]
     },
     "execution_count": 101,
     "metadata": {},
     "output_type": "execute_result"
    }
   ],
   "source": [
    "'name' in player"
   ]
  },
  {
   "cell_type": "code",
   "execution_count": 105,
   "id": "918cbcce",
   "metadata": {},
   "outputs": [
    {
     "data": {
      "text/plain": [
       "dict_items([('team', 'TO'), ('name', 'SON'), ('number', 7)])"
      ]
     },
     "execution_count": 105,
     "metadata": {},
     "output_type": "execute_result"
    }
   ],
   "source": [
    "player.items()"
   ]
  },
  {
   "cell_type": "code",
   "execution_count": 106,
   "id": "05708015",
   "metadata": {},
   "outputs": [],
   "source": [
    "list_temp = list(player.items())"
   ]
  },
  {
   "cell_type": "code",
   "execution_count": 107,
   "id": "53b72dc2",
   "metadata": {},
   "outputs": [
    {
     "data": {
      "text/plain": [
       "'TO'"
      ]
     },
     "execution_count": 107,
     "metadata": {},
     "output_type": "execute_result"
    }
   ],
   "source": [
    "list_temp[0][1]"
   ]
  },
  {
   "cell_type": "code",
   "execution_count": 108,
   "id": "999047ab",
   "metadata": {},
   "outputs": [
    {
     "data": {
      "text/plain": [
       "[('team', 'TO'), ('name', 'SON'), ('number', 7)]"
      ]
     },
     "execution_count": 108,
     "metadata": {},
     "output_type": "execute_result"
    }
   ],
   "source": [
    "list_temp"
   ]
  },
  {
   "cell_type": "code",
   "execution_count": 109,
   "id": "0e44aaf6",
   "metadata": {},
   "outputs": [
    {
     "data": {
      "text/plain": [
       "'SON'"
      ]
     },
     "execution_count": 109,
     "metadata": {},
     "output_type": "execute_result"
    }
   ],
   "source": [
    "player['name']"
   ]
  },
  {
   "cell_type": "code",
   "execution_count": 110,
   "id": "b2e92bc8",
   "metadata": {},
   "outputs": [
    {
     "ename": "KeyError",
     "evalue": "'pos'",
     "output_type": "error",
     "traceback": [
      "\u001b[31m---------------------------------------------------------------------------\u001b[39m",
      "\u001b[31mKeyError\u001b[39m                                  Traceback (most recent call last)",
      "\u001b[36mCell\u001b[39m\u001b[36m \u001b[39m\u001b[32mIn[110]\u001b[39m\u001b[32m, line 1\u001b[39m\n\u001b[32m----> \u001b[39m\u001b[32m1\u001b[39m \u001b[43mplayer\u001b[49m\u001b[43m[\u001b[49m\u001b[33;43m'\u001b[39;49m\u001b[33;43mpos\u001b[39;49m\u001b[33;43m'\u001b[39;49m\u001b[43m]\u001b[49m\n",
      "\u001b[31mKeyError\u001b[39m: 'pos'"
     ]
    }
   ],
   "source": [
    "player['pos']"
   ]
  },
  {
   "cell_type": "code",
   "execution_count": 111,
   "id": "9276cb8f",
   "metadata": {},
   "outputs": [
    {
     "data": {
      "text/plain": [
       "'SON'"
      ]
     },
     "execution_count": 111,
     "metadata": {},
     "output_type": "execute_result"
    }
   ],
   "source": [
    "player.get('name')"
   ]
  },
  {
   "cell_type": "code",
   "execution_count": 112,
   "id": "02f0c925",
   "metadata": {},
   "outputs": [],
   "source": [
    "player.get('pos')"
   ]
  },
  {
   "cell_type": "code",
   "execution_count": 113,
   "id": "97c03b02",
   "metadata": {},
   "outputs": [],
   "source": [
    "pos = player.get('pos')"
   ]
  },
  {
   "cell_type": "code",
   "execution_count": 114,
   "id": "043ffb80",
   "metadata": {},
   "outputs": [
    {
     "name": "stdout",
     "output_type": "stream",
     "text": [
      "None\n"
     ]
    }
   ],
   "source": [
    "print(pos)"
   ]
  },
  {
   "cell_type": "code",
   "execution_count": 116,
   "id": "754221a8",
   "metadata": {},
   "outputs": [],
   "source": [
    "pos1 = player.get('pos', 'no pos')"
   ]
  },
  {
   "cell_type": "code",
   "execution_count": 117,
   "id": "86df5ee2",
   "metadata": {},
   "outputs": [
    {
     "name": "stdout",
     "output_type": "stream",
     "text": [
      "no pos\n"
     ]
    }
   ],
   "source": [
    "print(pos1)"
   ]
  },
  {
   "cell_type": "code",
   "execution_count": 118,
   "id": "2ccce45e",
   "metadata": {},
   "outputs": [
    {
     "data": {
      "text/plain": [
       "{1, 2, 3, 4, 5}"
      ]
     },
     "execution_count": 118,
     "metadata": {},
     "output_type": "execute_result"
    }
   ],
   "source": [
    "# set : 집합 => 중복 x, 순서x, 집합 연산 사용\n",
    "s_1 = set([1,2,3,4,1,2,5])\n",
    "s_1"
   ]
  },
  {
   "cell_type": "code",
   "execution_count": 140,
   "id": "4f6d5f57",
   "metadata": {},
   "outputs": [
    {
     "data": {
      "text/plain": [
       "{1, 2, 3, 4, 5, 6, 7, 8}"
      ]
     },
     "execution_count": 140,
     "metadata": {},
     "output_type": "execute_result"
    }
   ],
   "source": [
    "set_2 "
   ]
  },
  {
   "cell_type": "code",
   "execution_count": 120,
   "id": "57b1ef99",
   "metadata": {},
   "outputs": [],
   "source": [
    "set_2 = set([1,2,3,4,5,6])\n",
    "set_3 = set([4,5,6,7,8,9])"
   ]
  },
  {
   "cell_type": "code",
   "execution_count": 121,
   "id": "a6e36074",
   "metadata": {},
   "outputs": [
    {
     "name": "stdout",
     "output_type": "stream",
     "text": [
      "[1, 2, 3, 4, 5]\n"
     ]
    }
   ],
   "source": [
    "list_1 = list(s_1)\n",
    "print(list_1)"
   ]
  },
  {
   "cell_type": "code",
   "execution_count": 124,
   "id": "dd806214",
   "metadata": {},
   "outputs": [
    {
     "name": "stdout",
     "output_type": "stream",
     "text": [
      "{4, 5, 6}\n",
      "{1, 2, 3, 4, 5, 6, 7, 8, 9}\n",
      "{1, 2, 3}\n"
     ]
    }
   ],
   "source": [
    "print(set_2 & set_3)\n",
    "print(set_2 | set_3)\n",
    "print(set_2 - set_3)"
   ]
  },
  {
   "cell_type": "code",
   "execution_count": 131,
   "id": "d0d5de99",
   "metadata": {},
   "outputs": [],
   "source": [
    "# set 에서 데이터 추가(중복 데이터 입력 X) 삭제\n",
    "set_2.add(7)"
   ]
  },
  {
   "cell_type": "code",
   "execution_count": null,
   "id": "0b5b26bb",
   "metadata": {},
   "outputs": [],
   "source": [
    "set_2.remove(7)   # 삭제"
   ]
  },
  {
   "cell_type": "code",
   "execution_count": 133,
   "id": "500bafaa",
   "metadata": {},
   "outputs": [
    {
     "data": {
      "text/plain": [
       "{1, 2, 3, 4, 5, 6}"
      ]
     },
     "execution_count": 133,
     "metadata": {},
     "output_type": "execute_result"
    }
   ],
   "source": [
    "set_2"
   ]
  },
  {
   "cell_type": "code",
   "execution_count": 138,
   "id": "be5e6c55",
   "metadata": {},
   "outputs": [],
   "source": [
    "set_2.update([1,1,3,4,7,8])"
   ]
  },
  {
   "cell_type": "code",
   "execution_count": 139,
   "id": "57bb5cef",
   "metadata": {},
   "outputs": [
    {
     "data": {
      "text/plain": [
       "{1, 2, 3, 4, 5, 6, 7, 8}"
      ]
     },
     "execution_count": 139,
     "metadata": {},
     "output_type": "execute_result"
    }
   ],
   "source": [
    "set_2"
   ]
  },
  {
   "cell_type": "code",
   "execution_count": null,
   "id": "58280fc6",
   "metadata": {},
   "outputs": [],
   "source": [
    "환영합니다~ 게임을"
   ]
  },
  {
   "cell_type": "code",
   "execution_count": 143,
   "id": "fd0f0385",
   "metadata": {},
   "outputs": [
    {
     "name": "stdout",
     "output_type": "stream",
     "text": [
      "홀수\n"
     ]
    }
   ],
   "source": [
    "# 홀수 짝수 판단 => 숫자%2 : 1->홀수, 0->짝수\n",
    "num = 9\n",
    "\n",
    "if num%2 == 0 :\n",
    "    print('짝수')\n",
    "else :\n",
    "    print('홀수')"
   ]
  },
  {
   "cell_type": "code",
   "execution_count": 148,
   "id": "44d1a129",
   "metadata": {},
   "outputs": [
    {
     "name": "stdout",
     "output_type": "stream",
     "text": [
      "음수\n"
     ]
    }
   ],
   "source": [
    "# 양수 +, => num1 > 0\n",
    "# 음수 -, => num1 < 0\n",
    "# 0 => num == 0 => num1이 0보다 작지도 않고 크지도 않다\n",
    "\n",
    "num1 = -1\n",
    "if num1 > 0 :\n",
    "    print('양수')\n",
    "else :\n",
    "    if num1 < 0 :\n",
    "        print('음수')\n",
    "    else :\n",
    "        print(0)"
   ]
  },
  {
   "cell_type": "code",
   "execution_count": 147,
   "id": "84a67561",
   "metadata": {},
   "outputs": [
    {
     "name": "stdout",
     "output_type": "stream",
     "text": [
      "0\n"
     ]
    }
   ],
   "source": [
    "num1 = 0\n",
    "if num1 > 0 :\n",
    "    print('양수')\n",
    "elif num1 < 0 :\n",
    "    print('음수')\n",
    "else : \n",
    "    print(0)"
   ]
  },
  {
   "cell_type": "code",
   "execution_count": 153,
   "id": "062f567c",
   "metadata": {},
   "outputs": [
    {
     "name": "stdout",
     "output_type": "stream",
     "text": [
      "FAIL\n"
     ]
    }
   ],
   "source": [
    "# 운전면허 시험\n",
    "score = 65\n",
    "check_msg = 'PASS' if score >= 80 else 'FAIL'\n",
    "print(check_msg)"
   ]
  },
  {
   "cell_type": "code",
   "execution_count": 154,
   "id": "17ae89a2",
   "metadata": {},
   "outputs": [
    {
     "name": "stdout",
     "output_type": "stream",
     "text": [
      "FAIL\n"
     ]
    }
   ],
   "source": [
    "check_msg = 'PASS'\n",
    "if score < 80 :\n",
    "    check_msg = 'FAIL'\n",
    "\n",
    "print(check_msg)"
   ]
  },
  {
   "cell_type": "code",
   "execution_count": 156,
   "id": "af439130",
   "metadata": {},
   "outputs": [
    {
     "name": "stdout",
     "output_type": "stream",
     "text": [
      "구윤지 <class 'str'>\n"
     ]
    }
   ],
   "source": [
    "# 표준 출력 함수 => print()\n",
    "# 표준 입력 함수 => input()\n",
    "user_name = input('이름을 입력하세요!')\n",
    "print(user_name, type(user_name))"
   ]
  },
  {
   "cell_type": "code",
   "execution_count": 159,
   "id": "a87d5a87",
   "metadata": {},
   "outputs": [
    {
     "name": "stdout",
     "output_type": "stream",
     "text": [
      "26 <class 'str'> 1999\n"
     ]
    }
   ],
   "source": [
    "# 표준 출력 함수 => print()\n",
    "# 표준 입력 함수 => input()\n",
    "user_name = input('나이를 입력하세요!')\n",
    "print(user_name, type(user_name), 2025-int(user_name))"
   ]
  },
  {
   "cell_type": "code",
   "execution_count": 166,
   "id": "52b39d1c",
   "metadata": {},
   "outputs": [
    {
     "name": "stdout",
     "output_type": "stream",
     "text": [
      "무료예방접종 가능\n"
     ]
    }
   ],
   "source": [
    "# 독감 예방 접종이 가능한지 여부를 확인하는 프로그램\n",
    "# 15세 미만 혹은 65세 이상의 경우 무료예방접종 가능메세지 출력\n",
    "\n",
    "user_age = int(input('나이를 입력하세요!'))\n",
    "\n",
    "if user_age < 15 or user_age >= 65 :\n",
    "    print(\"무료예방접종 가능\")\n",
    "else :\n",
    "    print(\"무료예방접종 불가능\")"
   ]
  },
  {
   "cell_type": "code",
   "execution_count": 168,
   "id": "b0d18435",
   "metadata": {},
   "outputs": [
    {
     "name": "stdout",
     "output_type": "stream",
     "text": [
      "대상자 아님\n"
     ]
    }
   ],
   "source": [
    "age = 16\n",
    "\n",
    "medical_msg = '대상자 아님'\n",
    "\n",
    "if age < 15 or age >= 65 : \n",
    "    medical_msg = '대상자'\n",
    "\n",
    "print(medical_msg)"
   ]
  },
  {
   "cell_type": "code",
   "execution_count": 170,
   "id": "70794c28",
   "metadata": {},
   "outputs": [
    {
     "name": "stdout",
     "output_type": "stream",
     "text": [
      "대상자\n"
     ]
    }
   ],
   "source": [
    "age = 77\n",
    "\n",
    "medical_msg = '대상자' if age < 15 or age >= 65 else '대상자 아님'\n",
    "print(medical_msg)"
   ]
  },
  {
   "cell_type": "code",
   "execution_count": 173,
   "id": "44fd9e7d",
   "metadata": {},
   "outputs": [
    {
     "name": "stdout",
     "output_type": "stream",
     "text": [
      "1\n",
      "2\n",
      "3\n",
      "4\n",
      "5\n"
     ]
    }
   ],
   "source": [
    "# 반복문 : while condition(True/False) :\n",
    "# 조건식을 통해서 반복 -> 탈출이 가능해야한다!\n",
    "cnt = 0\n",
    "\n",
    "while cnt < 5 :\n",
    "    cnt = cnt + 1  # 1 2 3 4 5\n",
    "    print(cnt)"
   ]
  },
  {
   "cell_type": "code",
   "execution_count": 177,
   "id": "7fd2e02c",
   "metadata": {},
   "outputs": [
    {
     "name": "stdout",
     "output_type": "stream",
     "text": [
      "1\n",
      "3\n",
      "5\n",
      "7\n",
      "9\n"
     ]
    }
   ],
   "source": [
    "# (if) 1~10 까지 출력, 홀수만 출력\n",
    "cnt = 0\n",
    "while cnt < 10 :\n",
    "    cnt += 1  # cnt = cnt + 1\n",
    "    if cnt%2 == 1 :\n",
    "        print(cnt)"
   ]
  },
  {
   "cell_type": "code",
   "execution_count": 178,
   "id": "716d03d9",
   "metadata": {},
   "outputs": [
    {
     "name": "stdout",
     "output_type": "stream",
     "text": [
      "2\n",
      "4\n",
      "6\n",
      "8\n",
      "10\n"
     ]
    }
   ],
   "source": [
    "# (continue) 1~10 까지 출력, 짝수만 출력\n",
    "cnt = 0\n",
    "while cnt < 10 :\n",
    "    cnt += 1\n",
    "\n",
    "    if cnt%2 == 1:  # 0으로 하면 나머지가 없으므로 홀수 출력력\n",
    "        continue\n",
    "\n",
    "    print(cnt)"
   ]
  },
  {
   "cell_type": "code",
   "execution_count": 179,
   "id": "974ba993",
   "metadata": {},
   "outputs": [],
   "source": [
    "list_a = [1,2,3,4,5,100,200,300]"
   ]
  },
  {
   "cell_type": "code",
   "execution_count": 180,
   "id": "83cd69f9",
   "metadata": {},
   "outputs": [
    {
     "name": "stdout",
     "output_type": "stream",
     "text": [
      "1\n",
      "2\n",
      "3\n",
      "4\n",
      "5\n",
      "100\n",
      "200\n",
      "300\n"
     ]
    }
   ],
   "source": [
    "for i in list_a :\n",
    "    print(i)"
   ]
  },
  {
   "cell_type": "code",
   "execution_count": 181,
   "id": "efdc2a83",
   "metadata": {},
   "outputs": [],
   "source": [
    "list_b = [(1,2), (3,4), (5,6)]"
   ]
  },
  {
   "cell_type": "code",
   "execution_count": 182,
   "id": "4e7d2697",
   "metadata": {},
   "outputs": [
    {
     "name": "stdout",
     "output_type": "stream",
     "text": [
      "1 2\n",
      "3 4\n",
      "5 6\n"
     ]
    }
   ],
   "source": [
    "for n1, n2 in list_b :\n",
    "    print(n1, n2)"
   ]
  },
  {
   "cell_type": "code",
   "execution_count": 204,
   "id": "9337718a",
   "metadata": {},
   "outputs": [
    {
     "name": "stdout",
     "output_type": "stream",
     "text": [
      "1 80 PASS\n",
      "2 50 FAIL\n",
      "3 70 PASS\n",
      "4 100 PASS\n",
      "5 55 FAIL\n",
      "총점 : 355\n",
      "평균 : 71.0\n"
     ]
    }
   ],
   "source": [
    "# 5명의 학생이 영어 시험 => 60점 이상 pass 출력\n",
    "# 5명의 영어점수 총점, 평균\n",
    "\n",
    "scores = [80, 50, 70, 100, 55]\n",
    "num = 0     # 학생 리스트의 일렬번호\n",
    "sum = 0     # 총점\n",
    "\n",
    "for score in scores :\n",
    "    # 학생의 점수를 비교해서 : pass, fail\n",
    "    # 리스트의 일련번호 출력 : num = num + 1(반복x)\n",
    "    num = num + 1\n",
    "    sum = sum + score\n",
    "    avg = sum/len(scores)\n",
    "    \n",
    "    #print(num, score)\n",
    "\n",
    "    if score >= 60 :\n",
    "        print(num, score, 'PASS')\n",
    "    else :\n",
    "        print(num, score, 'FAIL')\n",
    "\n",
    "print('총점 :', sum)\n",
    "print('평균 :', avg)\n",
    "    "
   ]
  },
  {
   "cell_type": "code",
   "execution_count": 205,
   "id": "deb1127a",
   "metadata": {},
   "outputs": [],
   "source": [
    "# range 함수 : 일렬 번호 생성\n",
    "nums_1 = range(10)  # 0 ~ 10-1"
   ]
  },
  {
   "cell_type": "code",
   "execution_count": 207,
   "id": "fc17c090",
   "metadata": {},
   "outputs": [
    {
     "name": "stdout",
     "output_type": "stream",
     "text": [
      "0, 1, 2, 3, 4, 5, 6, 7, 8, 9, "
     ]
    }
   ],
   "source": [
    "for num in nums_1:\n",
    "    print(num, end=', ')"
   ]
  },
  {
   "cell_type": "code",
   "execution_count": 208,
   "id": "e5206e70",
   "metadata": {},
   "outputs": [
    {
     "name": "stdout",
     "output_type": "stream",
     "text": [
      "3 4 5 6 7 "
     ]
    }
   ],
   "source": [
    "for num in range(3, 8) :  #3, 4, 5, 6, 7\n",
    "    print(num, end=' ')"
   ]
  },
  {
   "cell_type": "code",
   "execution_count": 210,
   "id": "e6784376",
   "metadata": {},
   "outputs": [
    {
     "name": "stdout",
     "output_type": "stream",
     "text": [
      "2 4 6 8 10 "
     ]
    }
   ],
   "source": [
    "for num in range(2, 11, 2) :  # (시작 숫자, 끝숫자+1, 띄우기)\n",
    "    print(num, end=' ')"
   ]
  },
  {
   "cell_type": "code",
   "execution_count": 214,
   "id": "3eb829ea",
   "metadata": {},
   "outputs": [
    {
     "name": "stdout",
     "output_type": "stream",
     "text": [
      "2 단\n",
      "2X1=2 2X2=4 2X3=6 2X4=8 2X5=10 2X6=12 2X7=14 2X8=16 2X9=18 \n",
      "3 단\n",
      "3X1=3 3X2=6 3X3=9 3X4=12 3X5=15 3X6=18 3X7=21 3X8=24 3X9=27 \n",
      "4 단\n",
      "4X1=4 4X2=8 4X3=12 4X4=16 4X5=20 4X6=24 4X7=28 4X8=32 4X9=36 \n",
      "5 단\n",
      "5X1=5 5X2=10 5X3=15 5X4=20 5X5=25 5X6=30 5X7=35 5X8=40 5X9=45 \n",
      "6 단\n",
      "6X1=6 6X2=12 6X3=18 6X4=24 6X5=30 6X6=36 6X7=42 6X8=48 6X9=54 \n",
      "7 단\n",
      "7X1=7 7X2=14 7X3=21 7X4=28 7X5=35 7X6=42 7X7=49 7X8=56 7X9=63 \n",
      "8 단\n",
      "8X1=8 8X2=16 8X3=24 8X4=32 8X5=40 8X6=48 8X7=56 8X8=64 8X9=72 \n",
      "9 단\n",
      "9X1=9 9X2=18 9X3=27 9X4=36 9X5=45 9X6=54 9X7=63 9X8=72 9X9=81 \n"
     ]
    }
   ],
   "source": [
    "# 구구단 : 2~9단 => 2~9\n",
    "# 각 단 : X 1 ~ X 9 => 1~9\n",
    "for dan in range(2, 10):\n",
    "    print(f'{dan} 단')\n",
    "    for i in range(1, 10):\n",
    "        print(f'{dan}X{i}={dan*i}', end=' ')\n",
    "    print()"
   ]
  },
  {
   "cell_type": "code",
   "execution_count": 215,
   "id": "bdf84436",
   "metadata": {},
   "outputs": [
    {
     "name": "stdout",
     "output_type": "stream",
     "text": [
      "2 단\n",
      "2X1=2 2X2=4 2X3=6 2X4=8 2X5=10 2X6=12 2X7=14 2X8=16 2X9=18 \n",
      "4 단\n",
      "4X1=4 4X2=8 4X3=12 4X4=16 4X5=20 4X6=24 4X7=28 4X8=32 4X9=36 \n",
      "6 단\n",
      "6X1=6 6X2=12 6X3=18 6X4=24 6X5=30 6X6=36 6X7=42 6X8=48 6X9=54 \n",
      "8 단\n",
      "8X1=8 8X2=16 8X3=24 8X4=32 8X5=40 8X6=48 8X7=56 8X8=64 8X9=72 \n"
     ]
    }
   ],
   "source": [
    "# 구구단 : 2~9단 => 2~9\n",
    "# 각 단 : X 1 ~ X 9 => 1~9\n",
    "for dan in range(2, 10, 2):\n",
    "    print(f'{dan} 단')\n",
    "    for i in range(1, 10):\n",
    "        print(f'{dan}X{i}={dan*i}', end=' ')\n",
    "    print()"
   ]
  },
  {
   "cell_type": "code",
   "execution_count": 216,
   "id": "68080d94",
   "metadata": {},
   "outputs": [],
   "source": [
    "# 리스트의 컴프리헨션\n",
    "# [표현식 for 변수 in list if 조건식(변수)]"
   ]
  },
  {
   "cell_type": "code",
   "execution_count": 6,
   "id": "4f4dd2d7",
   "metadata": {},
   "outputs": [
    {
     "name": "stdout",
     "output_type": "stream",
     "text": [
      "[3, 9]\n"
     ]
    }
   ],
   "source": [
    "list_2 = [1, 2, 3, 4]\n",
    "\n",
    "# 결과 리스트\n",
    "list_result = []\n",
    "for num in list_2:\n",
    "    if num%2==1:\n",
    "        list_result.append(num * 3)\n",
    "\n",
    "print(list_result)"
   ]
  },
  {
   "cell_type": "code",
   "execution_count": 7,
   "id": "a06f28be",
   "metadata": {},
   "outputs": [
    {
     "name": "stdout",
     "output_type": "stream",
     "text": [
      "[3, 6, 9, 12]\n"
     ]
    }
   ],
   "source": [
    "list_2 = [1,2,3,4]\n",
    "\n",
    "# 결과 리스트\n",
    "list_result = []\n",
    "for num in list_2:\n",
    "    list_result.append(num*3)\n",
    "\n",
    "print(list_result)"
   ]
  },
  {
   "cell_type": "code",
   "execution_count": 3,
   "id": "3a59f7a6",
   "metadata": {},
   "outputs": [
    {
     "name": "stdout",
     "output_type": "stream",
     "text": [
      "[3, 9]\n"
     ]
    }
   ],
   "source": [
    "list_result_2 = [num*3 for num in list_2 if num%2==1]\n",
    "print(list_result_2)"
   ]
  },
  {
   "cell_type": "code",
   "execution_count": 4,
   "id": "869998d7",
   "metadata": {},
   "outputs": [
    {
     "name": "stdout",
     "output_type": "stream",
     "text": [
      "[3, 6, 9, 12]\n"
     ]
    }
   ],
   "source": [
    "list_result_1 = [num*3 for num in list_2]\n",
    "print(list_result_1)"
   ]
  },
  {
   "cell_type": "markdown",
   "id": "f779d441",
   "metadata": {},
   "source": [
    "### 특정 연도 건강검진 대상 여부 판별 및 검진 종류 확인\n",
    "- 매개변수로 올해 연도와 태어난 해(연도)를 전달받음\n",
    "- 대한민국 성인(20세)의 경우 무료로 2년마다 건강검진을 받을 수 있음\n",
    "- 짝수 해에 태어난 사람은 올해 짝수년이라면 검사 대상이 됨\n",
    "- 40 이상의 경우는 암 검사도 무료로 검사를 할 수 있음"
   ]
  },
  {
   "cell_type": "code",
   "execution_count": 11,
   "id": "2769caaf",
   "metadata": {},
   "outputs": [
    {
     "name": "stdout",
     "output_type": "stream",
     "text": [
      "건강검진 대상이 아닙니다.\n"
     ]
    }
   ],
   "source": [
    "year = int(input('올해 년도를 입력하시오.'))\n",
    "year_birth = int(input('출생생년도를 입력하시오.'))\n",
    "\n",
    "age = year - year_birth\n",
    "\n",
    "if age < 20:\n",
    "    print(\"건강검진 대상이 아닙니다.\")\n",
    "else:\n",
    "    if(year%2 == 0 and year_birth%2 == 0) or (year%2 == 1 and year_birth%2 == 1) :\n",
    "        print(\"건강검진 대상입니다.\")\n",
    "\n",
    "        if age >= 40 :\n",
    "            print(\"암 검진 대상입니다.\")\n",
    "        else :\n",
    "            print(\"암 검진 대상이 아닙니다.\")\n",
    "\n",
    "    else :\n",
    "        print(\"건강검진 대상이 아닙니다.\")"
   ]
  },
  {
   "cell_type": "code",
   "execution_count": 18,
   "id": "8243ab6e",
   "metadata": {},
   "outputs": [
    {
     "name": "stdout",
     "output_type": "stream",
     "text": [
      "2 단\n",
      "2X1=2 2X2=4 \n",
      "4 단\n",
      "4X1=4 4X2=8 4X3=12 4X4=16 \n",
      "6 단\n",
      "6X1=6 6X2=12 6X3=18 6X4=24 6X5=30 6X6=36 \n",
      "8 단\n",
      "8X1=8 8X2=16 8X3=24 8X4=32 8X5=40 8X6=48 8X7=56 8X8=64 \n"
     ]
    }
   ],
   "source": [
    "# 구구단의 짝수 단(2,4,6,8)만 출력하는 프로그램 작성\n",
    "# 단, 2단은 2x2, 4단은 4x4, 6단은 6x6, 8단은 8x8까지 출력\n",
    "\n",
    "for dan in range(2, 9, 2):\n",
    "    print(f'{dan} 단')\n",
    "    for i in range(1, dan + 1):\n",
    "        print(f'{dan}X{i}={dan*i}', end=' ')\n",
    "    print()"
   ]
  },
  {
   "cell_type": "code",
   "execution_count": 17,
   "id": "48494f08",
   "metadata": {},
   "outputs": [
    {
     "name": "stdout",
     "output_type": "stream",
     "text": [
      "56까지 더했을 때 합이 1000이 넘습니다.\n",
      "1000이 넘어선 값은1055입니다.\n"
     ]
    }
   ],
   "source": [
    "# while문을 무한 루프로 구성하여 작성하는 예제\n",
    "# 1부터 시작해서 모든 짝수와 3의 배수를 더해서 그 합이 언제 1000을 넘어서는지,\n",
    "# 그리고 1000이 넘어선 값은 얼마가 되는지 계산하여 출력\n",
    "\n",
    "num = 1\n",
    "sum = 0\n",
    "\n",
    "while True :\n",
    "    # 짝수와 3의 배수를 더함\n",
    "    if num % 2 == 0 or num % 3 == 0 :\n",
    "        sum = sum + num\n",
    "\n",
    "    # 합이 1000을 넘으면 break\n",
    "    if sum > 1000 :\n",
    "        print(f\"{num}까지 더했을 때 합이 1000이 넘습니다.\")\n",
    "        print(f\"1000이 넘어선 값은{sum}입니다.\")\n",
    "        break\n",
    "\n",
    "    # 반복 진행\n",
    "    num += 1  "
   ]
  },
  {
   "cell_type": "code",
   "execution_count": 2,
   "id": "33ce35e8",
   "metadata": {},
   "outputs": [
    {
     "name": "stdout",
     "output_type": "stream",
     "text": [
      "sum: 4950\n"
     ]
    }
   ],
   "source": [
    "# 1부터 100까지의 합을 구하는 프로그램\n",
    "sum = 0\n",
    "for i in range(1,100) :\n",
    "    sum = sum + i\n",
    "\n",
    "print('sum:', sum)"
   ]
  },
  {
   "cell_type": "markdown",
   "id": "652889f0",
   "metadata": {},
   "source": [
    "### 함수 2025.06.11"
   ]
  },
  {
   "cell_type": "code",
   "execution_count": 4,
   "id": "46453263",
   "metadata": {},
   "outputs": [],
   "source": [
    "# 함수 : 데이터를 받고 처리(연산)하고 결과를 반환하는 코드들의 묶음\n",
    "#       -> 호출을 통해 코드를 실행\n",
    "# 중복코드를 줄일 수 있다. => 유지보수, 관리가 수월해진다\n",
    "# def 함수이름(매개변수, 매개변수, ....)\n",
    "#   처리작업 코드들...\n",
    "#   return 값(data : 파이썬에서 제공하는 타입의 모든 데이터)"
   ]
  },
  {
   "cell_type": "code",
   "execution_count": null,
   "id": "0dd8f0f1",
   "metadata": {},
   "outputs": [],
   "source": [
    "# 함수정의\n",
    "# 숫자 두개를 받아  => 매개변수 : 선택사항\n",
    "# 덧셈연산을 하고   => 내부 처리 작업\n",
    "# 결과 값을 반환    => 반환 값\n",
    "def add(n1, n2) : # 함수 정의 : 이름, 매개변수\n",
    "    result = n1 + n2 # 연산, 처리, 작업\n",
    "    return result # 결과 값 반환"
   ]
  },
  {
   "cell_type": "code",
   "execution_count": 8,
   "id": "6d7299a9",
   "metadata": {},
   "outputs": [
    {
     "name": "stdout",
     "output_type": "stream",
     "text": [
      "<class 'function'>\n"
     ]
    }
   ],
   "source": [
    "print(type(add))"
   ]
  },
  {
   "cell_type": "code",
   "execution_count": 9,
   "id": "4085e8c4",
   "metadata": {},
   "outputs": [
    {
     "data": {
      "text/plain": [
       "30"
      ]
     },
     "execution_count": 9,
     "metadata": {},
     "output_type": "execute_result"
    }
   ],
   "source": [
    "add(10, 20)  # 호출 : 이름과 괄호()안에 매개변수가 받을 수 있는 데이터를 함께 전달"
   ]
  },
  {
   "cell_type": "code",
   "execution_count": 11,
   "id": "b460d171",
   "metadata": {},
   "outputs": [
    {
     "data": {
      "text/plain": [
       "6"
      ]
     },
     "execution_count": 11,
     "metadata": {},
     "output_type": "execute_result"
    }
   ],
   "source": [
    "add(1, 5)"
   ]
  },
  {
   "cell_type": "code",
   "execution_count": 17,
   "id": "a931b68f",
   "metadata": {},
   "outputs": [],
   "source": [
    "# 매개변수가 없는 함수\n",
    "def alert_msg() :\n",
    "    # ....\n",
    "    return '''\n",
    "안녕하세요. \n",
    "회원님. \n",
    "감사합니다.\n",
    "    '''\n",
    "    return msg"
   ]
  },
  {
   "cell_type": "code",
   "execution_count": 18,
   "id": "fa028495",
   "metadata": {},
   "outputs": [
    {
     "name": "stdout",
     "output_type": "stream",
     "text": [
      "\n",
      "안녕하세요. \n",
      "회원님. \n",
      "감사합니다.\n",
      "    \n"
     ]
    }
   ],
   "source": [
    "print(alert_msg())"
   ]
  },
  {
   "cell_type": "code",
   "execution_count": 19,
   "id": "9a37c199",
   "metadata": {},
   "outputs": [],
   "source": [
    "# 매개변수를 있고, 반환값이 없는 함수\n",
    "# 숫자 두개를 받아 \n",
    "# 덧셈연산의 결과를 출력하는 함수\n",
    "\n",
    "def add_print(n1, n2):\n",
    "    result = n1 + n2\n",
    "    print(f'{n1}+{n2}={n1+n2}')"
   ]
  },
  {
   "cell_type": "code",
   "execution_count": 20,
   "id": "9a781e78",
   "metadata": {},
   "outputs": [
    {
     "name": "stdout",
     "output_type": "stream",
     "text": [
      "10+20=30\n"
     ]
    }
   ],
   "source": [
    "add_print(10, 20)"
   ]
  },
  {
   "cell_type": "code",
   "execution_count": 21,
   "id": "3fa16be5",
   "metadata": {},
   "outputs": [
    {
     "name": "stdout",
     "output_type": "stream",
     "text": [
      "10+200=210\n"
     ]
    }
   ],
   "source": [
    "result_add_print = add_print(10, 200)"
   ]
  },
  {
   "cell_type": "code",
   "execution_count": 23,
   "id": "2e7f24e8",
   "metadata": {},
   "outputs": [
    {
     "name": "stdout",
     "output_type": "stream",
     "text": [
      "None\n"
     ]
    }
   ],
   "source": [
    "print(result_add_print)"
   ]
  },
  {
   "cell_type": "code",
   "execution_count": 24,
   "id": "c489c1e1",
   "metadata": {},
   "outputs": [],
   "source": [
    "# 매개변수도 없고, 반환도 없는 함수\n",
    "def display_menu():\n",
    "    menu = '''\n",
    "1. 아메리카노\n",
    "2. 라떼\n",
    "3. 에스프레소\n",
    "'''\n",
    "    print(menu)"
   ]
  },
  {
   "cell_type": "code",
   "execution_count": 25,
   "id": "fa3634e6",
   "metadata": {},
   "outputs": [
    {
     "name": "stdout",
     "output_type": "stream",
     "text": [
      "\n",
      "1. 아메리카노\n",
      "2. 라떼\n",
      "3. 에스프레소\n",
      "\n"
     ]
    }
   ],
   "source": [
    "display_menu()"
   ]
  },
  {
   "cell_type": "code",
   "execution_count": 27,
   "id": "92ed4060",
   "metadata": {},
   "outputs": [
    {
     "data": {
      "text/plain": [
       "5"
      ]
     },
     "execution_count": 27,
     "metadata": {},
     "output_type": "execute_result"
    }
   ],
   "source": [
    "len('hello')"
   ]
  },
  {
   "cell_type": "code",
   "execution_count": null,
   "id": "eacf3e28",
   "metadata": {},
   "outputs": [],
   "source": []
  },
  {
   "cell_type": "code",
   "execution_count": 31,
   "id": "e11b87e5",
   "metadata": {},
   "outputs": [
    {
     "name": "stdout",
     "output_type": "stream",
     "text": [
      "KING\thello\thi~!!\n"
     ]
    }
   ],
   "source": [
    "print('KING', \"hello\", sep='\\t', end='\\t')\n",
    "print('hi~!!')"
   ]
  },
  {
   "cell_type": "code",
   "execution_count": null,
   "id": "33878229",
   "metadata": {},
   "outputs": [],
   "source": [
    "# 매개변수가 여러개인데 몇개인지 몰라???!!!! 네 몰라요\n",
    "print('king')\n",
    "print(1,2,3,4,5)"
   ]
  },
  {
   "cell_type": "code",
   "execution_count": 35,
   "id": "03e927d1",
   "metadata": {},
   "outputs": [],
   "source": [
    "# 매개변수에서 전달되는 숫자들(몇개?)을\n",
    "# 모두 더한 값을\n",
    "# 반환 하는 함수\n",
    "\n",
    "def add_sum(*args) :\n",
    "    print(type(args))\n",
    "    print(args)\n",
    "    sum = 0\n",
    "    for num in args :\n",
    "        sum += num\n",
    "    return sum"
   ]
  },
  {
   "cell_type": "code",
   "execution_count": null,
   "id": "a43853b2",
   "metadata": {},
   "outputs": [],
   "source": []
  },
  {
   "cell_type": "code",
   "execution_count": 34,
   "id": "db3ecb32",
   "metadata": {},
   "outputs": [
    {
     "name": "stdout",
     "output_type": "stream",
     "text": [
      "<class 'tuple'>\n"
     ]
    }
   ],
   "source": [
    "add_sum(1,2,3,4,5,6)"
   ]
  },
  {
   "cell_type": "code",
   "execution_count": 39,
   "id": "3020827c",
   "metadata": {},
   "outputs": [],
   "source": [
    "def add_type(type, *args):\n",
    "    add_type('add', 1,2,3,4,5)\n",
    "def add_type(*args, type):\n",
    "    add_type('add', 1,2,3,4,5, 'add')"
   ]
  },
  {
   "cell_type": "code",
   "execution_count": 41,
   "id": "7b8d66fc",
   "metadata": {},
   "outputs": [],
   "source": [
    "# 연산의 타입을 전달 받고 전달되는 숫자들을\n",
    "# 연산한 결과를\n",
    "# 반환하는 함수\n",
    "# def add_type(*args, type):\n",
    "\n",
    "def add_type(type, *args):\n",
    "    #add, mul\n",
    "    if type=='add':\n",
    "        result = 0\n",
    "        for num in args:\n",
    "            result += num\n",
    "        return result\n",
    "    elif type=='mul':\n",
    "        result = 1\n",
    "        for num in args:\n",
    "            result *= num\n",
    "        return result\n",
    "    else :\n",
    "        print('사용가능한 타입을 입력해주세요!')"
   ]
  },
  {
   "cell_type": "code",
   "execution_count": 42,
   "id": "7690025d",
   "metadata": {},
   "outputs": [
    {
     "name": "stdout",
     "output_type": "stream",
     "text": [
      "사용가능한 타입을 입력해주세요!\n"
     ]
    }
   ],
   "source": [
    "add_type('add', 1,2,3,4,5,6,7,8,9)\n",
    "add_type('mul', 1,2,3,4)\n",
    "add_type('sub', 1,2,3,4)"
   ]
  },
  {
   "cell_type": "code",
   "execution_count": 52,
   "id": "ea88bc6e",
   "metadata": {},
   "outputs": [],
   "source": [
    "def print_args(**args):\n",
    "    print(args)\n",
    "    print(type(args))\n",
    "    return args"
   ]
  },
  {
   "cell_type": "code",
   "execution_count": 53,
   "id": "41b15159",
   "metadata": {},
   "outputs": [
    {
     "name": "stdout",
     "output_type": "stream",
     "text": [
      "{'name': '손흥민', 'age': 20}\n",
      "<class 'dict'>\n"
     ]
    },
    {
     "data": {
      "text/plain": [
       "{'name': '손흥민', 'age': 20}"
      ]
     },
     "execution_count": 53,
     "metadata": {},
     "output_type": "execute_result"
    }
   ],
   "source": [
    "print_args(name='손흥민',age=20)"
   ]
  },
  {
   "cell_type": "code",
   "execution_count": null,
   "id": "0f67caa1",
   "metadata": {},
   "outputs": [],
   "source": [
    "player1 = {\n",
    "    'name' : '손흥민',\n",
    "    'age' : 20\n",
    "}"
   ]
  },
  {
   "cell_type": "code",
   "execution_count": null,
   "id": "73af2f89",
   "metadata": {},
   "outputs": [],
   "source": []
  },
  {
   "cell_type": "code",
   "execution_count": 55,
   "id": "5c7bd215",
   "metadata": {},
   "outputs": [
    {
     "name": "stdout",
     "output_type": "stream",
     "text": [
      "{'name': '메시', 'age': 30}\n",
      "<class 'dict'>\n"
     ]
    }
   ],
   "source": [
    "player2 = print_args(name='메시',age=30)"
   ]
  },
  {
   "cell_type": "code",
   "execution_count": 58,
   "id": "ade1580f",
   "metadata": {},
   "outputs": [
    {
     "ename": "NameError",
     "evalue": "name 'palyer1' is not defined",
     "output_type": "error",
     "traceback": [
      "\u001b[31m---------------------------------------------------------------------------\u001b[39m",
      "\u001b[31mNameError\u001b[39m                                 Traceback (most recent call last)",
      "\u001b[36mCell\u001b[39m\u001b[36m \u001b[39m\u001b[32mIn[58]\u001b[39m\u001b[32m, line 1\u001b[39m\n\u001b[32m----> \u001b[39m\u001b[32m1\u001b[39m \u001b[38;5;28mprint\u001b[39m(\u001b[43mpalyer1\u001b[49m)\n\u001b[32m      2\u001b[39m \u001b[38;5;28mprint\u001b[39m(palyer2)\n",
      "\u001b[31mNameError\u001b[39m: name 'palyer1' is not defined"
     ]
    }
   ],
   "source": [
    "print(palyer1)\n",
    "print(palyer2)"
   ]
  },
  {
   "cell_type": "code",
   "execution_count": 59,
   "id": "3cee71f6",
   "metadata": {},
   "outputs": [],
   "source": [
    "def add_mul_return(n1, n2):\n",
    "    add_result = n1 + n2\n",
    "    mul_result = n1 * n2\n",
    "    return (add_result, mul_result)"
   ]
  },
  {
   "cell_type": "code",
   "execution_count": 60,
   "id": "f9584708",
   "metadata": {},
   "outputs": [
    {
     "name": "stdout",
     "output_type": "stream",
     "text": [
      "30 200\n"
     ]
    }
   ],
   "source": [
    "result1, result2 = add_mul_return(10,20)\n",
    "print(result1, result2)"
   ]
  },
  {
   "cell_type": "code",
   "execution_count": 61,
   "id": "eade0ad8",
   "metadata": {},
   "outputs": [],
   "source": [
    "# 이름, 나이, 성별 받아서 출력 함수\n",
    "def say_hi(name, age, gender=True) : # Gender=True => 여성\n",
    "    print(f'안녕하세요. 저는 {name}입니다. 나이는 {age} 입니다.')\n",
    "    if gender :\n",
    "        print('여성입니다.')\n",
    "    else :\n",
    "        print('남성입니다.')"
   ]
  },
  {
   "cell_type": "code",
   "execution_count": 63,
   "id": "d639af97",
   "metadata": {},
   "outputs": [
    {
     "name": "stdout",
     "output_type": "stream",
     "text": [
      "안녕하세요. 저는 king입니다. 나이는 20 입니다.\n",
      "남성입니다.\n"
     ]
    }
   ],
   "source": [
    "say_hi('king', 20, False)"
   ]
  },
  {
   "cell_type": "code",
   "execution_count": 65,
   "id": "24920549",
   "metadata": {},
   "outputs": [],
   "source": [
    "# 변수의 사용 범위\n",
    "\n",
    "a = 1\n",
    "\n",
    "def var_test(a):\n",
    "    print('함수 내부의 a : ', a)"
   ]
  },
  {
   "cell_type": "code",
   "execution_count": 66,
   "id": "5be1190c",
   "metadata": {},
   "outputs": [
    {
     "name": "stdout",
     "output_type": "stream",
     "text": [
      "함수 내부의 a :  10\n"
     ]
    }
   ],
   "source": [
    "var_test(10)"
   ]
  },
  {
   "cell_type": "code",
   "execution_count": 67,
   "id": "62fbcef5",
   "metadata": {},
   "outputs": [
    {
     "name": "stdout",
     "output_type": "stream",
     "text": [
      "1\n"
     ]
    }
   ],
   "source": [
    "print(a)"
   ]
  },
  {
   "cell_type": "code",
   "execution_count": 73,
   "id": "2d821050",
   "metadata": {},
   "outputs": [],
   "source": [
    "def var_test2():\n",
    "    global a\n",
    "    a = a + 1\n",
    "    print(a)"
   ]
  },
  {
   "cell_type": "code",
   "execution_count": 74,
   "id": "27dba587",
   "metadata": {},
   "outputs": [
    {
     "name": "stdout",
     "output_type": "stream",
     "text": [
      "2\n"
     ]
    }
   ],
   "source": [
    "var_test2()"
   ]
  },
  {
   "cell_type": "code",
   "execution_count": 75,
   "id": "0f26b4d8",
   "metadata": {},
   "outputs": [
    {
     "name": "stdout",
     "output_type": "stream",
     "text": [
      "2\n"
     ]
    }
   ],
   "source": [
    "print(a)"
   ]
  },
  {
   "cell_type": "code",
   "execution_count": 77,
   "id": "95043183",
   "metadata": {},
   "outputs": [],
   "source": [
    "# lambda 함수 => 한줄로 간단하게 표현하는 함수 표현식\n",
    "# 함수이름 = lambda arg1, arg2 ... ; 연산\n",
    "# 숫자 두개를 전달받아 덧셈한 결과를 반환하는 함수\n",
    "add3 = lambda n1, n2 : n1+n2"
   ]
  },
  {
   "cell_type": "code",
   "execution_count": 78,
   "id": "67fd886e",
   "metadata": {},
   "outputs": [
    {
     "data": {
      "text/plain": [
       "110"
      ]
     },
     "execution_count": 78,
     "metadata": {},
     "output_type": "execute_result"
    }
   ],
   "source": [
    "add3(100, 10)"
   ]
  },
  {
   "cell_type": "code",
   "execution_count": 79,
   "id": "b9da9d95",
   "metadata": {},
   "outputs": [
    {
     "data": {
      "text/plain": [
       "function"
      ]
     },
     "execution_count": 79,
     "metadata": {},
     "output_type": "execute_result"
    }
   ],
   "source": [
    "type(add3)"
   ]
  },
  {
   "cell_type": "code",
   "execution_count": 81,
   "id": "d6e1ed4e",
   "metadata": {},
   "outputs": [],
   "source": [
    "# 내장함수 : 파이썬 설치 -> 기본으로 제공하는 함수\n",
    "st_names = ['king', 'cool', 'hot', 'scott']"
   ]
  },
  {
   "cell_type": "code",
   "execution_count": 82,
   "id": "5396be71",
   "metadata": {},
   "outputs": [
    {
     "name": "stdout",
     "output_type": "stream",
     "text": [
      "0 king\n",
      "1 cool\n",
      "2 hot\n",
      "3 scott\n"
     ]
    }
   ],
   "source": [
    "# 학생들의 index 값을 함께 출력\n",
    "num = 0\n",
    "for name in st_names:\n",
    "    print(num, name)\n",
    "    num += 1"
   ]
  },
  {
   "cell_type": "code",
   "execution_count": 86,
   "id": "d77b53af",
   "metadata": {},
   "outputs": [
    {
     "name": "stdout",
     "output_type": "stream",
     "text": [
      "0 king\n",
      "1 cool\n",
      "2 hot\n",
      "3 scott\n"
     ]
    }
   ],
   "source": [
    "for index, name in enumerate(st_names):\n",
    "    print(index, name)"
   ]
  },
  {
   "cell_type": "code",
   "execution_count": 87,
   "id": "707defc0",
   "metadata": {},
   "outputs": [
    {
     "name": "stdout",
     "output_type": "stream",
     "text": [
      "10 king\n",
      "11 cool\n",
      "12 hot\n",
      "13 scott\n"
     ]
    }
   ],
   "source": [
    "for index, name in enumerate(st_names, start=10):\n",
    "    print(index, name)"
   ]
  },
  {
   "cell_type": "code",
   "execution_count": 99,
   "id": "b8343447",
   "metadata": {},
   "outputs": [],
   "source": [
    "# filter : 필터링(매개변수로 전달되는 함수 : 요소값을 판단해서 논리값 반환)을 통해 새로운 리스트를 생성 반환\n",
    "# filter(fn, itr)\n",
    "def positive(l) :\n",
    "    result = []\n",
    "    for n in l :\n",
    "        if n > 0 :\n",
    "            result.append(n)\n",
    "    return result"
   ]
  },
  {
   "cell_type": "code",
   "execution_count": 100,
   "id": "9a8fe247",
   "metadata": {},
   "outputs": [
    {
     "data": {
      "text/plain": [
       "[3, 1, 9, 10, 4]"
      ]
     },
     "execution_count": 100,
     "metadata": {},
     "output_type": "execute_result"
    }
   ],
   "source": [
    "positive([3, 1, -1, -3, 0, 9, 10, 4])"
   ]
  },
  {
   "cell_type": "code",
   "execution_count": 109,
   "id": "6ac8ea86",
   "metadata": {},
   "outputs": [],
   "source": [
    "# filter\n",
    "# 판별함수\n",
    "def positive_fn(x):\n",
    "    return x > 0"
   ]
  },
  {
   "cell_type": "code",
   "execution_count": 110,
   "id": "7b10d20c",
   "metadata": {},
   "outputs": [
    {
     "data": {
      "text/plain": [
       "[3, 1, 9, 10, 4]"
      ]
     },
     "execution_count": 110,
     "metadata": {},
     "output_type": "execute_result"
    }
   ],
   "source": [
    "list(filter(positive_fn, [3, 1, -1, -3, 0, 9, 10, 4]))"
   ]
  },
  {
   "cell_type": "code",
   "execution_count": 111,
   "id": "26b026b8",
   "metadata": {},
   "outputs": [],
   "source": [
    "def pos_fn2(x):\n",
    "    return x%2 == 1"
   ]
  },
  {
   "cell_type": "code",
   "execution_count": 112,
   "id": "fe42b04a",
   "metadata": {},
   "outputs": [
    {
     "data": {
      "text/plain": [
       "[3, 1, -1, -3, 9]"
      ]
     },
     "execution_count": 112,
     "metadata": {},
     "output_type": "execute_result"
    }
   ],
   "source": [
    "list(filter(pos_fn2, [3, 1, -1, -3, 0, 9, 10, 4]))"
   ]
  },
  {
   "cell_type": "code",
   "execution_count": 113,
   "id": "7e59a07f",
   "metadata": {},
   "outputs": [
    {
     "data": {
      "text/plain": [
       "[3, 1, 9, 10, 4]"
      ]
     },
     "execution_count": 113,
     "metadata": {},
     "output_type": "execute_result"
    }
   ],
   "source": [
    "list(filter(lambda x : x > 0, [3, 1, -1, -3, 0, 9, 10, 4]))"
   ]
  },
  {
   "cell_type": "code",
   "execution_count": 114,
   "id": "f906dd65",
   "metadata": {},
   "outputs": [
    {
     "data": {
      "text/plain": [
       "[3, 1, -1, -3, 9]"
      ]
     },
     "execution_count": 114,
     "metadata": {},
     "output_type": "execute_result"
    }
   ],
   "source": [
    "list(filter(lambda x : x%2==1 > 0, [3, 1, -1, -3, 0, 9, 10, 4]))"
   ]
  },
  {
   "cell_type": "code",
   "execution_count": 116,
   "id": "da5d2f8f",
   "metadata": {},
   "outputs": [
    {
     "data": {
      "text/plain": [
       "[2, 4, 6, 8, 10]"
      ]
     },
     "execution_count": 116,
     "metadata": {},
     "output_type": "execute_result"
    }
   ],
   "source": [
    "list(map(lambda x: x*2, [1,2,3,4,5]))"
   ]
  },
  {
   "cell_type": "code",
   "execution_count": 117,
   "id": "9a74089c",
   "metadata": {},
   "outputs": [
    {
     "data": {
      "text/plain": [
       "[10, 20, 30, 40, 50]"
      ]
     },
     "execution_count": 117,
     "metadata": {},
     "output_type": "execute_result"
    }
   ],
   "source": [
    "list(map(lambda x: x*10, [1,2,3,4,5]))"
   ]
  },
  {
   "cell_type": "code",
   "execution_count": null,
   "id": "24f68600",
   "metadata": {},
   "outputs": [],
   "source": []
  },
  {
   "cell_type": "code",
   "execution_count": 119,
   "id": "d3a42821",
   "metadata": {},
   "outputs": [],
   "source": [
    "# 파이썬의 입출력(자원)\n",
    "# 표준 입출력 => input, print\n",
    "# 텍스트 파일(자원) :입출력 I/O\n",
    "# 파일 단위 입출력 : open(자원의경로, 모드) 모드 => r(read), w(write), a(append)\n",
    "f = open('new_text.txt', 'w')\n",
    "f.close()"
   ]
  },
  {
   "cell_type": "code",
   "execution_count": 121,
   "id": "b736bcd2",
   "metadata": {},
   "outputs": [],
   "source": [
    "f = open('new_text.txt', 'w') #1. 파일오픈 : w\n",
    "f.write('안녕하세요!! 반갑습니다.') #2. 텍스트 쓰기\n",
    "f.close()"
   ]
  },
  {
   "cell_type": "code",
   "execution_count": 125,
   "id": "851c6a8d",
   "metadata": {},
   "outputs": [],
   "source": [
    "f = open('new_text.txt', 'w')\n",
    "for i in range(1, 11):\n",
    "    f.write(f'{i}번째 줄 입력 \\n')\n",
    "f.close()"
   ]
  },
  {
   "cell_type": "code",
   "execution_count": 128,
   "id": "b8b3c374",
   "metadata": {},
   "outputs": [
    {
     "name": "stdout",
     "output_type": "stream",
     "text": [
      "1번째 줄 입력 \n",
      "\n",
      "2번째 줄 입력 \n",
      "\n"
     ]
    }
   ],
   "source": [
    "# 파일 내용 읽어오기\n",
    "f = open('new_text.txt', 'r') # 1. 파일 열고, Read -> r\n",
    "line1 = f.readline()\n",
    "print(line1)\n",
    "line2 = f.readline()\n",
    "print(line2)\n",
    "f.close()"
   ]
  },
  {
   "cell_type": "code",
   "execution_count": 129,
   "id": "8a946b71",
   "metadata": {},
   "outputs": [
    {
     "name": "stdout",
     "output_type": "stream",
     "text": [
      "1번째 줄 입력 \n",
      "2번째 줄 입력 \n",
      "3번째 줄 입력 \n",
      "4번째 줄 입력 \n",
      "5번째 줄 입력 \n",
      "6번째 줄 입력 \n",
      "7번째 줄 입력 \n",
      "8번째 줄 입력 \n",
      "9번째 줄 입력 \n",
      "10번째 줄 입력 \n"
     ]
    }
   ],
   "source": [
    "# 파일 내용 읽어오기\n",
    "f = open('new_text.txt', 'r') # 1. 파일 열고, Read -> r\n",
    "\n",
    "while 1:\n",
    "    line = f.readline()\n",
    "    if not line:\n",
    "        break\n",
    "    print(line, end='')\n",
    "\n",
    "f.close()"
   ]
  },
  {
   "cell_type": "code",
   "execution_count": null,
   "id": "f7f0016e",
   "metadata": {},
   "outputs": [
    {
     "name": "stdout",
     "output_type": "stream",
     "text": [
      "['1번째 줄 입력 \\n', '2번째 줄 입력 \\n', '3번째 줄 입력 \\n', '4번째 줄 입력 \\n', '5번째 줄 입력 \\n', '6번째 줄 입력 \\n', '7번째 줄 입력 \\n', '8번째 줄 입력 \\n', '9번째 줄 입력 \\n', '10번째 줄 입력 \\n']\n",
      "1번째 줄 입력 \n",
      "2번째 줄 입력 \n",
      "3번째 줄 입력 \n",
      "4번째 줄 입력 \n",
      "5번째 줄 입력 \n",
      "6번째 줄 입력 \n",
      "7번째 줄 입력 \n",
      "8번째 줄 입력 \n",
      "9번째 줄 입력 \n",
      "10번째 줄 입력 \n"
     ]
    },
    {
     "data": {
      "text/plain": [
       "<function TextIOWrapper.close()>"
      ]
     },
     "execution_count": 131,
     "metadata": {},
     "output_type": "execute_result"
    }
   ],
   "source": [
    "f = open('new_text.txt', 'r')\n",
    "lines = f.readlines()\n",
    "print(lines)\n",
    "for line in lines:\n",
    "    print(line, end='')\n",
    "f.close"
   ]
  },
  {
   "cell_type": "code",
   "execution_count": 132,
   "id": "e10294fc",
   "metadata": {},
   "outputs": [],
   "source": [
    "# append : 데이터 추가\n",
    "f = open('new_text.txt', 'a')\n",
    "f.write('새로운 행이 추가됩니다.')\n",
    "f.close()"
   ]
  },
  {
   "cell_type": "code",
   "execution_count": 137,
   "id": "88bd08ab",
   "metadata": {},
   "outputs": [],
   "source": [
    "# append : 데이터 추가\n",
    "f = open('new_text.txt', 'a')\n",
    "for i in range(16, 21):\n",
    "    f.write(f'새로운 행{i}이 추가됩니다. \\n')\n",
    "f.close()"
   ]
  },
  {
   "cell_type": "code",
   "execution_count": 139,
   "id": "7b3e940b",
   "metadata": {},
   "outputs": [
    {
     "name": "stdout",
     "output_type": "stream",
     "text": [
      "['1번째 줄 입력 \\n', '2번째 줄 입력 \\n', '3번째 줄 입력 \\n', '4번째 줄 입력 \\n', '5번째 줄 입력 \\n', '6번째 줄 입력 \\n', '7번째 줄 입력 \\n', '8번째 줄 입력 \\n', '9번째 줄 입력 \\n', '10번째 줄 입력 \\n', '새로운 행이 추가됩니다.새로운 행이 추가됩니다.새로운 행이 추가됩니다.새로운 행이 추가됩니다.새로운 행이 추가됩니다.새로운 행이 추가됩니다.새로운 행{i}이 추가됩니다. \\n', '새로운 행{i}이 추가됩니다. \\n', '새로운 행{i}이 추가됩니다. \\n', '새로운 행{i}이 추가됩니다. \\n', '새로운 행{i}이 추가됩니다. \\n', '새로운 행{i}이 추가됩니다. \\n', '새로운 행{i}이 추가됩니다. \\n', '새로운 행{i}이 추가됩니다. \\n', '새로운 행{i}이 추가됩니다. \\n', '새로운 행{i}이 추가됩니다. \\n', '새로운 행16이 추가됩니다. \\n', '새로운 행17이 추가됩니다. \\n', '새로운 행18이 추가됩니다. \\n', '새로운 행19이 추가됩니다. \\n', '새로운 행20이 추가됩니다. \\n']\n"
     ]
    }
   ],
   "source": [
    "# close 생략 가능한 구현 => with\n",
    "with open('new_text.txt', 'r') as file :\n",
    "    lines = file.readlines()\n",
    "    print(lines)"
   ]
  },
  {
   "cell_type": "code",
   "execution_count": 141,
   "id": "5cd19ace",
   "metadata": {},
   "outputs": [
    {
     "ename": "ZeroDivisionError",
     "evalue": "division by zero",
     "output_type": "error",
     "traceback": [
      "\u001b[31m---------------------------------------------------------------------------\u001b[39m",
      "\u001b[31mZeroDivisionError\u001b[39m                         Traceback (most recent call last)",
      "\u001b[36mCell\u001b[39m\u001b[36m \u001b[39m\u001b[32mIn[141]\u001b[39m\u001b[32m, line 2\u001b[39m\n\u001b[32m      1\u001b[39m \u001b[38;5;66;03m# 예외처리 : 에러 발생시에 비정상적인 종료 막기 위한 처리\u001b[39;00m\n\u001b[32m----> \u001b[39m\u001b[32m2\u001b[39m \u001b[38;5;28mprint\u001b[39m(\u001b[32;43m10\u001b[39;49m\u001b[43m/\u001b[49m\u001b[32;43m0\u001b[39;49m)\n\u001b[32m      3\u001b[39m \u001b[38;5;28mprint\u001b[39m(\u001b[33m'\u001b[39m\u001b[33m프로그램 종료\u001b[39m\u001b[33m'\u001b[39m)\n",
      "\u001b[31mZeroDivisionError\u001b[39m: division by zero"
     ]
    }
   ],
   "source": [
    "# 예외처리 : 에러 발생시에 비정상적인 종료 막기 위한 처리\n",
    "print(10/0)\n",
    "print('프로그램 종료')"
   ]
  },
  {
   "cell_type": "code",
   "execution_count": 143,
   "id": "e29eb218",
   "metadata": {},
   "outputs": [
    {
     "ename": "IndexError",
     "evalue": "list index out of range",
     "output_type": "error",
     "traceback": [
      "\u001b[31m---------------------------------------------------------------------------\u001b[39m",
      "\u001b[31mIndexError\u001b[39m                                Traceback (most recent call last)",
      "\u001b[36mCell\u001b[39m\u001b[36m \u001b[39m\u001b[32mIn[143]\u001b[39m\u001b[32m, line 2\u001b[39m\n\u001b[32m      1\u001b[39m list_t = [\u001b[32m1\u001b[39m,\u001b[32m2\u001b[39m,\u001b[32m3\u001b[39m]\n\u001b[32m----> \u001b[39m\u001b[32m2\u001b[39m \u001b[38;5;28mprint\u001b[39m(\u001b[43mlist_t\u001b[49m\u001b[43m[\u001b[49m\u001b[32;43m3\u001b[39;49m\u001b[43m]\u001b[49m)\n",
      "\u001b[31mIndexError\u001b[39m: list index out of range"
     ]
    }
   ],
   "source": [
    "list_t = [1,2,3]\n",
    "print(list_t[3])"
   ]
  },
  {
   "cell_type": "code",
   "execution_count": 144,
   "id": "c6f9c37a",
   "metadata": {},
   "outputs": [
    {
     "ename": "IndexError",
     "evalue": "list index out of range",
     "output_type": "error",
     "traceback": [
      "\u001b[31m---------------------------------------------------------------------------\u001b[39m",
      "\u001b[31mIndexError\u001b[39m                                Traceback (most recent call last)",
      "\u001b[36mCell\u001b[39m\u001b[36m \u001b[39m\u001b[32mIn[144]\u001b[39m\u001b[32m, line 1\u001b[39m\n\u001b[32m----> \u001b[39m\u001b[32m1\u001b[39m \u001b[38;5;28mprint\u001b[39m(\u001b[43mlist_t\u001b[49m\u001b[43m[\u001b[49m\u001b[43m-\u001b[49m\u001b[32;43m4\u001b[39;49m\u001b[43m]\u001b[49m)\n",
      "\u001b[31mIndexError\u001b[39m: list index out of range"
     ]
    }
   ],
   "source": [
    "print(list_t[-4])"
   ]
  },
  {
   "cell_type": "code",
   "execution_count": 145,
   "id": "fe31506c",
   "metadata": {},
   "outputs": [
    {
     "ename": "NameError",
     "evalue": "name 'userName' is not defined",
     "output_type": "error",
     "traceback": [
      "\u001b[31m---------------------------------------------------------------------------\u001b[39m",
      "\u001b[31mNameError\u001b[39m                                 Traceback (most recent call last)",
      "\u001b[36mCell\u001b[39m\u001b[36m \u001b[39m\u001b[32mIn[145]\u001b[39m\u001b[32m, line 1\u001b[39m\n\u001b[32m----> \u001b[39m\u001b[32m1\u001b[39m \u001b[43muserName\u001b[49m\n",
      "\u001b[31mNameError\u001b[39m: name 'userName' is not defined"
     ]
    }
   ],
   "source": [
    "userName"
   ]
  },
  {
   "cell_type": "code",
   "execution_count": 146,
   "id": "04c59fdf",
   "metadata": {},
   "outputs": [],
   "source": [
    "dict_t = {\n",
    "    'name' : 'SON'\n",
    "}"
   ]
  },
  {
   "cell_type": "code",
   "execution_count": 147,
   "id": "e14f53fb",
   "metadata": {},
   "outputs": [
    {
     "ename": "KeyError",
     "evalue": "'age'",
     "output_type": "error",
     "traceback": [
      "\u001b[31m---------------------------------------------------------------------------\u001b[39m",
      "\u001b[31mKeyError\u001b[39m                                  Traceback (most recent call last)",
      "\u001b[36mCell\u001b[39m\u001b[36m \u001b[39m\u001b[32mIn[147]\u001b[39m\u001b[32m, line 1\u001b[39m\n\u001b[32m----> \u001b[39m\u001b[32m1\u001b[39m \u001b[43mdict_t\u001b[49m\u001b[43m[\u001b[49m\u001b[33;43m'\u001b[39;49m\u001b[33;43mage\u001b[39;49m\u001b[33;43m'\u001b[39;49m\u001b[43m]\u001b[49m\n",
      "\u001b[31mKeyError\u001b[39m: 'age'"
     ]
    }
   ],
   "source": [
    "dict_t['age']"
   ]
  },
  {
   "cell_type": "code",
   "execution_count": 149,
   "id": "593eb3c4",
   "metadata": {},
   "outputs": [
    {
     "ename": "FileNotFoundError",
     "evalue": "[Errno 2] No such file or directory: 'new_text1.txt'",
     "output_type": "error",
     "traceback": [
      "\u001b[31m---------------------------------------------------------------------------\u001b[39m",
      "\u001b[31mFileNotFoundError\u001b[39m                         Traceback (most recent call last)",
      "\u001b[36mCell\u001b[39m\u001b[36m \u001b[39m\u001b[32mIn[149]\u001b[39m\u001b[32m, line 1\u001b[39m\n\u001b[32m----> \u001b[39m\u001b[32m1\u001b[39m f = \u001b[38;5;28;43mopen\u001b[39;49m\u001b[43m(\u001b[49m\u001b[33;43m'\u001b[39;49m\u001b[33;43mnew_text1.txt\u001b[39;49m\u001b[33;43m'\u001b[39;49m\u001b[43m,\u001b[49m\u001b[43m \u001b[49m\u001b[33;43m'\u001b[39;49m\u001b[33;43mr\u001b[39;49m\u001b[33;43m'\u001b[39;49m\u001b[43m)\u001b[49m\n\u001b[32m      2\u001b[39m f.close()\n",
      "\u001b[36mFile \u001b[39m\u001b[32mc:\\project\\py_project\\.venv\\Lib\\site-packages\\IPython\\core\\interactiveshell.py:327\u001b[39m, in \u001b[36m_modified_open\u001b[39m\u001b[34m(file, *args, **kwargs)\u001b[39m\n\u001b[32m    320\u001b[39m \u001b[38;5;28;01mif\u001b[39;00m file \u001b[38;5;129;01min\u001b[39;00m {\u001b[32m0\u001b[39m, \u001b[32m1\u001b[39m, \u001b[32m2\u001b[39m}:\n\u001b[32m    321\u001b[39m     \u001b[38;5;28;01mraise\u001b[39;00m \u001b[38;5;167;01mValueError\u001b[39;00m(\n\u001b[32m    322\u001b[39m         \u001b[33mf\u001b[39m\u001b[33m\"\u001b[39m\u001b[33mIPython won\u001b[39m\u001b[33m'\u001b[39m\u001b[33mt let you open fd=\u001b[39m\u001b[38;5;132;01m{\u001b[39;00mfile\u001b[38;5;132;01m}\u001b[39;00m\u001b[33m by default \u001b[39m\u001b[33m\"\u001b[39m\n\u001b[32m    323\u001b[39m         \u001b[33m\"\u001b[39m\u001b[33mas it is likely to crash IPython. If you know what you are doing, \u001b[39m\u001b[33m\"\u001b[39m\n\u001b[32m    324\u001b[39m         \u001b[33m\"\u001b[39m\u001b[33myou can use builtins\u001b[39m\u001b[33m'\u001b[39m\u001b[33m open.\u001b[39m\u001b[33m\"\u001b[39m\n\u001b[32m    325\u001b[39m     )\n\u001b[32m--> \u001b[39m\u001b[32m327\u001b[39m \u001b[38;5;28;01mreturn\u001b[39;00m \u001b[43mio_open\u001b[49m\u001b[43m(\u001b[49m\u001b[43mfile\u001b[49m\u001b[43m,\u001b[49m\u001b[43m \u001b[49m\u001b[43m*\u001b[49m\u001b[43margs\u001b[49m\u001b[43m,\u001b[49m\u001b[43m \u001b[49m\u001b[43m*\u001b[49m\u001b[43m*\u001b[49m\u001b[43mkwargs\u001b[49m\u001b[43m)\u001b[49m\n",
      "\u001b[31mFileNotFoundError\u001b[39m: [Errno 2] No such file or directory: 'new_text1.txt'"
     ]
    }
   ],
   "source": [
    "f = open('new_text1.txt', 'r')\n",
    "f.close()"
   ]
  },
  {
   "cell_type": "code",
   "execution_count": 150,
   "id": "748db5b9",
   "metadata": {},
   "outputs": [
    {
     "ename": "TypeError",
     "evalue": "add() missing 2 required positional arguments: 'n1' and 'n2'",
     "output_type": "error",
     "traceback": [
      "\u001b[31m---------------------------------------------------------------------------\u001b[39m",
      "\u001b[31mTypeError\u001b[39m                                 Traceback (most recent call last)",
      "\u001b[36mCell\u001b[39m\u001b[36m \u001b[39m\u001b[32mIn[150]\u001b[39m\u001b[32m, line 1\u001b[39m\n\u001b[32m----> \u001b[39m\u001b[32m1\u001b[39m \u001b[43madd\u001b[49m\u001b[43m(\u001b[49m\u001b[43m)\u001b[49m\n",
      "\u001b[31mTypeError\u001b[39m: add() missing 2 required positional arguments: 'n1' and 'n2'"
     ]
    }
   ],
   "source": [
    "add()"
   ]
  },
  {
   "cell_type": "code",
   "execution_count": 154,
   "id": "b2d2f84f",
   "metadata": {},
   "outputs": [
    {
     "name": "stdout",
     "output_type": "stream",
     "text": [
      "2.0\n",
      "프로그램을 종료합니다.\n"
     ]
    }
   ],
   "source": [
    "try :\n",
    "    print(10/5)  # 에러 예상\n",
    "except :\n",
    "    print('에러가 발생했습니다. 에러에 대한 처리를 합니다')\n",
    "\n",
    "print('프로그램을 종료합니다.')"
   ]
  },
  {
   "cell_type": "code",
   "execution_count": 160,
   "id": "847e4410",
   "metadata": {},
   "outputs": [
    {
     "name": "stdout",
     "output_type": "stream",
     "text": [
      "5.0\n",
      "2\n",
      "에러가 발생했습니다.\n",
      "name 'uname' is not defined\n"
     ]
    }
   ],
   "source": [
    "try:\n",
    "    print(10/2)\n",
    "    print(list_t[1]) # <======\n",
    "    print(uname)\n",
    "except ZeroDivisionError as e:\n",
    "    print('0으로 나누는 연산은 불가능합니다.')\n",
    "    print(e)\n",
    "except (NameError, IndexError) as e:\n",
    "    print('에러가 발생했습니다.')\n",
    "    print(e)\n",
    "except IndexError as e:\n",
    "    print('리스트의 index 범위에서 벗어납니다.')\n",
    "    print(e)\n",
    "except :\n",
    "    print('에러발생!!!')"
   ]
  },
  {
   "cell_type": "code",
   "execution_count": 161,
   "id": "2e2db11d",
   "metadata": {},
   "outputs": [
    {
     "name": "stdout",
     "output_type": "stream",
     "text": [
      "hello\n",
      "5.0\n",
      "!!!!!\n"
     ]
    }
   ],
   "source": [
    "# try: except: finally: => 에러 발생여부와 상관없이 실행되어야 하는 블록\n",
    "try:\n",
    "    print('hello')\n",
    "    print(10/2)\n",
    "except:\n",
    "    print('error!!')\n",
    "finally:\n",
    "    print('!!!!!')"
   ]
  },
  {
   "cell_type": "code",
   "execution_count": 162,
   "id": "3fb3ac5b",
   "metadata": {},
   "outputs": [
    {
     "name": "stdout",
     "output_type": "stream",
     "text": [
      "입장\n"
     ]
    }
   ],
   "source": [
    "try :\n",
    "    age = int(input('나이를 입력하세요'))\n",
    "except :\n",
    "    print('숫자형식으로 입력해주세요!!!!!')\n",
    "else :\n",
    "    if age > 18 :\n",
    "        print('입장')\n",
    "    else :\n",
    "        print('불가')"
   ]
  },
  {
   "cell_type": "code",
   "execution_count": 171,
   "id": "c7e97a7f",
   "metadata": {},
   "outputs": [],
   "source": [
    "# 사용자 정의 예외 타입 정의\n",
    "# 논리적인 오류 발생 -> 예외로 처리\n",
    "# age => 음수, 500 : 논리적 오류\n",
    "\n",
    "class MyError(Exception):\n",
    "    pass"
   ]
  },
  {
   "cell_type": "code",
   "execution_count": 172,
   "id": "920681a3",
   "metadata": {},
   "outputs": [
    {
     "ename": "MyError",
     "evalue": "",
     "output_type": "error",
     "traceback": [
      "\u001b[31m---------------------------------------------------------------------------\u001b[39m",
      "\u001b[31mMyError\u001b[39m                                   Traceback (most recent call last)",
      "\u001b[36mCell\u001b[39m\u001b[36m \u001b[39m\u001b[32mIn[172]\u001b[39m\u001b[32m, line 2\u001b[39m\n\u001b[32m      1\u001b[39m \u001b[38;5;66;03m# 에러 강제 발생\u001b[39;00m\n\u001b[32m----> \u001b[39m\u001b[32m2\u001b[39m \u001b[38;5;28;01mraise\u001b[39;00m MyError()\n",
      "\u001b[31mMyError\u001b[39m: "
     ]
    }
   ],
   "source": [
    "# 에러 강제 발생\n",
    "raise MyError()"
   ]
  },
  {
   "cell_type": "code",
   "execution_count": 173,
   "id": "e9c9cecc",
   "metadata": {},
   "outputs": [
    {
     "name": "stdout",
     "output_type": "stream",
     "text": [
      "26\n"
     ]
    }
   ],
   "source": [
    "try:   \n",
    "    age = int(input('나이를 입력하세요!'))\n",
    "    \n",
    "    if age<1 or age>200:\n",
    "        raise MyError()\n",
    "    \n",
    "except MyError :\n",
    "    print('나이의 입력 범위는 1~200까지 입니다. \\n 다시입력하세요!')\n",
    "except:\n",
    "    print('다시입력하세요!')\n",
    "else:\n",
    "    print(age)"
   ]
  },
  {
   "cell_type": "markdown",
   "id": "f62a1b4b",
   "metadata": {},
   "source": [
    "## 2025.06.12"
   ]
  },
  {
   "cell_type": "code",
   "execution_count": 5,
   "id": "6db3d965",
   "metadata": {},
   "outputs": [],
   "source": [
    "# 객체지향 프로그래밍 : 객체의 개념을 프로그래밍에 도입\n",
    "# 객체 : 변수들, 함수들도 구성 => 메모리에 올라가 있는 상태\n",
    "# 클래스 : 변수들과 함수들이 어떻게 구성되는지의 설계도 -> 변수들을 정의, 함수들을 정의\n",
    "# => 클래스만 정의했다 -> 사용x, 클래스를 이용해서 객체로 만들어야 사용가능\n",
    "# class 클래스이름\n",
    "#       변수들과 함수들을 정의\n",
    "# 객체 생성 => 변수 =\n",
    "# 객체의 활용 => 변수,객체가 가지는 변수, 변수.객체가 가지는 함수() 매서드(객체가 가지는 함수)\n",
    "# 클래스의 정의\n",
    "class Cookie:\n",
    "    pass"
   ]
  },
  {
   "cell_type": "code",
   "execution_count": 8,
   "id": "c0168c0a",
   "metadata": {},
   "outputs": [],
   "source": [
    "c1 = Cookie()\n",
    "c2 = Cookie()"
   ]
  },
  {
   "cell_type": "code",
   "execution_count": 9,
   "id": "f8b4dc13",
   "metadata": {},
   "outputs": [
    {
     "name": "stdout",
     "output_type": "stream",
     "text": [
      "2583701664976 <class '__main__.Cookie'>\n",
      "2583701664336 <class '__main__.Cookie'>\n"
     ]
    }
   ],
   "source": [
    "print(id(c1), type(c1))\n",
    "print(id(c2), type(c2))"
   ]
  },
  {
   "cell_type": "code",
   "execution_count": 39,
   "id": "25cb4b04",
   "metadata": {},
   "outputs": [],
   "source": [
    "# 사칙연산을 하는 클래스 정의 : 클래스이름, 변수, 함수\n",
    "# 변수는 두개, 함수(메서드) 4개\n",
    "class FourCal:\n",
    "\n",
    "    # 초기화(변수 선언 -> 최초 데이터를 할당당) 메서드 => 생성자, 생성자함수\n",
    "    # 필요한 변수들의 생성, 값을 초기화\n",
    "    def __init__(self, first, second):\n",
    "        self.first = first\n",
    "        self.second = second\n",
    "\n",
    "    # 클래스에서 함수를 정의할 때에는 반드시 self 매개변수를 받아야 한다\n",
    "    # self => 객체 자신을 가르키는 변수(객체의 주소)\n",
    "    def setdata(self, first, second):\n",
    "        self.first = first\n",
    "        self.second = second\n",
    "\n",
    "    # 사칙연산 함수\n",
    "    # 덧셈 메서드\n",
    "    def add(self):\n",
    "        return self.first + self.second\n",
    "\n",
    "    # 뺄셈 메서드\n",
    "    def sub(self):\n",
    "        return self.first - self.second\n",
    "\n",
    "    # 곱셈 메서드\n",
    "    def mul(self):\n",
    "        return self.first * self.second\n",
    "\n",
    "    # 나눗셈 메서드\n",
    "    def div(self):\n",
    "        return self.first / self.second\n"
   ]
  },
  {
   "cell_type": "code",
   "execution_count": null,
   "id": "1da6e209",
   "metadata": {},
   "outputs": [],
   "source": []
  },
  {
   "cell_type": "code",
   "execution_count": null,
   "id": "12350f6b",
   "metadata": {},
   "outputs": [],
   "source": []
  },
  {
   "cell_type": "code",
   "execution_count": null,
   "id": "43653e56",
   "metadata": {},
   "outputs": [],
   "source": []
  },
  {
   "cell_type": "code",
   "execution_count": 12,
   "id": "352e90d8",
   "metadata": {},
   "outputs": [],
   "source": [
    "cal_1 = FourCal()"
   ]
  },
  {
   "cell_type": "code",
   "execution_count": 13,
   "id": "cde95f64",
   "metadata": {},
   "outputs": [
    {
     "data": {
      "text/plain": [
       "__main__.FourCal"
      ]
     },
     "execution_count": 13,
     "metadata": {},
     "output_type": "execute_result"
    }
   ],
   "source": [
    "type(cal_1)"
   ]
  },
  {
   "cell_type": "code",
   "execution_count": 14,
   "id": "640fee6a",
   "metadata": {},
   "outputs": [],
   "source": [
    "cal_1.setdata(10, 20)"
   ]
  },
  {
   "cell_type": "code",
   "execution_count": 15,
   "id": "4ae2615b",
   "metadata": {},
   "outputs": [
    {
     "name": "stdout",
     "output_type": "stream",
     "text": [
      "10 20\n"
     ]
    }
   ],
   "source": [
    "print(cal_1.first, cal_1.second)"
   ]
  },
  {
   "cell_type": "code",
   "execution_count": 16,
   "id": "d92070dc",
   "metadata": {},
   "outputs": [],
   "source": [
    "cal_2 = FourCal()"
   ]
  },
  {
   "cell_type": "code",
   "execution_count": 26,
   "id": "fde13a09",
   "metadata": {},
   "outputs": [
    {
     "ename": "AttributeError",
     "evalue": "'FourCal' object has no attribute 'first'",
     "output_type": "error",
     "traceback": [
      "\u001b[31m---------------------------------------------------------------------------\u001b[39m",
      "\u001b[31mAttributeError\u001b[39m                            Traceback (most recent call last)",
      "\u001b[36mCell\u001b[39m\u001b[36m \u001b[39m\u001b[32mIn[26]\u001b[39m\u001b[32m, line 1\u001b[39m\n\u001b[32m----> \u001b[39m\u001b[32m1\u001b[39m \u001b[43mcal_2\u001b[49m\u001b[43m.\u001b[49m\u001b[43mfirst\u001b[49m\n",
      "\u001b[31mAttributeError\u001b[39m: 'FourCal' object has no attribute 'first'"
     ]
    }
   ],
   "source": [
    "cal_2.first"
   ]
  },
  {
   "cell_type": "code",
   "execution_count": 28,
   "id": "73d73a46",
   "metadata": {},
   "outputs": [],
   "source": [
    "cal_4 = FourCal(100,200)"
   ]
  },
  {
   "cell_type": "code",
   "execution_count": 31,
   "id": "c27e1e0b",
   "metadata": {},
   "outputs": [
    {
     "data": {
      "text/plain": [
       "200"
      ]
     },
     "execution_count": 31,
     "metadata": {},
     "output_type": "execute_result"
    }
   ],
   "source": [
    "cal_4.first\n",
    "cal_4.second"
   ]
  },
  {
   "cell_type": "code",
   "execution_count": 40,
   "id": "fdf21f0a",
   "metadata": {},
   "outputs": [],
   "source": [
    "cal_5 = FourCal(10, 7)"
   ]
  },
  {
   "cell_type": "code",
   "execution_count": 42,
   "id": "157f7df0",
   "metadata": {},
   "outputs": [
    {
     "name": "stdout",
     "output_type": "stream",
     "text": [
      "10 7\n",
      "17\n",
      "3\n",
      "70\n",
      "1.4285714285714286\n"
     ]
    }
   ],
   "source": [
    "print(cal_5.first, cal_5.second)\n",
    "print(cal_5.add())\n",
    "print(cal_5.sub())\n",
    "print(cal_5.mul())\n",
    "print(cal_5.div())"
   ]
  },
  {
   "cell_type": "code",
   "execution_count": 61,
   "id": "da743c9c",
   "metadata": {},
   "outputs": [],
   "source": [
    "# 학생 class 생성 -> 객체 생성\n",
    "# 학생: 학번, 이름, 국어점수, 영어점수, 수학점수\n",
    "# 기능: 전체 데이터 출력하는 메서드 (이름, 학번, 총점, 평균)\n",
    "#      총점 계산\n",
    "#      평균 계산\n",
    "# 시뮬레이션 : 테스트 학생 데이터 생성 -> 결과 출력\n",
    "\n",
    "class student:\n",
    "    \n",
    "    def __init__(self, student_id, name, kor, eng, math):\n",
    "        self.student_id = student_id\n",
    "        self.name = name\n",
    "        self.kor = kor\n",
    "        self.eng = eng\n",
    "        self.math = math\n",
    "\n",
    "    def sum(self):\n",
    "        return self.kor + self.eng + self.math\n",
    "    \n",
    "    def avg(self):\n",
    "        return self.sum() / 3"
   ]
  },
  {
   "cell_type": "code",
   "execution_count": 62,
   "id": "cc015f33",
   "metadata": {},
   "outputs": [],
   "source": [
    "student1 = student(\"219161101\", \"구윤지\", 90, 80, 95)"
   ]
  },
  {
   "cell_type": "code",
   "execution_count": 65,
   "id": "f62408bf",
   "metadata": {},
   "outputs": [
    {
     "name": "stdout",
     "output_type": "stream",
     "text": [
      "이름: 구윤지\n",
      "학번: 219161101\n",
      "총점: 265\n",
      "평균: 88.33333333333333\n"
     ]
    }
   ],
   "source": [
    "print(\"이름:\", (student1.name))\n",
    "print(\"학번:\", (student1.student_id))\n",
    "\n",
    "print(\"총점:\", (student1.sum()))\n",
    "print(\"평균:\", (student1.avg()))"
   ]
  },
  {
   "cell_type": "code",
   "execution_count": null,
   "id": "c121efdb",
   "metadata": {},
   "outputs": [],
   "source": []
  },
  {
   "cell_type": "code",
   "execution_count": 107,
   "id": "f3199443",
   "metadata": {},
   "outputs": [],
   "source": [
    "class Student:\n",
    "    def __init__(self, student_id, name, kor, eng, math):\n",
    "        self.student_id = student_id\n",
    "        self.name = name\n",
    "        self.kor = kor\n",
    "        self.eng = eng\n",
    "        self.math = math\n",
    "\n",
    "    # 총점 계산\n",
    "    def get_total(self):\n",
    "        return self.kor + self.eng + self.math\n",
    "\n",
    "    # 평균 계산\n",
    "    def get_average(self):\n",
    "        return self.get_total() / 3\n",
    "\n",
    "    # 전체 데이터 출력\n",
    "    def print_result(self):  # 메서드 이름을 바꾸고\n",
    "        print(f\"이름: {self.name} ({self.student_id})\")\n",
    "        print(f\"(국어: {self.kor}, 영어: {self.eng}, 수학: {self.math})\")\n",
    "        print(f\"총점: {self.get_total()}\")\n",
    "        print(f\"평균: {self.get_average():.2f}\")"
   ]
  },
  {
   "cell_type": "code",
   "execution_count": 108,
   "id": "79a25d5c",
   "metadata": {},
   "outputs": [],
   "source": [
    "st_1 = Student(\"20250123\", \"구윤지\", 95, 88, 92)"
   ]
  },
  {
   "cell_type": "code",
   "execution_count": 109,
   "id": "e395c11e",
   "metadata": {},
   "outputs": [
    {
     "ename": "AttributeError",
     "evalue": "'Student' object has no attribute 'print_info'",
     "output_type": "error",
     "traceback": [
      "\u001b[31m---------------------------------------------------------------------------\u001b[39m",
      "\u001b[31mAttributeError\u001b[39m                            Traceback (most recent call last)",
      "\u001b[36mCell\u001b[39m\u001b[36m \u001b[39m\u001b[32mIn[109]\u001b[39m\u001b[32m, line 6\u001b[39m\n\u001b[32m      3\u001b[39m student2 = Student(\u001b[33m\"\u001b[39m\u001b[33m2025002\u001b[39m\u001b[33m\"\u001b[39m, \u001b[33m\"\u001b[39m\u001b[33m홍길동\u001b[39m\u001b[33m\"\u001b[39m, \u001b[32m76\u001b[39m, \u001b[32m85\u001b[39m, \u001b[32m90\u001b[39m)\n\u001b[32m      5\u001b[39m \u001b[38;5;66;03m# 결과 출력\u001b[39;00m\n\u001b[32m----> \u001b[39m\u001b[32m6\u001b[39m \u001b[43mstudent1\u001b[49m\u001b[43m.\u001b[49m\u001b[43mprint_info\u001b[49m()\n\u001b[32m      7\u001b[39m \u001b[38;5;28mprint\u001b[39m()  \u001b[38;5;66;03m# 줄 바꿈\u001b[39;00m\n\u001b[32m      8\u001b[39m student2.print_info()\n",
      "\u001b[31mAttributeError\u001b[39m: 'Student' object has no attribute 'print_info'"
     ]
    }
   ],
   "source": [
    "# 테스트용 학생 객체 생성\n",
    "student1 = Student(\"2025001\", \"구윤지\", 95, 88, 92)\n",
    "student2 = Student(\"2025002\", \"홍길동\", 76, 85, 90)\n",
    "\n",
    "# 결과 출력\n",
    "student1.print_info()\n",
    "print()  # 줄 바꿈\n",
    "student2.print_info()"
   ]
  },
  {
   "cell_type": "code",
   "execution_count": null,
   "id": "189730e0",
   "metadata": {},
   "outputs": [],
   "source": [
    "students = [\n",
    "    Student('손흥민1', 123451, 80, 70, 50),\n",
    "    Student('손흥민2', 123452, 80, 70, 50),\n",
    "    Student('손흥민3', 123453, 80, 70, 50),\n",
    "    Student('손흥민4', 123454, 80, 70, 50),\n",
    "    Student('손흥민5', 123455, 80, 70, 50),\n",
    "]"
   ]
  },
  {
   "cell_type": "code",
   "execution_count": 87,
   "id": "d2d6054a",
   "metadata": {},
   "outputs": [
    {
     "ename": "AttributeError",
     "evalue": "'Student' object has no attribute 'print_result'",
     "output_type": "error",
     "traceback": [
      "\u001b[31m---------------------------------------------------------------------------\u001b[39m",
      "\u001b[31mAttributeError\u001b[39m                            Traceback (most recent call last)",
      "\u001b[36mCell\u001b[39m\u001b[36m \u001b[39m\u001b[32mIn[103]\u001b[39m\u001b[32m, line 2\u001b[39m\n\u001b[32m      1\u001b[39m \u001b[38;5;28;01mfor\u001b[39;00m s \u001b[38;5;129;01min\u001b[39;00m students:\n\u001b[32m----> \u001b[39m\u001b[32m2\u001b[39m     \u001b[43ms\u001b[49m\u001b[43m.\u001b[49m\u001b[43mprint_result\u001b[49m()\n",
      "\u001b[31mAttributeError\u001b[39m: 'Student' object has no attribute 'print_result'"
     ]
    }
   ],
   "source": [
    "for s in students:\n",
    "    s.print_result()"
   ]
  },
  {
   "cell_type": "code",
   "execution_count": 113,
   "id": "d2499c02",
   "metadata": {},
   "outputs": [],
   "source": [
    "# 클래스의 상속 : 새로운 클래스를 만들때 기존의 클래스의 멤버들을 받아서 생성하는 방법\n",
    "# class 클래스이름(부모클래스)\n",
    "class MoreFourCal(FourCal):\n",
    "    def pow(self):\n",
    "        return self.first**self.second\n",
    "    \n",
    "    def div(self):\n",
    "        if self.second == 0 :\n",
    "            return 0\n",
    "        else : \n",
    "            return self.first/self.second"
   ]
  },
  {
   "cell_type": "code",
   "execution_count": 114,
   "id": "cb5fcf3f",
   "metadata": {},
   "outputs": [
    {
     "ename": "TypeError",
     "evalue": "FourCal.__init__() missing 2 required positional arguments: 'first' and 'second'",
     "output_type": "error",
     "traceback": [
      "\u001b[31m---------------------------------------------------------------------------\u001b[39m",
      "\u001b[31mTypeError\u001b[39m                                 Traceback (most recent call last)",
      "\u001b[36mCell\u001b[39m\u001b[36m \u001b[39m\u001b[32mIn[114]\u001b[39m\u001b[32m, line 1\u001b[39m\n\u001b[32m----> \u001b[39m\u001b[32m1\u001b[39m mcal_1 = \u001b[43mMoreFourCal\u001b[49m\u001b[43m(\u001b[49m\u001b[43m)\u001b[49m\n",
      "\u001b[31mTypeError\u001b[39m: FourCal.__init__() missing 2 required positional arguments: 'first' and 'second'"
     ]
    }
   ],
   "source": [
    "mcal_1 = MoreFourCal()"
   ]
  },
  {
   "cell_type": "code",
   "execution_count": 115,
   "id": "0f98c856",
   "metadata": {},
   "outputs": [],
   "source": [
    "mcal_1 = MoreFourCal(100,0)"
   ]
  },
  {
   "cell_type": "code",
   "execution_count": 116,
   "id": "ef0525fa",
   "metadata": {},
   "outputs": [
    {
     "name": "stdout",
     "output_type": "stream",
     "text": [
      "100\n",
      "100\n",
      "0\n"
     ]
    }
   ],
   "source": [
    "print(mcal_1.add())\n",
    "print(mcal_1.sub())\n",
    "print(mcal_1.mul())"
   ]
  },
  {
   "cell_type": "code",
   "execution_count": 117,
   "id": "76f9608e",
   "metadata": {},
   "outputs": [],
   "source": [
    "mcal_2 = MoreFourCal(100, 0)"
   ]
  },
  {
   "cell_type": "code",
   "execution_count": 118,
   "id": "48868730",
   "metadata": {},
   "outputs": [
    {
     "name": "stdout",
     "output_type": "stream",
     "text": [
      "100\n",
      "100\n",
      "0\n",
      "100\n"
     ]
    }
   ],
   "source": [
    "print(mcal_2.add())\n",
    "print(mcal_2.sub())\n",
    "print(mcal_2.div())\n",
    "print(mcal_2.add())"
   ]
  },
  {
   "cell_type": "markdown",
   "id": "128f66b1",
   "metadata": {},
   "source": [
    "## 표준모듈"
   ]
  },
  {
   "cell_type": "code",
   "execution_count": 128,
   "id": "c0ed2033",
   "metadata": {},
   "outputs": [],
   "source": [
    "import datetime"
   ]
  },
  {
   "cell_type": "code",
   "execution_count": 130,
   "id": "325383c7",
   "metadata": {},
   "outputs": [],
   "source": [
    "day1 = datetime.date(2025, 6, 12)"
   ]
  },
  {
   "cell_type": "code",
   "execution_count": 131,
   "id": "e796c4e6",
   "metadata": {},
   "outputs": [],
   "source": [
    "day2 = datetime.date(2025, 1, 1)"
   ]
  },
  {
   "cell_type": "code",
   "execution_count": 133,
   "id": "b729e953",
   "metadata": {},
   "outputs": [
    {
     "name": "stdout",
     "output_type": "stream",
     "text": [
      "162 days, 0:00:00\n"
     ]
    }
   ],
   "source": [
    "print(day1-day2)"
   ]
  },
  {
   "cell_type": "code",
   "execution_count": 134,
   "id": "2bb5edde",
   "metadata": {},
   "outputs": [],
   "source": [
    "import time"
   ]
  },
  {
   "cell_type": "code",
   "execution_count": 135,
   "id": "25e80b26",
   "metadata": {},
   "outputs": [
    {
     "data": {
      "text/plain": [
       "1749711436.8768873"
      ]
     },
     "execution_count": 135,
     "metadata": {},
     "output_type": "execute_result"
    }
   ],
   "source": [
    "time.time()"
   ]
  },
  {
   "cell_type": "code",
   "execution_count": 138,
   "id": "d9b41aa8",
   "metadata": {},
   "outputs": [
    {
     "data": {
      "text/plain": [
       "time.struct_time(tm_year=2025, tm_mon=6, tm_mday=12, tm_hour=15, tm_min=58, tm_sec=32, tm_wday=3, tm_yday=163, tm_isdst=0)"
      ]
     },
     "execution_count": 138,
     "metadata": {},
     "output_type": "execute_result"
    }
   ],
   "source": [
    "time.localtime()"
   ]
  },
  {
   "cell_type": "code",
   "execution_count": 139,
   "id": "e23ee242",
   "metadata": {},
   "outputs": [
    {
     "data": {
      "text/plain": [
       "'Thu Jun 12 15:58:38 2025'"
      ]
     },
     "execution_count": 139,
     "metadata": {},
     "output_type": "execute_result"
    }
   ],
   "source": [
    "time.ctime()"
   ]
  },
  {
   "cell_type": "code",
   "execution_count": 141,
   "id": "146f9424",
   "metadata": {},
   "outputs": [],
   "source": [
    "import random"
   ]
  },
  {
   "cell_type": "code",
   "execution_count": 144,
   "id": "e1be0c81",
   "metadata": {},
   "outputs": [
    {
     "data": {
      "text/plain": [
       "0.0832629010070598"
      ]
     },
     "execution_count": 144,
     "metadata": {},
     "output_type": "execute_result"
    }
   ],
   "source": [
    "random.random() # 0.00000000 <= R < 1"
   ]
  },
  {
   "cell_type": "code",
   "execution_count": 148,
   "id": "f94a1ab5",
   "metadata": {},
   "outputs": [
    {
     "data": {
      "text/plain": [
       "18"
      ]
     },
     "execution_count": 148,
     "metadata": {},
     "output_type": "execute_result"
    }
   ],
   "source": [
    "random.randint(1, 45)"
   ]
  },
  {
   "cell_type": "code",
   "execution_count": 150,
   "id": "3046c289",
   "metadata": {},
   "outputs": [
    {
     "name": "stdout",
     "output_type": "stream",
     "text": [
      "[15, 33, 21, 9, 19]\n"
     ]
    }
   ],
   "source": [
    "list_score = []\n",
    "for s in range(0, 5):\n",
    "    list_score.append(random.randint(1, 45))\n",
    "\n",
    "print(list_score)"
   ]
  },
  {
   "cell_type": "code",
   "execution_count": null,
   "id": "caaa4bda",
   "metadata": {},
   "outputs": [
    {
     "data": {
      "text/plain": [
       "3"
      ]
     },
     "execution_count": 151,
     "metadata": {},
     "output_type": "execute_result"
    }
   ],
   "source": [
    "random.choice([1,2,3,4,5,6,7,8])"
   ]
  },
  {
   "cell_type": "code",
   "execution_count": 153,
   "id": "1953a337",
   "metadata": {},
   "outputs": [
    {
     "data": {
      "text/plain": [
       "[8, 2, 7]"
      ]
     },
     "execution_count": 153,
     "metadata": {},
     "output_type": "execute_result"
    }
   ],
   "source": [
    "random.sample([1,2,3,4,5,6,7,8],3)"
   ]
  },
  {
   "cell_type": "code",
   "execution_count": 154,
   "id": "a796bbbb",
   "metadata": {},
   "outputs": [],
   "source": [
    "import os"
   ]
  },
  {
   "cell_type": "code",
   "execution_count": 155,
   "id": "39a26df8",
   "metadata": {},
   "outputs": [
    {
     "data": {
      "text/plain": [
       "environ{'ALLUSERSPROFILE': 'C:\\\\ProgramData',\n",
       "        'APPDATA': 'C:\\\\Users\\\\YUNJI\\\\AppData\\\\Roaming',\n",
       "        'ASL.LOG': 'Destination=file',\n",
       "        'CHROME_CRASHPAD_PIPE_NAME': '\\\\\\\\.\\\\pipe\\\\crashpad_19352_ZDZGWLUIFRFQTZRA',\n",
       "        'COMMONPROGRAMFILES': 'C:\\\\Program Files\\\\Common Files',\n",
       "        'COMMONPROGRAMFILES(X86)': 'C:\\\\Program Files (x86)\\\\Common Files',\n",
       "        'COMMONPROGRAMW6432': 'C:\\\\Program Files\\\\Common Files',\n",
       "        'COMPUTERNAME': 'DESKTOP-KVOGN91',\n",
       "        'COMSPEC': 'C:\\\\Windows\\\\system32\\\\cmd.exe',\n",
       "        'DRIVERDATA': 'C:\\\\Windows\\\\System32\\\\Drivers\\\\DriverData',\n",
       "        'EFC_6196': '1',\n",
       "        'ELECTRON_RUN_AS_NODE': '1',\n",
       "        'FPS_BROWSER_APP_PROFILE_STRING': 'Internet Explorer',\n",
       "        'FPS_BROWSER_USER_PROFILE_STRING': 'Default',\n",
       "        'HOMEDRIVE': 'C:',\n",
       "        'HOMEPATH': '\\\\Users\\\\YUNJI',\n",
       "        'JPY_INTERRUPT_EVENT': '1588',\n",
       "        'LOCALAPPDATA': 'C:\\\\Users\\\\YUNJI\\\\AppData\\\\Local',\n",
       "        'LOGONSERVER': '\\\\\\\\DESKTOP-KVOGN91',\n",
       "        'NUMBER_OF_PROCESSORS': '6',\n",
       "        'ONEDRIVE': 'C:\\\\Users\\\\YUNJI\\\\OneDrive',\n",
       "        'ORIGINAL_XDG_CURRENT_DESKTOP': 'undefined',\n",
       "        'OS': 'Windows_NT',\n",
       "        'PATH': 'c:\\\\project\\\\py_project\\\\.venv\\\\Scripts;C:\\\\Program Files\\\\Common Files\\\\Oracle\\\\Java\\\\javapath;C:\\\\Windows\\\\system32;C:\\\\Windows;C:\\\\Windows\\\\System32\\\\Wbem;C:\\\\Windows\\\\System32\\\\WindowsPowerShell\\\\v1.0\\\\;C:\\\\Windows\\\\System32\\\\OpenSSH\\\\;C:\\\\Program Files (x86)\\\\NVIDIA Corporation\\\\PhysX\\\\Common;C:\\\\Program Files\\\\NVIDIA Corporation\\\\NVIDIA NvDLISR;C:\\\\Program Files\\\\Bandizip\\\\;C:\\\\Program Files (x86)\\\\nodejs\\\\;C:\\\\Users\\\\YUNJI\\\\AppData\\\\Local\\\\Programs\\\\Python\\\\Python313\\\\Scripts\\\\;C:\\\\Users\\\\YUNJI\\\\AppData\\\\Local\\\\Programs\\\\Python\\\\Python313\\\\;C:\\\\Users\\\\YUNJI\\\\AppData\\\\Local\\\\Microsoft\\\\WindowsApps;C:\\\\Users\\\\YUNJI\\\\AppData\\\\Roaming\\\\npm;C:\\\\Users\\\\YUNJI\\\\AppData\\\\Local\\\\Programs\\\\Microsoft VS Code\\\\bin',\n",
       "        'PATHEXT': '.COM;.EXE;.BAT;.CMD;.VBS;.VBE;.JS;.JSE;.WSF;.WSH;.MSC',\n",
       "        'PROCESSOR_ARCHITECTURE': 'AMD64',\n",
       "        'PROCESSOR_IDENTIFIER': 'Intel64 Family 6 Model 158 Stepping 10, GenuineIntel',\n",
       "        'PROCESSOR_LEVEL': '6',\n",
       "        'PROCESSOR_REVISION': '9e0a',\n",
       "        'PROGRAMDATA': 'C:\\\\ProgramData',\n",
       "        'PROGRAMFILES': 'C:\\\\Program Files',\n",
       "        'PROGRAMFILES(X86)': 'C:\\\\Program Files (x86)',\n",
       "        'PROGRAMW6432': 'C:\\\\Program Files',\n",
       "        'PROMPT': '(.venv) $P$G',\n",
       "        'PSMODULEPATH': 'C:\\\\Program Files\\\\WindowsPowerShell\\\\Modules;C:\\\\Windows\\\\system32\\\\WindowsPowerShell\\\\v1.0\\\\Modules',\n",
       "        'PUBLIC': 'C:\\\\Users\\\\Public',\n",
       "        'PYDEVD_IPYTHON_COMPATIBLE_DEBUGGING': '1',\n",
       "        'PYTHONIOENCODING': 'utf-8',\n",
       "        'PYTHONUNBUFFERED': '1',\n",
       "        'PYTHON_FROZEN_MODULES': 'on',\n",
       "        'SESSIONNAME': 'Console',\n",
       "        'SYSTEMDRIVE': 'C:',\n",
       "        'SYSTEMROOT': 'C:\\\\Windows',\n",
       "        'TEMP': 'C:\\\\Users\\\\YUNJI\\\\AppData\\\\Local\\\\Temp',\n",
       "        'TMP': 'C:\\\\Users\\\\YUNJI\\\\AppData\\\\Local\\\\Temp',\n",
       "        'USERDOMAIN': 'DESKTOP-KVOGN91',\n",
       "        'USERDOMAIN_ROAMINGPROFILE': 'DESKTOP-KVOGN91',\n",
       "        'USERNAME': 'YUNJI',\n",
       "        'USERPROFILE': 'C:\\\\Users\\\\YUNJI',\n",
       "        'VIRTUAL_ENV': 'c:\\\\project\\\\py_project\\\\.venv',\n",
       "        'VIRTUAL_ENV_PROMPT': '.venv',\n",
       "        'VSCODE_CODE_CACHE_PATH': 'C:\\\\Users\\\\YUNJI\\\\AppData\\\\Roaming\\\\Code\\\\CachedData\\\\258e40fedc6cb8edf399a463ce3a9d32e7e1f6f3',\n",
       "        'VSCODE_CRASH_REPORTER_PROCESS_TYPE': 'extensionHost',\n",
       "        'VSCODE_CWD': 'C:\\\\Users\\\\YUNJI\\\\AppData\\\\Local\\\\Programs\\\\Microsoft VS Code',\n",
       "        'VSCODE_ESM_ENTRYPOINT': 'vs/workbench/api/node/extensionHostProcess',\n",
       "        'VSCODE_HANDLES_UNCAUGHT_ERRORS': 'true',\n",
       "        'VSCODE_IPC_HOOK': '\\\\\\\\.\\\\pipe\\\\43de5b94-1.100.3-main-sock',\n",
       "        'VSCODE_L10N_BUNDLE_LOCATION': '',\n",
       "        'VSCODE_NLS_CONFIG': '{\"userLocale\":\"en-us\",\"osLocale\":\"ko\",\"resolvedLanguage\":\"en\",\"defaultMessagesFile\":\"C:\\\\\\\\Users\\\\\\\\YUNJI\\\\\\\\AppData\\\\\\\\Local\\\\\\\\Programs\\\\\\\\Microsoft VS Code\\\\\\\\resources\\\\\\\\app\\\\\\\\out\\\\\\\\nls.messages.json\",\"locale\":\"en-us\",\"availableLanguages\":{}}',\n",
       "        'VSCODE_PID': '19352',\n",
       "        'WINDIR': 'C:\\\\Windows',\n",
       "        'ZES_ENABLE_SYSMAN': '1',\n",
       "        '_OLD_VIRTUAL_PATH': 'C:\\\\Program Files\\\\Common Files\\\\Oracle\\\\Java\\\\javapath;C:\\\\Windows\\\\system32;C:\\\\Windows;C:\\\\Windows\\\\System32\\\\Wbem;C:\\\\Windows\\\\System32\\\\WindowsPowerShell\\\\v1.0\\\\;C:\\\\Windows\\\\System32\\\\OpenSSH\\\\;C:\\\\Program Files (x86)\\\\NVIDIA Corporation\\\\PhysX\\\\Common;C:\\\\Program Files\\\\NVIDIA Corporation\\\\NVIDIA NvDLISR;C:\\\\Program Files\\\\Bandizip\\\\;C:\\\\Program Files (x86)\\\\nodejs\\\\;C:\\\\Users\\\\YUNJI\\\\AppData\\\\Local\\\\Programs\\\\Python\\\\Python313\\\\Scripts\\\\;C:\\\\Users\\\\YUNJI\\\\AppData\\\\Local\\\\Programs\\\\Python\\\\Python313\\\\;C:\\\\Users\\\\YUNJI\\\\AppData\\\\Local\\\\Microsoft\\\\WindowsApps;C:\\\\Users\\\\YUNJI\\\\AppData\\\\Roaming\\\\npm;C:\\\\Users\\\\YUNJI\\\\AppData\\\\Local\\\\Programs\\\\Microsoft VS Code\\\\bin',\n",
       "        '_OLD_VIRTUAL_PROMPT': '$P$G',\n",
       "        'PYDEVD_USE_FRAME_EVAL': 'NO',\n",
       "        'TERM': 'xterm-color',\n",
       "        'CLICOLOR': '1',\n",
       "        'FORCE_COLOR': '1',\n",
       "        'CLICOLOR_FORCE': '1',\n",
       "        'PAGER': 'cat',\n",
       "        'GIT_PAGER': 'cat',\n",
       "        'MPLBACKEND': 'module://matplotlib_inline.backend_inline'}"
      ]
     },
     "execution_count": 155,
     "metadata": {},
     "output_type": "execute_result"
    }
   ],
   "source": [
    "os.environ"
   ]
  },
  {
   "cell_type": "code",
   "execution_count": 156,
   "id": "a941e690",
   "metadata": {},
   "outputs": [],
   "source": [
    "os.chdir('c:\\\\windows')"
   ]
  },
  {
   "cell_type": "code",
   "execution_count": 157,
   "id": "8f17bebc",
   "metadata": {},
   "outputs": [
    {
     "data": {
      "text/plain": [
       "'c:\\\\windows'"
      ]
     },
     "execution_count": 157,
     "metadata": {},
     "output_type": "execute_result"
    }
   ],
   "source": [
    "os.getcwd()"
   ]
  },
  {
   "cell_type": "code",
   "execution_count": 158,
   "id": "653df4ca",
   "metadata": {},
   "outputs": [
    {
     "name": "stderr",
     "output_type": "stream",
     "text": [
      "<>:1: SyntaxWarning: invalid escape sequence '\\p'\n",
      "<>:1: SyntaxWarning: invalid escape sequence '\\p'\n",
      "C:\\Users\\YUNJI\\AppData\\Local\\Temp\\ipykernel_1368\\2435983351.py:1: SyntaxWarning: invalid escape sequence '\\p'\n",
      "  os.chdir('C:\\project\\py_project')\n"
     ]
    }
   ],
   "source": [
    "os.chdir('C:\\project\\py_project')"
   ]
  },
  {
   "cell_type": "code",
   "execution_count": 159,
   "id": "f14f416d",
   "metadata": {},
   "outputs": [
    {
     "data": {
      "text/plain": [
       "'C:\\\\project\\\\py_project'"
      ]
     },
     "execution_count": 159,
     "metadata": {},
     "output_type": "execute_result"
    }
   ],
   "source": [
    "os.getcwd()"
   ]
  },
  {
   "cell_type": "code",
   "execution_count": 162,
   "id": "cde96954",
   "metadata": {},
   "outputs": [],
   "source": [
    "os.mkdir('test')"
   ]
  },
  {
   "cell_type": "code",
   "execution_count": 163,
   "id": "20a5ea34",
   "metadata": {},
   "outputs": [],
   "source": [
    "os.rmdir('test')"
   ]
  },
  {
   "cell_type": "code",
   "execution_count": 164,
   "id": "73591ead",
   "metadata": {},
   "outputs": [],
   "source": [
    "import json"
   ]
  },
  {
   "cell_type": "code",
   "execution_count": 166,
   "id": "b9eae373",
   "metadata": {},
   "outputs": [],
   "source": [
    "with open('data.json', 'r', encoding='utf8') as f :\n",
    "    data = json.load(f)"
   ]
  },
  {
   "cell_type": "code",
   "execution_count": 168,
   "id": "1b98c4bd",
   "metadata": {},
   "outputs": [
    {
     "name": "stdout",
     "output_type": "stream",
     "text": [
      "{'name': '손흥민', 'age': 30, 'number': 7} <class 'dict'>\n"
     ]
    }
   ],
   "source": [
    "print(data, type(data))"
   ]
  },
  {
   "cell_type": "code",
   "execution_count": 169,
   "id": "e82af302",
   "metadata": {},
   "outputs": [],
   "source": [
    "json_str_data = json.dumps(data)"
   ]
  },
  {
   "cell_type": "code",
   "execution_count": 171,
   "id": "7fe41b2c",
   "metadata": {},
   "outputs": [
    {
     "name": "stdout",
     "output_type": "stream",
     "text": [
      "{\"name\": \"\\uc190\\ud765\\ubbfc\", \"age\": 30, \"number\": 7} <class 'str'>\n"
     ]
    }
   ],
   "source": [
    "print(json_str_data, type(json_str_data))"
   ]
  },
  {
   "cell_type": "code",
   "execution_count": 173,
   "id": "9d2085fb",
   "metadata": {},
   "outputs": [],
   "source": [
    "import numpy as np"
   ]
  },
  {
   "cell_type": "code",
   "execution_count": 174,
   "id": "dbd6b100",
   "metadata": {},
   "outputs": [],
   "source": [
    "arr = np.array([1,2,3,4,5])"
   ]
  },
  {
   "cell_type": "code",
   "execution_count": 176,
   "id": "5070a1df",
   "metadata": {},
   "outputs": [
    {
     "name": "stdout",
     "output_type": "stream",
     "text": [
      "[1 2 3 4 5] <class 'numpy.ndarray'>\n"
     ]
    }
   ],
   "source": [
    "print(arr, type(arr))"
   ]
  },
  {
   "cell_type": "code",
   "execution_count": 177,
   "id": "9fbd26df",
   "metadata": {},
   "outputs": [
    {
     "data": {
      "text/plain": [
       "array([11, 12, 13, 14, 15])"
      ]
     },
     "execution_count": 177,
     "metadata": {},
     "output_type": "execute_result"
    }
   ],
   "source": [
    "arr + 10"
   ]
  },
  {
   "cell_type": "code",
   "execution_count": null,
   "id": "68d4b50f",
   "metadata": {},
   "outputs": [
    {
     "name": "stdout",
     "output_type": "stream",
     "text": [
      "[[0. 0. 0.]\n",
      " [0. 0. 0.]]\n"
     ]
    }
   ],
   "source": [
    "# 배열의 생성\n",
    "# 0으로 채워지는 배열 생성\n",
    "zeros = np.zeros((1,3))\n",
    "print(zeros)"
   ]
  },
  {
   "cell_type": "code",
   "execution_count": 180,
   "id": "5559e22b",
   "metadata": {},
   "outputs": [
    {
     "name": "stdout",
     "output_type": "stream",
     "text": [
      "[[1. 1.]\n",
      " [1. 1.]\n",
      " [1. 1.]\n",
      " [1. 1.]\n",
      " [1. 1.]]\n"
     ]
    }
   ],
   "source": [
    "# 1로 채우는 배열\n",
    "ones = np.ones((5,2))\n",
    "print(ones)"
   ]
  },
  {
   "cell_type": "code",
   "execution_count": 181,
   "id": "4b5397f9",
   "metadata": {},
   "outputs": [
    {
     "name": "stdout",
     "output_type": "stream",
     "text": [
      "[0 2 4 6 8]\n"
     ]
    }
   ],
   "source": [
    "# 일련번호 생성되는 배열\n",
    "# 0~10 사이의 숫자를 2씩 간격으로 생성\n",
    "seq_1 = np.arange(0, 10, 2)\n",
    "print(seq_1)"
   ]
  },
  {
   "cell_type": "code",
   "execution_count": 183,
   "id": "10c69c5c",
   "metadata": {},
   "outputs": [
    {
     "name": "stdout",
     "output_type": "stream",
     "text": [
      "[ 1.  4.  7. 10.]\n"
     ]
    }
   ],
   "source": [
    "# 지정된 범위 안에서 동일한 간격으로 숫자를 생성\n",
    "# 0~1 5개로 구분\n",
    "linspace = np.linspace(1, 10, 4)\n",
    "print(linspace)"
   ]
  },
  {
   "cell_type": "code",
   "execution_count": 195,
   "id": "0e8878a9",
   "metadata": {},
   "outputs": [],
   "source": [
    "# 배열의 속성 확인\n",
    "arr1 = np.array([[1,2,3],[4,5,6]])"
   ]
  },
  {
   "cell_type": "code",
   "execution_count": 191,
   "id": "a901a507",
   "metadata": {},
   "outputs": [],
   "source": [
    "# 배열의 속성 확인\n",
    "arr1 = np.array([[[10,20,30]],[[40,50,60]]])"
   ]
  },
  {
   "cell_type": "code",
   "execution_count": 197,
   "id": "f84dc4d4",
   "metadata": {},
   "outputs": [
    {
     "name": "stdout",
     "output_type": "stream",
     "text": [
      "<class 'numpy.ndarray'>\n",
      "(2, 3)\n",
      "2\n",
      "6\n",
      "int64\n"
     ]
    }
   ],
   "source": [
    "print(type(arr1))\n",
    "print(arr1.shape)  # 배열의 크기(행,열) => (3,3)\n",
    "print(arr1.ndim)   # 배열의 차원 : 2\n",
    "print(arr1.size)   # 요소의 개수 : 6\n",
    "print(arr1.dtype)  # int64"
   ]
  },
  {
   "cell_type": "markdown",
   "id": "6c8688b8",
   "metadata": {},
   "source": [
    "## 2025.06.13"
   ]
  },
  {
   "cell_type": "code",
   "execution_count": 1,
   "id": "d69f566f",
   "metadata": {},
   "outputs": [],
   "source": [
    "import numpy as np"
   ]
  },
  {
   "cell_type": "code",
   "execution_count": 2,
   "id": "bb2a5841",
   "metadata": {},
   "outputs": [],
   "source": [
    "# 인덱싱 : list와 사용 방법 같다\n",
    "arr = np.array([10, 20, 30, 40])"
   ]
  },
  {
   "cell_type": "code",
   "execution_count": 3,
   "id": "290567cd",
   "metadata": {},
   "outputs": [
    {
     "data": {
      "text/plain": [
       "array([10, 20, 30, 40])"
      ]
     },
     "execution_count": 3,
     "metadata": {},
     "output_type": "execute_result"
    }
   ],
   "source": [
    "arr"
   ]
  },
  {
   "cell_type": "code",
   "execution_count": 7,
   "id": "4f8bbb34",
   "metadata": {},
   "outputs": [
    {
     "name": "stdout",
     "output_type": "stream",
     "text": [
      "10\n",
      "20\n",
      "30\n",
      "40\n",
      "40\n"
     ]
    }
   ],
   "source": [
    "print(arr[0])\n",
    "print(arr[1])\n",
    "print(arr[2])\n",
    "print(arr[3])\n",
    "print(arr[-1])"
   ]
  },
  {
   "cell_type": "code",
   "execution_count": 8,
   "id": "635cff9d",
   "metadata": {},
   "outputs": [],
   "source": [
    "arr = np.array([[1,2,3],[4,5,6]])"
   ]
  },
  {
   "cell_type": "code",
   "execution_count": 12,
   "id": "22e2418d",
   "metadata": {},
   "outputs": [
    {
     "name": "stdout",
     "output_type": "stream",
     "text": [
      "2\n"
     ]
    }
   ],
   "source": [
    "print(arr[0,1])"
   ]
  },
  {
   "cell_type": "code",
   "execution_count": 13,
   "id": "aca1d170",
   "metadata": {},
   "outputs": [],
   "source": [
    "# 슬라이싱\n",
    "arr = np.array([10, 20, 30, 40, 50])"
   ]
  },
  {
   "cell_type": "code",
   "execution_count": 17,
   "id": "21e0d13d",
   "metadata": {},
   "outputs": [
    {
     "name": "stdout",
     "output_type": "stream",
     "text": [
      "[10 20 30 40 50]\n",
      "[20 30 40]\n",
      "[10 20 30 40]\n",
      "[20 30 40 50]\n"
     ]
    }
   ],
   "source": [
    "print(arr[:])\n",
    "print(arr[1:4])\n",
    "print(arr[:4])\n",
    "print(arr[1:])"
   ]
  },
  {
   "cell_type": "code",
   "execution_count": 18,
   "id": "4e1eb006",
   "metadata": {},
   "outputs": [],
   "source": [
    "arr = np.array([[1,2,3],[4,5,6],[7,8,9]])"
   ]
  },
  {
   "cell_type": "code",
   "execution_count": 19,
   "id": "c3b4ddb4",
   "metadata": {},
   "outputs": [
    {
     "name": "stdout",
     "output_type": "stream",
     "text": [
      "[[1 2 3]\n",
      " [4 5 6]\n",
      " [7 8 9]]\n"
     ]
    }
   ],
   "source": [
    "print(arr)"
   ]
  },
  {
   "cell_type": "code",
   "execution_count": 21,
   "id": "b5745b1a",
   "metadata": {},
   "outputs": [
    {
     "name": "stdout",
     "output_type": "stream",
     "text": [
      "[[2 3]\n",
      " [5 6]]\n",
      "[[4 5]\n",
      " [7 8]]\n"
     ]
    }
   ],
   "source": [
    "print(arr[:2,1:])\n",
    "print(arr[1:,:2])"
   ]
  },
  {
   "cell_type": "code",
   "execution_count": 24,
   "id": "d8b37a44",
   "metadata": {},
   "outputs": [],
   "source": [
    "# 배열의 연산\n",
    "arr1 = np.array([1,2,3])\n",
    "arr2 = np.array([4,5,6])"
   ]
  },
  {
   "cell_type": "code",
   "execution_count": 25,
   "id": "a8f287e3",
   "metadata": {},
   "outputs": [
    {
     "name": "stdout",
     "output_type": "stream",
     "text": [
      "[5 7 9]\n",
      "[ 4 10 18]\n",
      "[1 4 9]\n"
     ]
    }
   ],
   "source": [
    "# +, *,  **\n",
    "print(arr1+arr2)\n",
    "print(arr1*arr2)\n",
    "print(arr1**2)"
   ]
  },
  {
   "cell_type": "code",
   "execution_count": 26,
   "id": "2604269f",
   "metadata": {},
   "outputs": [
    {
     "name": "stdout",
     "output_type": "stream",
     "text": [
      "[11 12 13]\n"
     ]
    }
   ],
   "source": [
    "print(arr1+10)"
   ]
  },
  {
   "cell_type": "code",
   "execution_count": 28,
   "id": "a2aa3a73",
   "metadata": {},
   "outputs": [],
   "source": [
    "arr3 = np.array([[1,2,3],[4,5,6]])"
   ]
  },
  {
   "cell_type": "code",
   "execution_count": 29,
   "id": "900c6663",
   "metadata": {},
   "outputs": [
    {
     "name": "stdout",
     "output_type": "stream",
     "text": [
      "[[11 12 13]\n",
      " [14 15 16]]\n"
     ]
    }
   ],
   "source": [
    "print(arr3+10)"
   ]
  },
  {
   "cell_type": "code",
   "execution_count": 33,
   "id": "f1923143",
   "metadata": {},
   "outputs": [],
   "source": [
    "# 형변환: 1차원 -> 다차원, 다차원 -> 1차원, 요소를 필터링\n",
    "# 구조 변경 : 1 -> 2, 2 -> 1\n",
    "arr = np.array([1,2,3,4,5,6]) #[[1,2,3],[4,5,6]]"
   ]
  },
  {
   "cell_type": "code",
   "execution_count": 34,
   "id": "a59c1951",
   "metadata": {},
   "outputs": [
    {
     "name": "stdout",
     "output_type": "stream",
     "text": [
      "[[1 2 3]\n",
      " [4 5 6]]\n"
     ]
    }
   ],
   "source": [
    "reshape = arr.reshape(2,3)\n",
    "print(reshape)"
   ]
  },
  {
   "cell_type": "code",
   "execution_count": 35,
   "id": "6be3514a",
   "metadata": {},
   "outputs": [
    {
     "data": {
      "text/plain": [
       "array([1, 2, 3, 4, 5, 6])"
      ]
     },
     "execution_count": 35,
     "metadata": {},
     "output_type": "execute_result"
    }
   ],
   "source": [
    "arr"
   ]
  },
  {
   "cell_type": "code",
   "execution_count": 36,
   "id": "be38b1a9",
   "metadata": {},
   "outputs": [
    {
     "name": "stdout",
     "output_type": "stream",
     "text": [
      "[1 2 3 4 5 6]\n"
     ]
    }
   ],
   "source": [
    "flat_arr = arr.flatten()\n",
    "print(flat_arr)"
   ]
  },
  {
   "cell_type": "code",
   "execution_count": 37,
   "id": "b2e4d15b",
   "metadata": {},
   "outputs": [],
   "source": [
    "# 필터링\n",
    "arr = np.array([1,2,3,4,5,6])"
   ]
  },
  {
   "cell_type": "code",
   "execution_count": 39,
   "id": "fae81b0b",
   "metadata": {},
   "outputs": [
    {
     "name": "stdout",
     "output_type": "stream",
     "text": [
      "[4 5 6]\n"
     ]
    }
   ],
   "source": [
    "filter_arr = arr[arr>3]\n",
    "print(filter_arr)"
   ]
  },
  {
   "cell_type": "code",
   "execution_count": 40,
   "id": "5ba6ff29",
   "metadata": {},
   "outputs": [
    {
     "name": "stdout",
     "output_type": "stream",
     "text": [
      "[0.38860957 0.57115663 0.52689321 0.97415352 0.61418433]\n"
     ]
    }
   ],
   "source": [
    "# 넘파이를 이용한 난수 생성 => 배열\n",
    "ran_val = np.random.rand(5)\n",
    "print(ran_val)"
   ]
  },
  {
   "cell_type": "code",
   "execution_count": 42,
   "id": "b47ed71f",
   "metadata": {},
   "outputs": [
    {
     "name": "stdout",
     "output_type": "stream",
     "text": [
      "[[77 89 71 87 92 85 63 80 55 54]\n",
      " [54 81 70 86 77 62 65 82 88 78]\n",
      " [99 84 52 68 57 63 95 59 75 87]\n",
      " [95 68 62 58 63 51 57 83 74 80]\n",
      " [89 89 85 51 90 98 96 94 79 78]]\n"
     ]
    }
   ],
   "source": [
    "ran_int = np.random.randint(50, 100, size=(5,10))\n",
    "print(ran_int)"
   ]
  },
  {
   "cell_type": "code",
   "execution_count": 44,
   "id": "7c235ecf",
   "metadata": {},
   "outputs": [],
   "source": [
    "import pandas as pd"
   ]
  },
  {
   "cell_type": "code",
   "execution_count": 48,
   "id": "33ce6192",
   "metadata": {},
   "outputs": [],
   "source": [
    "# DataFrame 생성 : 2차원 형식의 데이터 구조\n",
    "data = {\n",
    "    'name' : ['son', 'king', 'scott'],\n",
    "    'age' : [20, 30, 50]\n",
    "}\n",
    "\n",
    "df = pd.DataFrame(data)"
   ]
  },
  {
   "cell_type": "code",
   "execution_count": 50,
   "id": "cd2733a7",
   "metadata": {},
   "outputs": [
    {
     "name": "stdout",
     "output_type": "stream",
     "text": [
      "    name  age\n",
      "0    son   20\n",
      "1   king   30\n",
      "2  scott   50\n"
     ]
    }
   ],
   "source": [
    "print(df)"
   ]
  },
  {
   "cell_type": "code",
   "execution_count": 54,
   "id": "bb5c2492",
   "metadata": {},
   "outputs": [
    {
     "data": {
      "text/html": [
       "<div>\n",
       "<style scoped>\n",
       "    .dataframe tbody tr th:only-of-type {\n",
       "        vertical-align: middle;\n",
       "    }\n",
       "\n",
       "    .dataframe tbody tr th {\n",
       "        vertical-align: top;\n",
       "    }\n",
       "\n",
       "    .dataframe thead th {\n",
       "        text-align: right;\n",
       "    }\n",
       "</style>\n",
       "<table border=\"1\" class=\"dataframe\">\n",
       "  <thead>\n",
       "    <tr style=\"text-align: right;\">\n",
       "      <th></th>\n",
       "      <th>name</th>\n",
       "      <th>age</th>\n",
       "    </tr>\n",
       "  </thead>\n",
       "  <tbody>\n",
       "    <tr>\n",
       "      <th>0</th>\n",
       "      <td>son</td>\n",
       "      <td>20</td>\n",
       "    </tr>\n",
       "  </tbody>\n",
       "</table>\n",
       "</div>"
      ],
      "text/plain": [
       "  name  age\n",
       "0  son   20"
      ]
     },
     "execution_count": 54,
     "metadata": {},
     "output_type": "execute_result"
    }
   ],
   "source": [
    "# df.head()    # default => 5\n",
    "df.head(n=1)"
   ]
  },
  {
   "cell_type": "code",
   "execution_count": 56,
   "id": "0e4371dc",
   "metadata": {},
   "outputs": [
    {
     "data": {
      "text/html": [
       "<div>\n",
       "<style scoped>\n",
       "    .dataframe tbody tr th:only-of-type {\n",
       "        vertical-align: middle;\n",
       "    }\n",
       "\n",
       "    .dataframe tbody tr th {\n",
       "        vertical-align: top;\n",
       "    }\n",
       "\n",
       "    .dataframe thead th {\n",
       "        text-align: right;\n",
       "    }\n",
       "</style>\n",
       "<table border=\"1\" class=\"dataframe\">\n",
       "  <thead>\n",
       "    <tr style=\"text-align: right;\">\n",
       "      <th></th>\n",
       "      <th>name</th>\n",
       "      <th>age</th>\n",
       "    </tr>\n",
       "  </thead>\n",
       "  <tbody>\n",
       "    <tr>\n",
       "      <th>1</th>\n",
       "      <td>king</td>\n",
       "      <td>30</td>\n",
       "    </tr>\n",
       "    <tr>\n",
       "      <th>2</th>\n",
       "      <td>scott</td>\n",
       "      <td>50</td>\n",
       "    </tr>\n",
       "  </tbody>\n",
       "</table>\n",
       "</div>"
      ],
      "text/plain": [
       "    name  age\n",
       "1   king   30\n",
       "2  scott   50"
      ]
     },
     "execution_count": 56,
     "metadata": {},
     "output_type": "execute_result"
    }
   ],
   "source": [
    "df.tail(n=2)"
   ]
  },
  {
   "cell_type": "code",
   "execution_count": 57,
   "id": "b5767117",
   "metadata": {},
   "outputs": [],
   "source": [
    "# filter\n",
    "filter_df = df[df['age'] < 35]"
   ]
  },
  {
   "cell_type": "code",
   "execution_count": 58,
   "id": "82ea5f67",
   "metadata": {},
   "outputs": [
    {
     "name": "stdout",
     "output_type": "stream",
     "text": [
      "100\n",
      "33.333333333333336\n"
     ]
    }
   ],
   "source": [
    "# 기초 통계 : 합, 평균균\n",
    "print(df['age'].sum())\n",
    "print(df['age'].mean())"
   ]
  },
  {
   "cell_type": "code",
   "execution_count": 59,
   "id": "b1b9aaa1",
   "metadata": {},
   "outputs": [
    {
     "name": "stdout",
     "output_type": "stream",
     "text": [
      "a    100\n",
      "b    200\n",
      "c    300\n",
      "dtype: int64\n"
     ]
    }
   ],
   "source": [
    "# Series : 1차원 구조를 표현하는 타입\n",
    "# (리스트, index=[])\n",
    "s1 = pd.Series([100, 200, 300], index=['a', 'b', 'c'])\n",
    "print(s1)"
   ]
  },
  {
   "cell_type": "code",
   "execution_count": 63,
   "id": "6cda12a7",
   "metadata": {},
   "outputs": [
    {
     "name": "stdout",
     "output_type": "stream",
     "text": [
      "200\n",
      "300\n",
      "100\n",
      "Index(['a', 'b', 'c'], dtype='object')\n",
      "[100 200 300]\n"
     ]
    }
   ],
   "source": [
    "print(s1['b'])\n",
    "print(s1['c'])\n",
    "print(s1['a'])\n",
    "print(s1.index)\n",
    "print(s1.values)"
   ]
  },
  {
   "cell_type": "code",
   "execution_count": 65,
   "id": "17a9be81",
   "metadata": {},
   "outputs": [
    {
     "data": {
      "text/plain": [
       "a    100\n",
       "b    200\n",
       "c    300\n",
       "dtype: int64"
      ]
     },
     "execution_count": 65,
     "metadata": {},
     "output_type": "execute_result"
    }
   ],
   "source": [
    "s1"
   ]
  },
  {
   "cell_type": "code",
   "execution_count": 66,
   "id": "c410a0e9",
   "metadata": {},
   "outputs": [
    {
     "name": "stdout",
     "output_type": "stream",
     "text": [
      "    name  age\n",
      "0    son   20\n",
      "1   king   30\n",
      "2  scott   50\n",
      "   name  age\n",
      "0   son   20\n",
      "1  king   30\n",
      "    name  age\n",
      "0    son   20\n",
      "1   king   30\n",
      "2  scott   50\n",
      "    name  age\n",
      "2  scott   50\n"
     ]
    }
   ],
   "source": [
    "print(df.head())\n",
    "print(df.head(2))\n",
    "print(df.tail())\n",
    "print(df.tail(1))"
   ]
  },
  {
   "cell_type": "code",
   "execution_count": 67,
   "id": "ff305d68",
   "metadata": {},
   "outputs": [
    {
     "data": {
      "text/plain": [
       "(3, 2)"
      ]
     },
     "execution_count": 67,
     "metadata": {},
     "output_type": "execute_result"
    }
   ],
   "source": [
    "# 데이터 구조 확인\n",
    "df.shape"
   ]
  },
  {
   "cell_type": "code",
   "execution_count": 68,
   "id": "924fe1a0",
   "metadata": {},
   "outputs": [
    {
     "name": "stdout",
     "output_type": "stream",
     "text": [
      "<class 'pandas.core.frame.DataFrame'>\n",
      "RangeIndex: 3 entries, 0 to 2\n",
      "Data columns (total 2 columns):\n",
      " #   Column  Non-Null Count  Dtype \n",
      "---  ------  --------------  ----- \n",
      " 0   name    3 non-null      object\n",
      " 1   age     3 non-null      int64 \n",
      "dtypes: int64(1), object(1)\n",
      "memory usage: 180.0+ bytes\n"
     ]
    }
   ],
   "source": [
    "df.info()"
   ]
  },
  {
   "cell_type": "code",
   "execution_count": 69,
   "id": "76f4ff0e",
   "metadata": {},
   "outputs": [
    {
     "data": {
      "text/html": [
       "<div>\n",
       "<style scoped>\n",
       "    .dataframe tbody tr th:only-of-type {\n",
       "        vertical-align: middle;\n",
       "    }\n",
       "\n",
       "    .dataframe tbody tr th {\n",
       "        vertical-align: top;\n",
       "    }\n",
       "\n",
       "    .dataframe thead th {\n",
       "        text-align: right;\n",
       "    }\n",
       "</style>\n",
       "<table border=\"1\" class=\"dataframe\">\n",
       "  <thead>\n",
       "    <tr style=\"text-align: right;\">\n",
       "      <th></th>\n",
       "      <th>age</th>\n",
       "    </tr>\n",
       "  </thead>\n",
       "  <tbody>\n",
       "    <tr>\n",
       "      <th>count</th>\n",
       "      <td>3.000000</td>\n",
       "    </tr>\n",
       "    <tr>\n",
       "      <th>mean</th>\n",
       "      <td>33.333333</td>\n",
       "    </tr>\n",
       "    <tr>\n",
       "      <th>std</th>\n",
       "      <td>15.275252</td>\n",
       "    </tr>\n",
       "    <tr>\n",
       "      <th>min</th>\n",
       "      <td>20.000000</td>\n",
       "    </tr>\n",
       "    <tr>\n",
       "      <th>25%</th>\n",
       "      <td>25.000000</td>\n",
       "    </tr>\n",
       "    <tr>\n",
       "      <th>50%</th>\n",
       "      <td>30.000000</td>\n",
       "    </tr>\n",
       "    <tr>\n",
       "      <th>75%</th>\n",
       "      <td>40.000000</td>\n",
       "    </tr>\n",
       "    <tr>\n",
       "      <th>max</th>\n",
       "      <td>50.000000</td>\n",
       "    </tr>\n",
       "  </tbody>\n",
       "</table>\n",
       "</div>"
      ],
      "text/plain": [
       "             age\n",
       "count   3.000000\n",
       "mean   33.333333\n",
       "std    15.275252\n",
       "min    20.000000\n",
       "25%    25.000000\n",
       "50%    30.000000\n",
       "75%    40.000000\n",
       "max    50.000000"
      ]
     },
     "execution_count": 69,
     "metadata": {},
     "output_type": "execute_result"
    }
   ],
   "source": [
    "df.describe()"
   ]
  },
  {
   "cell_type": "code",
   "execution_count": 72,
   "id": "b59c903f",
   "metadata": {},
   "outputs": [
    {
     "data": {
      "text/plain": [
       "0    20\n",
       "1    30\n",
       "2    50\n",
       "Name: age, dtype: int64"
      ]
     },
     "execution_count": 72,
     "metadata": {},
     "output_type": "execute_result"
    }
   ],
   "source": [
    "df['age']"
   ]
  },
  {
   "cell_type": "code",
   "execution_count": 73,
   "id": "289150b2",
   "metadata": {},
   "outputs": [
    {
     "data": {
      "text/html": [
       "<div>\n",
       "<style scoped>\n",
       "    .dataframe tbody tr th:only-of-type {\n",
       "        vertical-align: middle;\n",
       "    }\n",
       "\n",
       "    .dataframe tbody tr th {\n",
       "        vertical-align: top;\n",
       "    }\n",
       "\n",
       "    .dataframe thead th {\n",
       "        text-align: right;\n",
       "    }\n",
       "</style>\n",
       "<table border=\"1\" class=\"dataframe\">\n",
       "  <thead>\n",
       "    <tr style=\"text-align: right;\">\n",
       "      <th></th>\n",
       "      <th>age</th>\n",
       "      <th>name</th>\n",
       "    </tr>\n",
       "  </thead>\n",
       "  <tbody>\n",
       "    <tr>\n",
       "      <th>0</th>\n",
       "      <td>20</td>\n",
       "      <td>son</td>\n",
       "    </tr>\n",
       "    <tr>\n",
       "      <th>1</th>\n",
       "      <td>30</td>\n",
       "      <td>king</td>\n",
       "    </tr>\n",
       "    <tr>\n",
       "      <th>2</th>\n",
       "      <td>50</td>\n",
       "      <td>scott</td>\n",
       "    </tr>\n",
       "  </tbody>\n",
       "</table>\n",
       "</div>"
      ],
      "text/plain": [
       "   age   name\n",
       "0   20    son\n",
       "1   30   king\n",
       "2   50  scott"
      ]
     },
     "execution_count": 73,
     "metadata": {},
     "output_type": "execute_result"
    }
   ],
   "source": [
    "df[['age', 'name']]"
   ]
  },
  {
   "cell_type": "code",
   "execution_count": 74,
   "id": "19a36f01",
   "metadata": {},
   "outputs": [
    {
     "data": {
      "text/html": [
       "<div>\n",
       "<style scoped>\n",
       "    .dataframe tbody tr th:only-of-type {\n",
       "        vertical-align: middle;\n",
       "    }\n",
       "\n",
       "    .dataframe tbody tr th {\n",
       "        vertical-align: top;\n",
       "    }\n",
       "\n",
       "    .dataframe thead th {\n",
       "        text-align: right;\n",
       "    }\n",
       "</style>\n",
       "<table border=\"1\" class=\"dataframe\">\n",
       "  <thead>\n",
       "    <tr style=\"text-align: right;\">\n",
       "      <th></th>\n",
       "      <th>name</th>\n",
       "      <th>age</th>\n",
       "    </tr>\n",
       "  </thead>\n",
       "  <tbody>\n",
       "    <tr>\n",
       "      <th>1</th>\n",
       "      <td>king</td>\n",
       "      <td>30</td>\n",
       "    </tr>\n",
       "    <tr>\n",
       "      <th>2</th>\n",
       "      <td>scott</td>\n",
       "      <td>50</td>\n",
       "    </tr>\n",
       "  </tbody>\n",
       "</table>\n",
       "</div>"
      ],
      "text/plain": [
       "    name  age\n",
       "1   king   30\n",
       "2  scott   50"
      ]
     },
     "execution_count": 74,
     "metadata": {},
     "output_type": "execute_result"
    }
   ],
   "source": [
    "df[df['age'] > 25]"
   ]
  },
  {
   "cell_type": "code",
   "execution_count": 75,
   "id": "dc40832e",
   "metadata": {},
   "outputs": [],
   "source": [
    "data = {\n",
    "    'name' : ['son', 'king', 'scott'],\n",
    "    'age' : [30, 40, 25],\n",
    "    'score' : [90, 85, 95]\n",
    "}\n",
    "df = pd.DataFrame(data)"
   ]
  },
  {
   "cell_type": "code",
   "execution_count": 77,
   "id": "e1723499",
   "metadata": {},
   "outputs": [
    {
     "name": "stdout",
     "output_type": "stream",
     "text": [
      "    name  age  score\n",
      "0    son   30     90\n",
      "2  scott   25     95\n"
     ]
    }
   ],
   "source": [
    "chk_score = df[df['score']>=90]\n",
    "print(chk_score)"
   ]
  },
  {
   "cell_type": "code",
   "execution_count": 79,
   "id": "edd55b56",
   "metadata": {},
   "outputs": [
    {
     "name": "stdout",
     "output_type": "stream",
     "text": [
      "    name  age  score  passed\n",
      "0    son   30     90    True\n",
      "1   king   40     85   False\n",
      "2  scott   25     95    True\n"
     ]
    }
   ],
   "source": [
    "# 열(컬럼) 추가\n",
    "df['passed'] = df['score']>=90\n",
    "print(df)"
   ]
  },
  {
   "cell_type": "code",
   "execution_count": 80,
   "id": "4157fe50",
   "metadata": {},
   "outputs": [
    {
     "data": {
      "text/html": [
       "<div>\n",
       "<style scoped>\n",
       "    .dataframe tbody tr th:only-of-type {\n",
       "        vertical-align: middle;\n",
       "    }\n",
       "\n",
       "    .dataframe tbody tr th {\n",
       "        vertical-align: top;\n",
       "    }\n",
       "\n",
       "    .dataframe thead th {\n",
       "        text-align: right;\n",
       "    }\n",
       "</style>\n",
       "<table border=\"1\" class=\"dataframe\">\n",
       "  <thead>\n",
       "    <tr style=\"text-align: right;\">\n",
       "      <th></th>\n",
       "      <th>name</th>\n",
       "      <th>age</th>\n",
       "      <th>score</th>\n",
       "      <th>passed</th>\n",
       "    </tr>\n",
       "  </thead>\n",
       "  <tbody>\n",
       "    <tr>\n",
       "      <th>0</th>\n",
       "      <td>son</td>\n",
       "      <td>30</td>\n",
       "      <td>90</td>\n",
       "      <td>True</td>\n",
       "    </tr>\n",
       "    <tr>\n",
       "      <th>1</th>\n",
       "      <td>king</td>\n",
       "      <td>40</td>\n",
       "      <td>85</td>\n",
       "      <td>False</td>\n",
       "    </tr>\n",
       "    <tr>\n",
       "      <th>2</th>\n",
       "      <td>scott</td>\n",
       "      <td>25</td>\n",
       "      <td>95</td>\n",
       "      <td>True</td>\n",
       "    </tr>\n",
       "  </tbody>\n",
       "</table>\n",
       "</div>"
      ],
      "text/plain": [
       "    name  age  score  passed\n",
       "0    son   30     90    True\n",
       "1   king   40     85   False\n",
       "2  scott   25     95    True"
      ]
     },
     "execution_count": 80,
     "metadata": {},
     "output_type": "execute_result"
    }
   ],
   "source": [
    "df"
   ]
  },
  {
   "cell_type": "code",
   "execution_count": 95,
   "id": "bc5aea51",
   "metadata": {},
   "outputs": [],
   "source": [
    "# 행의 추가 : pd.append\n",
    "new_row = {\n",
    "    'name' : ['Cool'],\n",
    "    'age' : 20,\n",
    "    'score' : 88,\n",
    "    'passed' : False\n",
    "}\n",
    "df2 = pd.DataFrame(new_row)"
   ]
  },
  {
   "cell_type": "code",
   "execution_count": 96,
   "id": "8e956942",
   "metadata": {},
   "outputs": [
    {
     "name": "stdout",
     "output_type": "stream",
     "text": [
      "     name  age  score  passed\n",
      "0     son   30     90    True\n",
      "1    king   40     85   False\n",
      "2   scott   25     95    True\n",
      "3  [Cool]   20     88   False\n",
      "4    Cool   20     88   False\n",
      "   name  age  score  passed\n",
      "0  Cool   20     88   False\n"
     ]
    }
   ],
   "source": [
    "print(df)\n",
    "print(df2)"
   ]
  },
  {
   "cell_type": "code",
   "execution_count": 97,
   "id": "426906e2",
   "metadata": {},
   "outputs": [
    {
     "data": {
      "text/html": [
       "<div>\n",
       "<style scoped>\n",
       "    .dataframe tbody tr th:only-of-type {\n",
       "        vertical-align: middle;\n",
       "    }\n",
       "\n",
       "    .dataframe tbody tr th {\n",
       "        vertical-align: top;\n",
       "    }\n",
       "\n",
       "    .dataframe thead th {\n",
       "        text-align: right;\n",
       "    }\n",
       "</style>\n",
       "<table border=\"1\" class=\"dataframe\">\n",
       "  <thead>\n",
       "    <tr style=\"text-align: right;\">\n",
       "      <th></th>\n",
       "      <th>name</th>\n",
       "      <th>age</th>\n",
       "      <th>score</th>\n",
       "      <th>passed</th>\n",
       "    </tr>\n",
       "  </thead>\n",
       "  <tbody>\n",
       "    <tr>\n",
       "      <th>0</th>\n",
       "      <td>son</td>\n",
       "      <td>30</td>\n",
       "      <td>90</td>\n",
       "      <td>True</td>\n",
       "    </tr>\n",
       "    <tr>\n",
       "      <th>1</th>\n",
       "      <td>king</td>\n",
       "      <td>40</td>\n",
       "      <td>85</td>\n",
       "      <td>False</td>\n",
       "    </tr>\n",
       "    <tr>\n",
       "      <th>2</th>\n",
       "      <td>scott</td>\n",
       "      <td>25</td>\n",
       "      <td>95</td>\n",
       "      <td>True</td>\n",
       "    </tr>\n",
       "    <tr>\n",
       "      <th>3</th>\n",
       "      <td>[Cool]</td>\n",
       "      <td>20</td>\n",
       "      <td>88</td>\n",
       "      <td>False</td>\n",
       "    </tr>\n",
       "    <tr>\n",
       "      <th>4</th>\n",
       "      <td>Cool</td>\n",
       "      <td>20</td>\n",
       "      <td>88</td>\n",
       "      <td>False</td>\n",
       "    </tr>\n",
       "    <tr>\n",
       "      <th>5</th>\n",
       "      <td>Cool</td>\n",
       "      <td>20</td>\n",
       "      <td>88</td>\n",
       "      <td>False</td>\n",
       "    </tr>\n",
       "  </tbody>\n",
       "</table>\n",
       "</div>"
      ],
      "text/plain": [
       "     name  age  score  passed\n",
       "0     son   30     90    True\n",
       "1    king   40     85   False\n",
       "2   scott   25     95    True\n",
       "3  [Cool]   20     88   False\n",
       "4    Cool   20     88   False\n",
       "5    Cool   20     88   False"
      ]
     },
     "execution_count": 97,
     "metadata": {},
     "output_type": "execute_result"
    }
   ],
   "source": [
    "df = pd.concat([df, df2], ignore_index=True)\n",
    "df"
   ]
  },
  {
   "cell_type": "code",
   "execution_count": 98,
   "id": "3410454f",
   "metadata": {},
   "outputs": [],
   "source": [
    "# 데이터 수정\n",
    "df.loc[0, 'age'] = 26"
   ]
  },
  {
   "cell_type": "code",
   "execution_count": 99,
   "id": "2e913dda",
   "metadata": {},
   "outputs": [],
   "source": [
    "df['passed'] = df['score'] >= 80"
   ]
  },
  {
   "cell_type": "code",
   "execution_count": 100,
   "id": "eff02be9",
   "metadata": {},
   "outputs": [
    {
     "data": {
      "text/html": [
       "<div>\n",
       "<style scoped>\n",
       "    .dataframe tbody tr th:only-of-type {\n",
       "        vertical-align: middle;\n",
       "    }\n",
       "\n",
       "    .dataframe tbody tr th {\n",
       "        vertical-align: top;\n",
       "    }\n",
       "\n",
       "    .dataframe thead th {\n",
       "        text-align: right;\n",
       "    }\n",
       "</style>\n",
       "<table border=\"1\" class=\"dataframe\">\n",
       "  <thead>\n",
       "    <tr style=\"text-align: right;\">\n",
       "      <th></th>\n",
       "      <th>name</th>\n",
       "      <th>age</th>\n",
       "      <th>score</th>\n",
       "      <th>passed</th>\n",
       "    </tr>\n",
       "  </thead>\n",
       "  <tbody>\n",
       "    <tr>\n",
       "      <th>0</th>\n",
       "      <td>son</td>\n",
       "      <td>26</td>\n",
       "      <td>90</td>\n",
       "      <td>True</td>\n",
       "    </tr>\n",
       "    <tr>\n",
       "      <th>1</th>\n",
       "      <td>king</td>\n",
       "      <td>40</td>\n",
       "      <td>85</td>\n",
       "      <td>True</td>\n",
       "    </tr>\n",
       "    <tr>\n",
       "      <th>2</th>\n",
       "      <td>scott</td>\n",
       "      <td>25</td>\n",
       "      <td>95</td>\n",
       "      <td>True</td>\n",
       "    </tr>\n",
       "    <tr>\n",
       "      <th>3</th>\n",
       "      <td>[Cool]</td>\n",
       "      <td>20</td>\n",
       "      <td>88</td>\n",
       "      <td>True</td>\n",
       "    </tr>\n",
       "    <tr>\n",
       "      <th>4</th>\n",
       "      <td>Cool</td>\n",
       "      <td>20</td>\n",
       "      <td>88</td>\n",
       "      <td>True</td>\n",
       "    </tr>\n",
       "    <tr>\n",
       "      <th>5</th>\n",
       "      <td>Cool</td>\n",
       "      <td>20</td>\n",
       "      <td>88</td>\n",
       "      <td>True</td>\n",
       "    </tr>\n",
       "  </tbody>\n",
       "</table>\n",
       "</div>"
      ],
      "text/plain": [
       "     name  age  score  passed\n",
       "0     son   26     90    True\n",
       "1    king   40     85    True\n",
       "2   scott   25     95    True\n",
       "3  [Cool]   20     88    True\n",
       "4    Cool   20     88    True\n",
       "5    Cool   20     88    True"
      ]
     },
     "execution_count": 100,
     "metadata": {},
     "output_type": "execute_result"
    }
   ],
   "source": [
    "df"
   ]
  },
  {
   "cell_type": "code",
   "execution_count": 101,
   "id": "c9963e3b",
   "metadata": {},
   "outputs": [],
   "source": [
    "# None\n",
    "df.loc[1,'score'] = None"
   ]
  },
  {
   "cell_type": "code",
   "execution_count": 102,
   "id": "9d0f366b",
   "metadata": {},
   "outputs": [
    {
     "data": {
      "text/html": [
       "<div>\n",
       "<style scoped>\n",
       "    .dataframe tbody tr th:only-of-type {\n",
       "        vertical-align: middle;\n",
       "    }\n",
       "\n",
       "    .dataframe tbody tr th {\n",
       "        vertical-align: top;\n",
       "    }\n",
       "\n",
       "    .dataframe thead th {\n",
       "        text-align: right;\n",
       "    }\n",
       "</style>\n",
       "<table border=\"1\" class=\"dataframe\">\n",
       "  <thead>\n",
       "    <tr style=\"text-align: right;\">\n",
       "      <th></th>\n",
       "      <th>name</th>\n",
       "      <th>age</th>\n",
       "      <th>score</th>\n",
       "      <th>passed</th>\n",
       "    </tr>\n",
       "  </thead>\n",
       "  <tbody>\n",
       "    <tr>\n",
       "      <th>0</th>\n",
       "      <td>son</td>\n",
       "      <td>26</td>\n",
       "      <td>90.0</td>\n",
       "      <td>True</td>\n",
       "    </tr>\n",
       "    <tr>\n",
       "      <th>1</th>\n",
       "      <td>king</td>\n",
       "      <td>40</td>\n",
       "      <td>NaN</td>\n",
       "      <td>True</td>\n",
       "    </tr>\n",
       "    <tr>\n",
       "      <th>2</th>\n",
       "      <td>scott</td>\n",
       "      <td>25</td>\n",
       "      <td>95.0</td>\n",
       "      <td>True</td>\n",
       "    </tr>\n",
       "    <tr>\n",
       "      <th>3</th>\n",
       "      <td>[Cool]</td>\n",
       "      <td>20</td>\n",
       "      <td>88.0</td>\n",
       "      <td>True</td>\n",
       "    </tr>\n",
       "    <tr>\n",
       "      <th>4</th>\n",
       "      <td>Cool</td>\n",
       "      <td>20</td>\n",
       "      <td>88.0</td>\n",
       "      <td>True</td>\n",
       "    </tr>\n",
       "    <tr>\n",
       "      <th>5</th>\n",
       "      <td>Cool</td>\n",
       "      <td>20</td>\n",
       "      <td>88.0</td>\n",
       "      <td>True</td>\n",
       "    </tr>\n",
       "  </tbody>\n",
       "</table>\n",
       "</div>"
      ],
      "text/plain": [
       "     name  age  score  passed\n",
       "0     son   26   90.0    True\n",
       "1    king   40    NaN    True\n",
       "2   scott   25   95.0    True\n",
       "3  [Cool]   20   88.0    True\n",
       "4    Cool   20   88.0    True\n",
       "5    Cool   20   88.0    True"
      ]
     },
     "execution_count": 102,
     "metadata": {},
     "output_type": "execute_result"
    }
   ],
   "source": [
    "df"
   ]
  },
  {
   "cell_type": "code",
   "execution_count": 103,
   "id": "76c11b7d",
   "metadata": {},
   "outputs": [
    {
     "data": {
      "text/html": [
       "<div>\n",
       "<style scoped>\n",
       "    .dataframe tbody tr th:only-of-type {\n",
       "        vertical-align: middle;\n",
       "    }\n",
       "\n",
       "    .dataframe tbody tr th {\n",
       "        vertical-align: top;\n",
       "    }\n",
       "\n",
       "    .dataframe thead th {\n",
       "        text-align: right;\n",
       "    }\n",
       "</style>\n",
       "<table border=\"1\" class=\"dataframe\">\n",
       "  <thead>\n",
       "    <tr style=\"text-align: right;\">\n",
       "      <th></th>\n",
       "      <th>name</th>\n",
       "      <th>age</th>\n",
       "      <th>score</th>\n",
       "      <th>passed</th>\n",
       "    </tr>\n",
       "  </thead>\n",
       "  <tbody>\n",
       "    <tr>\n",
       "      <th>0</th>\n",
       "      <td>False</td>\n",
       "      <td>False</td>\n",
       "      <td>False</td>\n",
       "      <td>False</td>\n",
       "    </tr>\n",
       "    <tr>\n",
       "      <th>1</th>\n",
       "      <td>False</td>\n",
       "      <td>False</td>\n",
       "      <td>True</td>\n",
       "      <td>False</td>\n",
       "    </tr>\n",
       "    <tr>\n",
       "      <th>2</th>\n",
       "      <td>False</td>\n",
       "      <td>False</td>\n",
       "      <td>False</td>\n",
       "      <td>False</td>\n",
       "    </tr>\n",
       "    <tr>\n",
       "      <th>3</th>\n",
       "      <td>False</td>\n",
       "      <td>False</td>\n",
       "      <td>False</td>\n",
       "      <td>False</td>\n",
       "    </tr>\n",
       "    <tr>\n",
       "      <th>4</th>\n",
       "      <td>False</td>\n",
       "      <td>False</td>\n",
       "      <td>False</td>\n",
       "      <td>False</td>\n",
       "    </tr>\n",
       "    <tr>\n",
       "      <th>5</th>\n",
       "      <td>False</td>\n",
       "      <td>False</td>\n",
       "      <td>False</td>\n",
       "      <td>False</td>\n",
       "    </tr>\n",
       "  </tbody>\n",
       "</table>\n",
       "</div>"
      ],
      "text/plain": [
       "    name    age  score  passed\n",
       "0  False  False  False   False\n",
       "1  False  False   True   False\n",
       "2  False  False  False   False\n",
       "3  False  False  False   False\n",
       "4  False  False  False   False\n",
       "5  False  False  False   False"
      ]
     },
     "execution_count": 103,
     "metadata": {},
     "output_type": "execute_result"
    }
   ],
   "source": [
    "df.isnull()"
   ]
  },
  {
   "cell_type": "code",
   "execution_count": 105,
   "id": "861edb27",
   "metadata": {},
   "outputs": [],
   "source": [
    "df['score'] = df['score'].fillna(0)"
   ]
  },
  {
   "cell_type": "code",
   "execution_count": 107,
   "id": "de421101",
   "metadata": {},
   "outputs": [
    {
     "data": {
      "text/html": [
       "<div>\n",
       "<style scoped>\n",
       "    .dataframe tbody tr th:only-of-type {\n",
       "        vertical-align: middle;\n",
       "    }\n",
       "\n",
       "    .dataframe tbody tr th {\n",
       "        vertical-align: top;\n",
       "    }\n",
       "\n",
       "    .dataframe thead th {\n",
       "        text-align: right;\n",
       "    }\n",
       "</style>\n",
       "<table border=\"1\" class=\"dataframe\">\n",
       "  <thead>\n",
       "    <tr style=\"text-align: right;\">\n",
       "      <th></th>\n",
       "      <th>name</th>\n",
       "      <th>age</th>\n",
       "      <th>score</th>\n",
       "      <th>passed</th>\n",
       "    </tr>\n",
       "  </thead>\n",
       "  <tbody>\n",
       "    <tr>\n",
       "      <th>0</th>\n",
       "      <td>son</td>\n",
       "      <td>26</td>\n",
       "      <td>90.0</td>\n",
       "      <td>True</td>\n",
       "    </tr>\n",
       "    <tr>\n",
       "      <th>1</th>\n",
       "      <td>king</td>\n",
       "      <td>40</td>\n",
       "      <td>0.0</td>\n",
       "      <td>True</td>\n",
       "    </tr>\n",
       "    <tr>\n",
       "      <th>2</th>\n",
       "      <td>scott</td>\n",
       "      <td>25</td>\n",
       "      <td>95.0</td>\n",
       "      <td>True</td>\n",
       "    </tr>\n",
       "    <tr>\n",
       "      <th>3</th>\n",
       "      <td>[Cool]</td>\n",
       "      <td>20</td>\n",
       "      <td>88.0</td>\n",
       "      <td>True</td>\n",
       "    </tr>\n",
       "    <tr>\n",
       "      <th>4</th>\n",
       "      <td>Cool</td>\n",
       "      <td>20</td>\n",
       "      <td>88.0</td>\n",
       "      <td>True</td>\n",
       "    </tr>\n",
       "    <tr>\n",
       "      <th>5</th>\n",
       "      <td>Cool</td>\n",
       "      <td>20</td>\n",
       "      <td>88.0</td>\n",
       "      <td>True</td>\n",
       "    </tr>\n",
       "  </tbody>\n",
       "</table>\n",
       "</div>"
      ],
      "text/plain": [
       "     name  age  score  passed\n",
       "0     son   26   90.0    True\n",
       "1    king   40    0.0    True\n",
       "2   scott   25   95.0    True\n",
       "3  [Cool]   20   88.0    True\n",
       "4    Cool   20   88.0    True\n",
       "5    Cool   20   88.0    True"
      ]
     },
     "execution_count": 107,
     "metadata": {},
     "output_type": "execute_result"
    }
   ],
   "source": [
    "df"
   ]
  },
  {
   "cell_type": "code",
   "execution_count": 114,
   "id": "89a4e636",
   "metadata": {},
   "outputs": [],
   "source": [
    "df = df.dropna()"
   ]
  },
  {
   "cell_type": "code",
   "execution_count": 111,
   "id": "cd327495",
   "metadata": {},
   "outputs": [
    {
     "data": {
      "text/html": [
       "<div>\n",
       "<style scoped>\n",
       "    .dataframe tbody tr th:only-of-type {\n",
       "        vertical-align: middle;\n",
       "    }\n",
       "\n",
       "    .dataframe tbody tr th {\n",
       "        vertical-align: top;\n",
       "    }\n",
       "\n",
       "    .dataframe thead th {\n",
       "        text-align: right;\n",
       "    }\n",
       "</style>\n",
       "<table border=\"1\" class=\"dataframe\">\n",
       "  <thead>\n",
       "    <tr style=\"text-align: right;\">\n",
       "      <th></th>\n",
       "      <th>name</th>\n",
       "      <th>age</th>\n",
       "      <th>score</th>\n",
       "      <th>passed</th>\n",
       "    </tr>\n",
       "  </thead>\n",
       "  <tbody>\n",
       "    <tr>\n",
       "      <th>0</th>\n",
       "      <td>son</td>\n",
       "      <td>26</td>\n",
       "      <td>90.0</td>\n",
       "      <td>True</td>\n",
       "    </tr>\n",
       "    <tr>\n",
       "      <th>1</th>\n",
       "      <td>king</td>\n",
       "      <td>40</td>\n",
       "      <td>0.0</td>\n",
       "      <td>True</td>\n",
       "    </tr>\n",
       "    <tr>\n",
       "      <th>2</th>\n",
       "      <td>scott</td>\n",
       "      <td>25</td>\n",
       "      <td>95.0</td>\n",
       "      <td>True</td>\n",
       "    </tr>\n",
       "    <tr>\n",
       "      <th>3</th>\n",
       "      <td>[Cool]</td>\n",
       "      <td>20</td>\n",
       "      <td>88.0</td>\n",
       "      <td>True</td>\n",
       "    </tr>\n",
       "    <tr>\n",
       "      <th>4</th>\n",
       "      <td>Cool</td>\n",
       "      <td>20</td>\n",
       "      <td>88.0</td>\n",
       "      <td>True</td>\n",
       "    </tr>\n",
       "    <tr>\n",
       "      <th>5</th>\n",
       "      <td>Cool</td>\n",
       "      <td>20</td>\n",
       "      <td>88.0</td>\n",
       "      <td>True</td>\n",
       "    </tr>\n",
       "  </tbody>\n",
       "</table>\n",
       "</div>"
      ],
      "text/plain": [
       "     name  age  score  passed\n",
       "0     son   26   90.0    True\n",
       "1    king   40    0.0    True\n",
       "2   scott   25   95.0    True\n",
       "3  [Cool]   20   88.0    True\n",
       "4    Cool   20   88.0    True\n",
       "5    Cool   20   88.0    True"
      ]
     },
     "execution_count": 111,
     "metadata": {},
     "output_type": "execute_result"
    }
   ],
   "source": [
    "df"
   ]
  },
  {
   "cell_type": "code",
   "execution_count": 120,
   "id": "cac5a5fd",
   "metadata": {},
   "outputs": [],
   "source": [
    "df.loc[2, 'score'] = 85"
   ]
  },
  {
   "cell_type": "code",
   "execution_count": 123,
   "id": "a88d6148",
   "metadata": {},
   "outputs": [
    {
     "data": {
      "text/html": [
       "<div>\n",
       "<style scoped>\n",
       "    .dataframe tbody tr th:only-of-type {\n",
       "        vertical-align: middle;\n",
       "    }\n",
       "\n",
       "    .dataframe tbody tr th {\n",
       "        vertical-align: top;\n",
       "    }\n",
       "\n",
       "    .dataframe thead th {\n",
       "        text-align: right;\n",
       "    }\n",
       "</style>\n",
       "<table border=\"1\" class=\"dataframe\">\n",
       "  <thead>\n",
       "    <tr style=\"text-align: right;\">\n",
       "      <th></th>\n",
       "      <th>name</th>\n",
       "      <th>age</th>\n",
       "      <th>score</th>\n",
       "      <th>passed</th>\n",
       "    </tr>\n",
       "  </thead>\n",
       "  <tbody>\n",
       "    <tr>\n",
       "      <th>0</th>\n",
       "      <td>son</td>\n",
       "      <td>26</td>\n",
       "      <td>90.0</td>\n",
       "      <td>True</td>\n",
       "    </tr>\n",
       "    <tr>\n",
       "      <th>1</th>\n",
       "      <td>king</td>\n",
       "      <td>40</td>\n",
       "      <td>0.0</td>\n",
       "      <td>True</td>\n",
       "    </tr>\n",
       "    <tr>\n",
       "      <th>2</th>\n",
       "      <td>scott</td>\n",
       "      <td>25</td>\n",
       "      <td>85.0</td>\n",
       "      <td>True</td>\n",
       "    </tr>\n",
       "    <tr>\n",
       "      <th>3</th>\n",
       "      <td>[Cool]</td>\n",
       "      <td>20</td>\n",
       "      <td>88.0</td>\n",
       "      <td>True</td>\n",
       "    </tr>\n",
       "    <tr>\n",
       "      <th>4</th>\n",
       "      <td>Cool</td>\n",
       "      <td>20</td>\n",
       "      <td>88.0</td>\n",
       "      <td>True</td>\n",
       "    </tr>\n",
       "    <tr>\n",
       "      <th>5</th>\n",
       "      <td>Cool</td>\n",
       "      <td>20</td>\n",
       "      <td>88.0</td>\n",
       "      <td>True</td>\n",
       "    </tr>\n",
       "  </tbody>\n",
       "</table>\n",
       "</div>"
      ],
      "text/plain": [
       "     name  age  score  passed\n",
       "0     son   26   90.0    True\n",
       "1    king   40    0.0    True\n",
       "2   scott   25   85.0    True\n",
       "3  [Cool]   20   88.0    True\n",
       "4    Cool   20   88.0    True\n",
       "5    Cool   20   88.0    True"
      ]
     },
     "execution_count": 123,
     "metadata": {},
     "output_type": "execute_result"
    }
   ],
   "source": [
    "df"
   ]
  },
  {
   "cell_type": "code",
   "execution_count": 125,
   "id": "cef9a7d9",
   "metadata": {},
   "outputs": [
    {
     "name": "stdout",
     "output_type": "stream",
     "text": [
      "     name  age  score  passed\n",
      "0     son   26   90.0    True\n",
      "3  [Cool]   20   88.0    True\n",
      "5    Cool   20   88.0    True\n",
      "4    Cool   20   88.0    True\n",
      "2   scott   25   85.0    True\n",
      "1    king   40    0.0    True\n"
     ]
    }
   ],
   "source": [
    "sorted_df = df.sort_values(by='score', ascending=False)\n",
    "print(sorted_df)"
   ]
  },
  {
   "cell_type": "code",
   "execution_count": 127,
   "id": "9387f743",
   "metadata": {},
   "outputs": [
    {
     "name": "stdout",
     "output_type": "stream",
     "text": [
      "  team  score\n",
      "0    A     80\n",
      "1    A     90\n",
      "2    B     78\n",
      "3    B     88\n",
      "4    C     70\n"
     ]
    }
   ],
   "source": [
    "# 크룹핑 : ~별\n",
    "data = {\n",
    "    'team' : ['A', 'A', 'B', 'B', 'C'],\n",
    "    'score' : [80, 90, 78, 88, 70]\n",
    "}\n",
    "df = pd.DataFrame(data)\n",
    "print(df)"
   ]
  },
  {
   "cell_type": "code",
   "execution_count": 128,
   "id": "85512442",
   "metadata": {},
   "outputs": [],
   "source": [
    "group_data = df.groupby('team')['score'].mean()"
   ]
  },
  {
   "cell_type": "code",
   "execution_count": 129,
   "id": "288cbb5c",
   "metadata": {},
   "outputs": [
    {
     "data": {
      "text/plain": [
       "team\n",
       "A    85.0\n",
       "B    83.0\n",
       "C    70.0\n",
       "Name: score, dtype: float64"
      ]
     },
     "execution_count": 129,
     "metadata": {},
     "output_type": "execute_result"
    }
   ],
   "source": [
    "group_data"
   ]
  },
  {
   "cell_type": "code",
   "execution_count": 130,
   "id": "1db87eb4",
   "metadata": {},
   "outputs": [],
   "source": [
    "df.to_csv('output.csv', index=False)"
   ]
  },
  {
   "cell_type": "code",
   "execution_count": 132,
   "id": "29f3971b",
   "metadata": {},
   "outputs": [],
   "source": [
    "group_data.to_csv('result.csv')"
   ]
  },
  {
   "cell_type": "code",
   "execution_count": 136,
   "id": "69453be2",
   "metadata": {},
   "outputs": [],
   "source": [
    "data_csv = pd.read_csv('output.csv')"
   ]
  },
  {
   "cell_type": "code",
   "execution_count": 137,
   "id": "8aa4835b",
   "metadata": {},
   "outputs": [
    {
     "data": {
      "text/html": [
       "<div>\n",
       "<style scoped>\n",
       "    .dataframe tbody tr th:only-of-type {\n",
       "        vertical-align: middle;\n",
       "    }\n",
       "\n",
       "    .dataframe tbody tr th {\n",
       "        vertical-align: top;\n",
       "    }\n",
       "\n",
       "    .dataframe thead th {\n",
       "        text-align: right;\n",
       "    }\n",
       "</style>\n",
       "<table border=\"1\" class=\"dataframe\">\n",
       "  <thead>\n",
       "    <tr style=\"text-align: right;\">\n",
       "      <th></th>\n",
       "      <th>team</th>\n",
       "      <th>score</th>\n",
       "    </tr>\n",
       "  </thead>\n",
       "  <tbody>\n",
       "    <tr>\n",
       "      <th>0</th>\n",
       "      <td>A</td>\n",
       "      <td>80</td>\n",
       "    </tr>\n",
       "    <tr>\n",
       "      <th>1</th>\n",
       "      <td>A</td>\n",
       "      <td>90</td>\n",
       "    </tr>\n",
       "    <tr>\n",
       "      <th>2</th>\n",
       "      <td>B</td>\n",
       "      <td>78</td>\n",
       "    </tr>\n",
       "    <tr>\n",
       "      <th>3</th>\n",
       "      <td>B</td>\n",
       "      <td>88</td>\n",
       "    </tr>\n",
       "    <tr>\n",
       "      <th>4</th>\n",
       "      <td>C</td>\n",
       "      <td>70</td>\n",
       "    </tr>\n",
       "  </tbody>\n",
       "</table>\n",
       "</div>"
      ],
      "text/plain": [
       "  team  score\n",
       "0    A     80\n",
       "1    A     90\n",
       "2    B     78\n",
       "3    B     88\n",
       "4    C     70"
      ]
     },
     "execution_count": 137,
     "metadata": {},
     "output_type": "execute_result"
    }
   ],
   "source": [
    "data_csv"
   ]
  },
  {
   "cell_type": "markdown",
   "id": "9a424cc1",
   "metadata": {},
   "source": [
    "## MAtplotlib"
   ]
  },
  {
   "cell_type": "code",
   "execution_count": 139,
   "id": "b7944f82",
   "metadata": {},
   "outputs": [],
   "source": [
    "import matplotlib.pyplot as plt"
   ]
  },
  {
   "cell_type": "code",
   "execution_count": 140,
   "id": "508e1b13",
   "metadata": {},
   "outputs": [],
   "source": [
    "# 데이터\n",
    "x = [1,2,3,4,5]\n",
    "y = [2,3,5,7,13]"
   ]
  },
  {
   "cell_type": "code",
   "execution_count": 142,
   "id": "2f2d56d1",
   "metadata": {},
   "outputs": [
    {
     "data": {
      "image/png": "[encoded data removed]",
      "text/plain": [
       "<Figure size 640x480 with 1 Axes>"
      ]
     },
     "metadata": {},
     "output_type": "display_data"
    }
   ],
   "source": [
    "# 그래프 선택 -> 생성\n",
    "plt.plot(x, y,\n",
    "         marker='o',\n",
    "         linestyle='-',\n",
    "         color='b',\n",
    "         label='Numbers'\n",
    "         )\n",
    "# 그래프 설정\n",
    "plt.title('line Grape')\n",
    "plt.xlabel('X')\n",
    "plt.ylabel('Y')\n",
    "plt.legend()\n",
    "\n",
    "# 그래프 출력\n",
    "plt.grid(True)\n",
    "plt.show()"
   ]
  },
  {
   "cell_type": "code",
   "execution_count": null,
   "id": "bab4d2e0",
   "metadata": {},
   "outputs": [
    {
     "data": {
      "image/png": "[encoded data removed]",
      "text/plain": [
       "<Figure size 640x480 with 1 Axes>"
      ]
     },
     "metadata": {},
     "output_type": "display_data"
    }
   ],
   "source": [
    "# 데이터\n",
    "ctgy = ['a','b','c','d','e'] # X\n",
    "val =  [ 5,  7,  3,  9,  6 ] # Y\n",
    "\n",
    "# 그래프 (bar차트 세로 : bar, 가로 : barh)\n",
    "# plt.bar(ctgy, val,\n",
    "#         color='skyblue',\n",
    "#         edgecolor='black'\n",
    "#         )\n",
    "plt.barh(ctgy, val,\n",
    "        color='skyblue',\n",
    "        edgecolor='black'\n",
    "        )\n",
    "\n",
    "# 설정\n",
    "plt.title('Bar Chart')\n",
    "plt.xlabel('Ctgy')\n",
    "plt.ylabel('Val')\n",
    "\n",
    "# 출력\n",
    "plt.show()"
   ]
  },
  {
   "cell_type": "code",
   "execution_count": 149,
   "id": "1db206fa",
   "metadata": {},
   "outputs": [
    {
     "data": {
      "image/png": "[encoded data removed]",
      "text/plain": [
       "<Figure size 640x480 with 1 Axes>"
      ]
     },
     "metadata": {},
     "output_type": "display_data"
    }
   ],
   "source": [
    "# data 준비\n",
    "data = np.random.randn(1000)\n",
    "\n",
    "# 그래프 생성\n",
    "plt.hist(data,\n",
    "         bins=20,\n",
    "         color='orange',\n",
    "         edgecolor='black'\n",
    "         )\n",
    "\n",
    "# 설정\n",
    "plt.title('Histogram')\n",
    "plt.xlabel('value range')\n",
    "plt.ylabel('Count')\n",
    "\n",
    "# 출력\n",
    "plt.show()"
   ]
  },
  {
   "cell_type": "code",
   "execution_count": 147,
   "id": "1d274a4a",
   "metadata": {},
   "outputs": [
    {
     "name": "stdout",
     "output_type": "stream",
     "text": [
      "[ 5.78484325e-01 -4.65763092e-01  6.94491121e-01  1.25790830e+00\n",
      "  8.09281395e-01  6.69826784e-01  2.43537739e-02 -2.85878249e-01\n",
      "  3.70268150e-01 -9.35565304e-01 -2.50977752e-01  6.40662815e-01\n",
      " -7.50598842e-01 -1.43636790e+00  8.80484170e-01  4.58452639e-01\n",
      "  1.80906881e+00  3.11380178e-01 -8.63457927e-02 -7.93438811e-02\n",
      " -3.79707562e-01 -8.22105221e-02  1.73040013e+00  1.03898011e+00\n",
      "  5.92580051e-01  5.18468061e-01 -6.44664498e-01 -2.41231551e-01\n",
      " -4.57940190e-01 -1.99619450e+00  3.72919411e-01 -4.36602975e-01\n",
      " -6.63190820e-01 -1.87531193e+00  6.99907031e-01 -5.10455766e-01\n",
      " -9.58557092e-01 -6.08745869e-01 -1.37221981e+00  8.96484328e-01\n",
      " -1.06406692e-03 -5.53032815e-01 -8.40302890e-02 -7.82837487e-01\n",
      " -8.62678459e-01 -1.13373560e-01  1.55369506e+00  9.88298450e-03\n",
      " -3.54369704e-01  1.14740941e+00 -1.45325158e+00 -6.69473247e-02\n",
      "  2.07821977e-01 -8.61416333e-01 -1.30137869e+00  7.38085665e-01\n",
      " -2.93460695e-01  5.78899108e-01  5.04959707e-01 -3.73430471e-01\n",
      "  4.66756187e-01 -6.47170128e-01  1.76536002e-01 -1.47721959e-01\n",
      " -5.67975848e-01  1.78661467e+00  5.63421184e-01 -4.63240281e-01\n",
      " -9.80979763e-01 -8.76842156e-01 -2.55223697e-01  2.04048264e-01\n",
      "  5.68120818e-02 -5.48287694e-01 -1.10240474e+00 -1.10707378e+00\n",
      " -1.36785506e+00  9.95429780e-01 -2.08588654e+00  1.30249161e-01\n",
      "  2.22835699e-01 -1.86664077e+00 -1.43912732e+00  2.40777980e-01\n",
      "  8.67211521e-01  1.78088439e+00 -2.08861344e-01 -9.51530888e-02\n",
      " -9.81321049e-01 -1.37775349e+00  1.22747752e+00 -9.03197351e-02\n",
      " -1.04720440e+00  1.01147870e+00  1.41704965e+00  3.91220244e-01\n",
      " -2.64160289e-02  6.63876946e-01  5.59079613e-01  1.33133499e-01\n",
      "  1.23834770e+00  4.41373133e-01  9.19471163e-02  3.02902236e-01\n",
      " -7.27193466e-01 -1.28795650e-01  8.79852566e-01  8.16017833e-01\n",
      "  1.83668766e+00 -7.00310708e-01 -4.28760931e-01  1.17126529e+00\n",
      " -1.01155198e-01 -1.12291273e+00 -1.84399448e+00  5.05864397e-02\n",
      " -2.93782663e-02 -1.80823028e+00  3.03878262e-01 -4.74703976e-01\n",
      "  9.67404457e-01 -9.71006968e-01  1.45125539e+00 -1.87853079e+00\n",
      "  5.08636421e-01  1.47341102e+00 -1.39768068e+00  4.51793984e-01\n",
      "  8.97357521e-01  3.51219674e-02 -3.19113812e-01  1.29445019e+00\n",
      "  4.91691940e-01 -4.60006123e-01 -2.99309011e-01  1.60519244e+00\n",
      " -2.89403437e-01 -5.69978551e-01  2.54238659e-01 -6.21830423e-02\n",
      " -3.18807423e-01  7.35415661e-01  1.18043676e+00 -1.57489773e+00\n",
      "  1.58318525e+00  5.00271761e-02  6.79099551e-01  2.26091487e-01\n",
      "  3.44249621e-01  5.42765504e-01 -1.94073187e+00 -1.31333687e+00\n",
      "  5.61057530e-01 -1.02920553e+00 -4.12585835e-01 -1.80054861e+00\n",
      " -3.19934619e-01 -3.70956869e-01 -5.82152600e-01  5.16181559e-01\n",
      " -8.10849047e-02 -7.81284657e-01 -4.84534139e-01 -1.62300732e+00\n",
      "  7.40842153e-01 -4.40797734e-01 -3.22818917e-01  8.14650274e-01\n",
      " -3.39222405e-01 -2.06958932e-01  1.37070530e-01  1.10117864e+00\n",
      "  2.05922681e-01  4.13653455e-01 -8.93833534e-01  6.58460837e-01\n",
      "  2.46971079e+00  1.06862703e+00  1.33545352e+00  5.32480213e-01\n",
      " -1.06003875e+00 -1.14355284e+00  1.90619738e+00  3.25144272e-01\n",
      "  4.19220567e-02 -7.54044497e-01 -1.68860292e-01  8.12189748e-01\n",
      " -2.80276530e-01  1.18601675e+00 -4.21790945e-01  5.17057059e-01\n",
      "  2.12408558e+00 -7.95597717e-01  4.43721381e-01 -4.21918062e-01\n",
      "  3.49035305e-01 -4.78920475e-01  1.73839047e+00 -3.98769581e-01\n",
      "  4.21737225e-01 -5.75856013e-01  5.56947676e-01  8.73532278e-01\n",
      "  1.48440916e-01  7.60142303e-01 -4.79986638e-01 -1.01641607e+00\n",
      "  4.31907075e-01  1.93934874e-01 -1.85177838e+00  5.36534480e-01\n",
      "  1.90750242e+00  1.37376100e+00 -9.20872448e-01 -7.05831064e-01\n",
      "  7.87862312e-01  7.73424273e-01  8.71156522e-02 -3.41936782e-01\n",
      " -8.71863397e-02  3.69679736e-01 -5.56254073e-01  8.35439891e-01\n",
      " -1.71995685e+00  5.84940804e-01  1.45572808e+00 -1.36837531e-01\n",
      " -1.17033549e+00 -2.06942279e+00  1.38764180e+00  5.78256959e-02\n",
      "  1.04004072e-01  3.81101068e-01  1.23112123e+00 -8.04449165e-01\n",
      "  3.87227360e-01  1.17071476e+00  7.03935024e-02 -1.13439423e+00\n",
      "  1.08839439e+00  2.37014059e+00  1.25018550e+00  9.79034553e-01\n",
      " -1.21025513e+00  8.67071081e-01 -8.78323918e-01 -1.06316673e+00\n",
      " -2.39937125e-01 -4.96632772e-01 -9.77796365e-01 -6.07371976e-01\n",
      " -7.73277416e-01  1.15454349e+00 -7.54725951e-01  9.82503777e-01\n",
      " -4.64805890e-01  5.00298348e-02  5.84962940e-01 -6.89373466e-01\n",
      "  9.62537229e-01  3.13943361e-01  1.56960170e+00  1.75723909e+00\n",
      "  7.80641650e-01 -1.38906142e+00 -3.89603606e-01 -1.29253001e-02\n",
      " -6.84893323e-01  4.12017388e-01  1.66345734e+00 -4.42344897e-01\n",
      "  1.63293026e-01 -3.86425826e-01  1.75295245e-01  1.24003200e+00\n",
      "  1.36114914e+00  1.56667085e+00  8.30166511e-01 -1.17867051e-02\n",
      " -7.97479982e-01 -1.04942719e+00 -1.13797695e-01 -1.11925854e-01\n",
      "  1.20470393e-01 -9.94885442e-01 -2.15540063e-01  8.43656047e-01\n",
      "  6.05223651e-01 -9.20926865e-01  7.29382279e-01  5.13772806e-01\n",
      " -1.48760554e+00 -3.76583484e-01 -7.07422429e-01 -2.10910917e+00\n",
      " -5.70689813e-01 -1.55277810e-01  3.16495073e-01  4.08300349e-01\n",
      "  1.34998721e+00  8.23845751e-01  1.89375060e+00 -1.10150027e+00\n",
      "  6.72715948e-01 -6.75157519e-01  1.80596149e+00 -8.44933878e-01\n",
      "  5.62607332e-01 -1.39423552e+00  9.07728851e-01  8.44772653e-01\n",
      "  1.97164326e+00  1.67423637e-01 -7.76470810e-02  1.10053858e+00\n",
      " -1.68987703e-01 -7.14056588e-01 -8.20148439e-01 -7.11342368e-01\n",
      "  1.32643522e+00  6.26082219e-01  1.05962260e-01 -1.20986287e+00\n",
      "  8.18101968e-02 -1.56713289e+00  2.72277882e-01  1.37621057e-01\n",
      " -1.77508838e+00 -5.97968176e-01 -1.96100598e-01 -6.38017244e-01\n",
      "  9.00897545e-01  1.54155746e+00  1.63352283e+00  3.58433520e-01\n",
      "  1.25491568e+00  9.25111707e-01  2.78112999e-01  1.38022964e+00\n",
      "  4.52363168e-01 -9.25713304e-01  1.53489698e+00 -1.49060266e+00\n",
      "  8.30711892e-01  1.84583848e+00 -1.01222247e+00  3.79330714e-01\n",
      " -1.38674277e+00  8.27687371e-01  1.67504311e-01  6.29634849e-01\n",
      " -6.87604983e-01 -2.85944555e-01  1.01485093e+00  1.89689202e+00\n",
      "  1.50138019e-01  5.74150599e-01 -1.59083183e+00  1.82314993e-02\n",
      " -2.08257410e+00 -7.44595877e-01  5.12673535e-01  6.70770518e-01\n",
      "  3.83961653e-01 -7.44438960e-01  1.10373041e-01  1.40739027e+00\n",
      "  9.87984567e-01 -2.22755104e-01  6.73925118e-01  2.47959734e+00\n",
      " -9.63216196e-02 -3.21539154e-01  4.36846910e-01 -2.15220306e+00\n",
      " -1.52011295e+00  5.46179706e-02 -2.09154106e-01 -3.49131848e-03\n",
      " -1.08999148e+00 -6.13715249e-01  8.11840617e-01  5.70572894e-01\n",
      " -1.32842618e-01 -1.13553604e+00 -3.32970526e-01  5.27940981e-02\n",
      " -9.37260625e-01  1.17085458e+00  1.92654390e+00  9.19571274e-01\n",
      " -2.62101779e-01  7.47019546e-01  8.50645698e-01 -2.38840573e-01\n",
      "  1.74065971e-01  3.84335059e-01  2.54235041e-01  1.16173787e+00\n",
      " -7.60273332e-01  5.89080170e-02  1.72614943e+00 -8.45555155e-01\n",
      " -1.69609717e+00 -3.41783938e-01  2.74477853e-01  6.78184627e-01\n",
      "  2.23780289e-01 -6.85910960e-01  6.50162448e-01  1.29517519e+00\n",
      " -4.07058819e-01 -2.50469386e-01 -2.15246836e+00  1.92536417e+00\n",
      " -7.58547826e-01  2.17715767e+00 -2.17255938e-01  8.39693979e-01\n",
      " -1.29370153e+00  2.44172464e+00 -1.92551310e+00  1.52935143e-02\n",
      "  8.44757090e-01  1.76911940e-01  5.74306503e-01 -7.48799440e-01\n",
      " -2.99234139e-01  2.95286737e-01  1.50884805e-01  2.21016438e-01\n",
      " -4.11658758e-01  4.29711442e-01 -6.66806275e-01 -1.50253327e+00\n",
      "  2.07930517e-01  1.25364321e+00  7.15763423e-01 -9.99743872e-01\n",
      "  1.13265612e+00  2.05530200e-02  1.77674380e-01  6.27873303e-01\n",
      "  1.57406971e+00  4.53590204e-01 -1.06220236e+00  3.40041495e-01\n",
      "  6.15677284e-01  1.27508434e+00  8.89313122e-01  8.27344406e-01\n",
      " -7.87809237e-01 -1.26608131e+00 -5.40764542e-01  1.18313599e+00\n",
      " -5.66210267e-01 -1.37261247e-01  1.24190211e+00 -6.80326592e-01\n",
      " -9.65019809e-01  1.17716141e+00 -1.37984462e-01  9.88879515e-01\n",
      "  5.46066724e-01  1.37605504e+00 -1.30145966e-01 -3.52598973e-01\n",
      " -3.33018256e-01  1.12220631e+00  1.94940221e-01 -4.65707081e-01\n",
      " -6.71204089e-01  3.34399143e-01 -6.47679817e-01 -4.44118418e-01\n",
      "  1.40461858e+00  1.86419688e+00 -4.85955838e-01  2.02743802e+00\n",
      "  5.31259721e-01 -9.28401533e-02 -6.84018130e-01 -1.75066691e+00\n",
      " -1.93780885e-01  6.65634550e-01  5.27831288e-01  1.51858613e+00\n",
      "  5.61617907e-02 -9.59093148e-01 -5.69332149e-01 -8.66849871e-01\n",
      "  3.63315229e-01  4.85138145e-01 -1.31832326e+00  7.49382712e-01\n",
      " -3.09219915e-01  1.11357206e+00  1.58711404e+00  1.18338008e+00\n",
      " -1.05179994e-01  1.46362244e+00  2.06072142e-01 -2.03887062e+00\n",
      " -1.98617390e+00 -2.55826667e-01  6.08682322e-02  4.91316518e-01\n",
      "  1.97951091e+00  1.31657440e+00  2.93780544e-01  1.36677350e+00\n",
      "  5.63183442e-01  1.77587372e+00 -1.24254030e-01  3.21592047e+00\n",
      " -1.95768634e-01 -4.28851763e-01  2.26581487e-01  4.49998655e-01\n",
      "  5.97854228e-01  9.53824012e-01  2.30758081e-01 -2.33632367e+00\n",
      "  1.24847077e-01  3.35209318e-01  3.68699922e-01  1.74924838e-01\n",
      "  1.03814358e-03  1.28790265e+00  4.89359570e-01 -1.08216291e+00\n",
      "  1.17238591e-01  9.64974695e-01  8.85790308e-01 -8.15206169e-01\n",
      "  8.94292010e-01 -2.24091235e-01  1.71433318e+00  4.97785825e-01\n",
      "  9.01361779e-01 -3.33570489e-01 -6.03334998e-01 -1.22433199e+00\n",
      "  1.44021769e+00 -1.08405538e+00  2.28072548e-01  4.82842185e-01\n",
      "  1.57831467e-01  8.38658934e-01 -3.93821281e-01  1.70751770e+00\n",
      " -1.40206704e+00  1.64841431e+00  1.20563289e+00 -1.99745925e+00\n",
      " -1.33831166e+00 -1.31911771e+00 -1.63943654e-01  1.02803408e+00\n",
      " -2.43423189e-01 -1.25080114e+00 -4.17587007e-01 -3.53632910e-01\n",
      " -1.02569383e+00  1.65112448e+00  9.83659754e-01 -1.93014569e+00\n",
      " -4.98928026e-01  5.46853555e-02 -2.20361596e+00  7.07298960e-01\n",
      "  6.46166058e-02  7.65248002e-01  3.51012176e-01  5.77239668e-02\n",
      "  8.55791620e-01 -7.00425560e-01  6.52666959e-01 -7.44154121e-01\n",
      " -8.37164623e-01 -1.47497018e+00  1.02013958e+00  2.16057081e-01\n",
      "  3.90832134e-01 -4.67426526e-01 -1.33623491e+00 -3.92146930e-01\n",
      "  1.63434401e+00 -1.40763738e+00  2.08540150e-01  7.83070005e-01\n",
      "  2.05091086e+00 -2.95774949e-01 -2.51653824e-01  1.09732608e+00\n",
      " -1.50391243e+00 -7.25128804e-01 -1.21354136e+00  5.95582886e-01\n",
      " -2.18564580e-01 -8.04940794e-01 -1.16473133e+00  1.59032531e+00\n",
      "  3.46623510e-01 -4.11515862e-02  4.25278962e-01  4.02732376e-01\n",
      " -6.96142347e-01  5.01493922e-01  8.46513343e-01  1.49992497e-01\n",
      "  7.17053142e-01  1.72658336e+00 -8.60295732e-02 -8.42288531e-01\n",
      "  1.22649662e+00  9.43322258e-01  1.45916368e+00  2.36665620e+00\n",
      "  5.23533910e-01 -4.53625792e-01  1.02679225e-01 -1.55176024e+00\n",
      "  6.71921900e-02 -2.90391995e-01 -6.53446810e-01  2.33914989e+00\n",
      " -4.44427537e-01  8.56896279e-02 -6.79205196e-01  2.48400050e-01\n",
      " -6.47895038e-01  1.43143534e+00  1.75277824e+00  1.64519349e+00\n",
      "  1.51831954e-01  1.12784881e+00 -3.36294093e-01 -4.20194044e-01\n",
      " -2.51341064e-01  8.45911919e-01  2.90113043e-01  4.42218677e-02\n",
      "  4.86612356e-01 -9.16256470e-02  1.68339622e+00  2.66813548e-01\n",
      "  2.59268777e-01 -6.98575175e-01 -1.83591290e+00 -1.10186657e+00\n",
      " -5.75710709e-01  8.99684285e-01 -1.82230185e+00  2.39389323e-01\n",
      " -3.76579207e-01  2.11792968e+00  6.46687490e-02 -5.97302704e-01\n",
      " -9.99381042e-01 -4.62227478e-02  8.13859001e-01 -2.92735871e-01\n",
      " -1.76366230e-01  1.27930120e-02 -2.06324253e+00 -2.45754793e-01\n",
      "  1.22896361e+00  6.49144707e-01 -2.81877083e-01  4.32509556e-01\n",
      "  3.35713462e-01 -2.01499004e-01 -2.47787170e+00  3.36857018e-01\n",
      "  4.97014653e-01 -1.77346141e+00 -9.57047128e-01  7.38028438e-01\n",
      " -6.04497915e-01 -1.92444024e+00 -3.49768609e-01 -6.23798382e-01\n",
      " -9.49400738e-01  5.40638765e-01 -1.92605340e+00  9.72337763e-01\n",
      " -1.21578699e+00 -1.70595069e+00 -5.65762154e-01  1.78774306e-01\n",
      "  2.33305096e+00  1.00738401e+00 -9.12829375e-02  3.25924752e-01\n",
      "  9.36263601e-01 -1.52500580e+00 -1.02975320e+00  1.20313920e+00\n",
      " -3.85387354e-01  3.81155842e-01 -2.61838403e-01 -2.87269082e-01\n",
      "  9.39726025e-01 -7.84689105e-01  1.97452027e+00 -2.91156586e-01\n",
      " -1.34598711e+00  1.27780191e-01  4.18460091e-01  2.97590672e-01\n",
      " -1.90441366e-01  4.67354967e-01  5.65776933e-01  1.16141406e+00\n",
      " -2.36681257e+00 -3.06806850e-01 -1.87894598e-01 -2.10531286e-01\n",
      " -4.01942243e-01 -7.85105080e-01 -1.23522184e+00  1.31326654e+00\n",
      " -1.93440190e-01 -5.10987134e-01 -3.08205796e-01 -8.27979496e-01\n",
      " -6.94421558e-01 -7.22004618e-01  1.30230124e+00 -7.97407748e-01\n",
      "  9.59752905e-01 -1.19496527e+00 -1.16582832e+00 -8.23557295e-01\n",
      " -5.03004076e-01 -1.31913965e+00 -6.96075670e-01  1.34521016e-01\n",
      " -4.45817140e-01 -1.85289852e+00  4.94883705e-01  6.57644467e-01\n",
      "  1.54273835e-01 -6.27891523e-01  1.83412005e+00  7.28197937e-01\n",
      "  9.88535127e-01  9.91995184e-01  8.99831960e-01  7.39179152e-01\n",
      " -4.74389724e-01 -4.00857651e-01  5.58106800e-01 -1.46276061e+00\n",
      "  1.07437196e-01  7.67004722e-01  2.65981752e-01  1.30560070e-01\n",
      "  6.51566081e-01  7.86490188e-01 -2.38788714e-01 -1.19154898e+00\n",
      "  1.51574199e+00 -4.70311868e-01  4.59819721e-01  8.06934798e-01\n",
      " -5.36193596e-01 -9.15301250e-01 -3.57959150e-01  9.56906697e-01\n",
      "  7.17815674e-01  4.27154433e-01 -5.82909896e-01  8.55084101e-01\n",
      " -1.02077714e+00  7.88314095e-01  7.45333785e-01  1.04804081e+00\n",
      "  4.18180196e-01 -1.28346347e+00 -4.79367888e-02  1.30106047e+00\n",
      "  1.04791224e+00  2.20589489e-01 -7.10122388e-01 -6.10504526e-01\n",
      "  6.18016843e-01 -1.23454552e+00  8.06074734e-01 -8.50027864e-01\n",
      " -1.71281544e+00 -8.41639375e-02  1.82445521e+00  1.22295267e+00\n",
      " -2.03881223e+00 -6.34100682e-01  2.91227932e-01 -1.40520001e+00\n",
      "  1.85363877e+00 -8.76064996e-01 -5.86607958e-01  3.30129039e-01\n",
      "  6.88445701e-02 -3.08006669e-01 -7.27754869e-01  1.39106044e+00\n",
      "  6.52358756e-02  8.78291012e-01 -7.59909056e-01 -1.28756915e+00\n",
      " -6.31270483e-01  1.61832772e+00  6.02884524e-01  2.87344144e-01\n",
      " -7.19727479e-01 -2.53778958e-02  7.41711689e-01 -1.30470227e+00\n",
      " -1.03719513e+00 -1.45949713e-01 -5.63681646e-01  5.72986884e-01\n",
      "  7.05360146e-01  1.61000674e+00  2.77009809e+00  1.85569046e-01\n",
      "  5.50088122e-01  8.98058132e-01  6.02406688e-02 -5.43956324e-01\n",
      " -1.32172397e-01  2.07865311e+00 -3.85791043e-03  3.61540541e-01\n",
      " -5.02455063e-01 -4.49633288e-01 -7.07878837e-01  1.34370093e+00\n",
      " -5.85464575e-01 -7.93175775e-01  5.13023703e-01 -1.42861614e+00\n",
      "  1.28968662e+00 -5.60293148e-01  1.37967768e-01  6.51664472e-01\n",
      " -6.00914646e-01 -3.69798406e-01  1.53793264e+00 -6.79784321e-01\n",
      "  1.43602328e+00  2.63017389e-01  7.52691882e-01 -8.95685672e-01\n",
      "  1.20693059e-01 -4.05456496e-02  6.33142006e-01  1.89857410e+00\n",
      " -1.45784236e-01  6.63086135e-01  9.71442464e-01 -1.11290905e-01\n",
      "  2.56209233e-01  6.13957842e-01 -1.58132665e-01  1.11341562e+00\n",
      "  6.41275979e-01 -3.52193815e-01  4.73668445e-01  2.55306696e-02\n",
      " -1.35979633e-02 -1.70508718e-01 -2.47236597e+00 -2.21198581e+00\n",
      " -7.67563394e-01 -6.94734496e-01 -1.03368705e-02  8.38995521e-01\n",
      " -4.73977691e-01  1.21583974e+00  1.05814436e+00 -2.09458412e-01\n",
      "  1.83067019e-01 -1.27042966e+00  6.09195441e-01 -1.40666113e+00\n",
      " -7.87966876e-01  1.13447308e+00  6.38520690e-01  3.78277522e-01\n",
      " -1.01795052e+00  9.81032304e-01 -3.21786989e-01  2.42565830e-01\n",
      "  1.80634772e+00  9.83444511e-01  1.07780452e+00 -1.58758868e+00\n",
      " -1.30974599e+00  5.48658231e-01  5.45249517e-01 -9.76929767e-01\n",
      " -3.22396207e-02 -9.90522938e-01  3.85182561e-01 -3.46971198e-01\n",
      " -1.06022409e+00 -4.75851088e-01  8.08193605e-01 -4.60941350e-01\n",
      "  1.06391432e-01 -9.45982867e-01 -8.34094154e-01 -5.64976505e-01\n",
      "  6.09447090e-01  2.06677398e+00 -8.35767489e-01  2.73505829e+00\n",
      " -4.83000530e-01 -1.17358713e+00 -3.34781302e-02  2.61206121e+00\n",
      " -4.34417595e-01  6.91326721e-01  2.61268029e+00  8.54882494e-01\n",
      "  3.72438157e-01 -8.87188423e-01 -4.76055903e-01 -2.39495501e-01\n",
      " -1.23029928e+00 -7.47298110e-01  6.12545632e-01  2.20261935e+00\n",
      " -6.34710121e-01 -8.97597186e-01  1.36252352e+00 -2.11642885e+00\n",
      "  1.74059517e+00  5.61639434e-01 -1.22239330e+00  1.29913759e+00\n",
      "  1.13826329e+00  1.52405219e+00  6.71841972e-01 -9.83520023e-01\n",
      "  7.37791893e-01 -1.20871166e-01  1.76354891e+00  2.52639585e-01\n",
      "  1.40202597e-01 -1.96189845e+00 -2.35043552e+00 -5.92920049e-01\n",
      " -1.21132415e-01  1.20777587e+00  3.55196452e-01 -1.10736704e+00\n",
      "  8.44333889e-01 -8.63075204e-01 -1.92692568e+00  1.25552923e+00\n",
      "  6.44874626e-01  9.81825478e-01 -1.24764932e+00  1.81238718e+00\n",
      " -1.58353105e+00 -3.98183812e-01  1.40510802e+00 -2.36017562e-01\n",
      " -8.55153326e-01 -9.18047156e-01 -9.81300089e-02  9.26656174e-01\n",
      "  1.33484313e-01  1.15800394e-01  1.41713285e+00 -1.27645834e+00\n",
      "  1.40630918e+00  1.63291350e+00 -4.36314945e-02  1.28022025e-01\n",
      " -1.31617695e+00  1.00161190e+00  1.98507073e-01 -1.88465492e-01\n",
      " -2.78624510e-01 -3.50031002e-01 -5.39113473e-01 -2.02240330e-01\n",
      " -1.68871557e+00 -1.55326479e+00  1.13277810e+00  8.04135500e-01\n",
      "  9.04602520e-02 -3.46399473e-01 -5.73839156e-02 -2.76304686e-01]\n"
     ]
    }
   ],
   "source": [
    "print(data)"
   ]
  },
  {
   "cell_type": "code",
   "execution_count": 150,
   "id": "9481b171",
   "metadata": {},
   "outputs": [],
   "source": [
    "import seaborn as sns"
   ]
  },
  {
   "cell_type": "code",
   "execution_count": 152,
   "id": "688e9c3d",
   "metadata": {},
   "outputs": [
    {
     "data": {
      "image/png": "[encoded data removed]",
      "text/plain": [
       "<Figure size 640x480 with 2 Axes>"
      ]
     },
     "metadata": {},
     "output_type": "display_data"
    }
   ],
   "source": [
    "# 박스플롯\n",
    "# 데이터 준비\n",
    "data = np.random.rand(10,10)\n",
    "# print(data)\n",
    "mask = np.triu(np.ones_like(data, dtype=bool))\n",
    "\n",
    "sns.heatmap(data, annot=True, mask=mask)\n",
    "\n",
    "plt.title('HeatMap')\n",
    "plt.show()"
   ]
  },
  {
   "cell_type": "code",
   "execution_count": 155,
   "id": "2f12386d",
   "metadata": {},
   "outputs": [
    {
     "name": "stderr",
     "output_type": "stream",
     "text": [
      "C:\\Users\\YUNJI\\AppData\\Local\\Temp\\ipykernel_13176\\447446217.py:5: FutureWarning: \n",
      "\n",
      "Passing `palette` without assigning `hue` is deprecated and will be removed in v0.14.0. Assign the `x` variable to `hue` and set `legend=False` for the same effect.\n",
      "\n",
      "  sns.boxplot(data=tips,\n"
     ]
    },
    {
     "data": {
      "image/png": "[encoded data removed]",
      "text/plain": [
       "<Figure size 640x480 with 1 Axes>"
      ]
     },
     "metadata": {},
     "output_type": "display_data"
    }
   ],
   "source": [
    "# 박스 플롯\n",
    "tips = sns.load_dataset('tips')\n",
    "\n",
    "# 그래프 생성\n",
    "sns.boxplot(data=tips, \n",
    "              palette='Set2',\n",
    "              x='day',\n",
    "              y='total_bill')\n",
    "\n",
    "plt.title('BoxPlot')\n",
    "plt.show()"
   ]
  },
  {
   "cell_type": "code",
   "execution_count": 158,
   "id": "bb3473d5",
   "metadata": {},
   "outputs": [
    {
     "name": "stderr",
     "output_type": "stream",
     "text": [
      "C:\\Users\\YUNJI\\AppData\\Local\\Temp\\ipykernel_13176\\2027878832.py:1: FutureWarning: \n",
      "\n",
      "Passing `palette` without assigning `hue` is deprecated and will be removed in v0.14.0. Assign the `x` variable to `hue` and set `legend=False` for the same effect.\n",
      "\n",
      "  sns.violinplot(x='day', y='total_bill', data=tips, palette='muted', split=True)\n"
     ]
    },
    {
     "data": {
      "image/png": "[encoded data removed]",
      "text/plain": [
       "<Figure size 640x480 with 1 Axes>"
      ]
     },
     "metadata": {},
     "output_type": "display_data"
    }
   ],
   "source": [
    "sns.violinplot(x='day', y='total_bill', data=tips, palette='muted', split=True)\n",
    "plt.title('Chart')\n",
    "plt.show()"
   ]
  },
  {
   "cell_type": "code",
   "execution_count": null,
   "id": "ec6e3af2",
   "metadata": {},
   "outputs": [],
   "source": []
  },
  {
   "cell_type": "code",
   "execution_count": null,
   "id": "dbefc152",
   "metadata": {},
   "outputs": [],
   "source": []
  }
 ],
 "metadata": {
  "kernelspec": {
   "display_name": ".venv",
   "language": "python",
   "name": "python3"
  },
  "language_info": {
   "codemirror_mode": {
    "name": "ipython",
    "version": 3
   },
   "file_extension": ".py",
   "mimetype": "text/x-python",
   "name": "python",
   "nbconvert_exporter": "python",
   "pygments_lexer": "ipython3",
   "version": "3.13.4"
  }
 },
 "nbformat": 4,
 "nbformat_minor": 5
}
