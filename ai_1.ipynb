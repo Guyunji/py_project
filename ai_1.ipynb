{
 "cells": [
  {
   "cell_type": "code",
   "execution_count": null,
   "id": "be2f81eb",
   "metadata": {},
   "outputs": [],
   "source": [
    "pip install requests"
   ]
  },
  {
   "cell_type": "code",
   "execution_count": null,
   "id": "959884a3",
   "metadata": {},
   "outputs": [],
   "source": [
    "import requests"
   ]
  },
  {
   "cell_type": "code",
   "execution_count": null,
   "id": "e9acd101",
   "metadata": {},
   "outputs": [],
   "source": [
    "url = 'https://jsonplaceholder.typicode.com/posts'"
   ]
  },
  {
   "cell_type": "code",
   "execution_count": null,
   "id": "936d3e21",
   "metadata": {},
   "outputs": [],
   "source": [
    "response = requests.get(url)"
   ]
  },
  {
   "cell_type": "code",
   "execution_count": null,
   "id": "5360d230",
   "metadata": {},
   "outputs": [],
   "source": [
    "type(response)"
   ]
  },
  {
   "cell_type": "code",
   "execution_count": null,
   "id": "e845f50a",
   "metadata": {},
   "outputs": [],
   "source": [
    "type(response.text)"
   ]
  },
  {
   "cell_type": "code",
   "execution_count": null,
   "id": "f7eabdf9",
   "metadata": {},
   "outputs": [],
   "source": [
    "print(response.status_code)"
   ]
  },
  {
   "cell_type": "code",
   "execution_count": null,
   "id": "0a2b4513",
   "metadata": {},
   "outputs": [],
   "source": [
    "if response.status_code == 200 :\n",
    "    print('응답 성공')\n",
    "    print(response.text[:400])\n",
    "else :\n",
    "    print(f'오류 발생 : {response.status_code}')"
   ]
  },
  {
   "cell_type": "code",
   "execution_count": null,
   "id": "eb5045a4",
   "metadata": {},
   "outputs": [],
   "source": [
    "data_obj = response.json()"
   ]
  },
  {
   "cell_type": "code",
   "execution_count": null,
   "id": "54ed8d61",
   "metadata": {},
   "outputs": [],
   "source": [
    "type(data_obj)"
   ]
  },
  {
   "cell_type": "code",
   "execution_count": null,
   "id": "2f8f0386",
   "metadata": {},
   "outputs": [],
   "source": [
    "for post in data_obj:\n",
    "    print(f'title : {post['title'][:10]}')\n",
    "    print(f'body : {post['body'][:10]}')"
   ]
  },
  {
   "cell_type": "code",
   "execution_count": null,
   "id": "2e19d454",
   "metadata": {},
   "outputs": [],
   "source": [
    "url = 'https://jsonplaceholder.typicode.com/posts/1'"
   ]
  },
  {
   "cell_type": "code",
   "execution_count": null,
   "id": "b7e729e3",
   "metadata": {},
   "outputs": [],
   "source": [
    "response = requests.get(url)"
   ]
  },
  {
   "cell_type": "code",
   "execution_count": null,
   "id": "e538ae3f",
   "metadata": {},
   "outputs": [],
   "source": [
    "if response.status_code == 200 :\n",
    "    data = response.json()  # dict\n",
    "    print(type(data))\n",
    "    print(f'title: {data['title']}')\n",
    "    print(f'body {data['body']}')\n",
    "else :\n",
    "    print('에러 발생')"
   ]
  },
  {
   "cell_type": "code",
   "execution_count": null,
   "id": "292ce9b8",
   "metadata": {},
   "outputs": [],
   "source": [
    "pip install beautifulsoup4"
   ]
  },
  {
   "cell_type": "code",
   "execution_count": null,
   "id": "b8e8a08c",
   "metadata": {},
   "outputs": [],
   "source": [
    "from bs4 import BeautifulSoup"
   ]
  },
  {
   "cell_type": "code",
   "execution_count": null,
   "id": "f24a3ec1",
   "metadata": {},
   "outputs": [],
   "source": [
    "html_doc = \"\"\"\n",
    "<html>\n",
    "<head>\n",
    "<title>Example Page</title>\n",
    "</head>\n",
    "<body>\n",
    "<h1>Welcome to Web Scraping</h1>\n",
    "<p class=\"description\">This is an example paragraph.</p>\n",
    "<a href=\"https://example.com1\">Visit Example1</a>\n",
    "<a href=\"https://example.com2\">Visit Example2</a>\n",
    "<a href=\"https://example.com3\">Visit Example3</a>\n",
    "<a href=\"https://example.com4\">Visit Example4</a>\n",
    "</body>\n",
    "</html>\n",
    "\"\"\""
   ]
  },
  {
   "cell_type": "code",
   "execution_count": null,
   "id": "fbc1644f",
   "metadata": {},
   "outputs": [],
   "source": [
    "# BeautifulSoup 객체를 생성\n",
    "soup = BeautifulSoup(html_doc, 'html.parser')"
   ]
  },
  {
   "cell_type": "code",
   "execution_count": null,
   "id": "aee03215",
   "metadata": {},
   "outputs": [],
   "source": [
    "print(soup.title.string)\n",
    "print(soup.h1.string)\n",
    "print(soup.a['href'])\n",
    "print(soup.p)\n",
    "print(soup.p['class'])"
   ]
  },
  {
   "cell_type": "code",
   "execution_count": null,
   "id": "a4283cd9",
   "metadata": {},
   "outputs": [],
   "source": [
    "# find(tag), find_all(tag)\n",
    "a_tag = soup.find('a')\n",
    "print(a_tag)\n",
    "a_tags = soup.find_all('a')\n",
    "print(a_tags)"
   ]
  },
  {
   "cell_type": "code",
   "execution_count": null,
   "id": "7fed88fe",
   "metadata": {},
   "outputs": [],
   "source": [
    "links = []\n",
    "for a_tag in a_tags:\n",
    "    print(a_tag['href'])\n",
    "    links.append(a_tag['href'])\n",
    "\n",
    "print(links)"
   ]
  },
  {
   "cell_type": "code",
   "execution_count": null,
   "id": "1c9b8791",
   "metadata": {},
   "outputs": [],
   "source": [
    "html_doc = \"\"\"\n",
    "<html>\n",
    "<head><title>Example Page</title></head>\n",
    "<body>\n",
    "<h1>Welcome to Web Scraping</h1>\n",
    "<p class=\"description\">This is an example paragraph.</p>\n",
    "<a href=\"https://example.com\">Visit Example</a>\n",
    "</body>\n",
    "</html>\n",
    "\"\"\""
   ]
  },
  {
   "cell_type": "code",
   "execution_count": null,
   "id": "72c6f086",
   "metadata": {},
   "outputs": [],
   "source": [
    "soup = BeautifulSoup(html_doc, 'html.parser')"
   ]
  },
  {
   "cell_type": "code",
   "execution_count": null,
   "id": "0484e4ec",
   "metadata": {},
   "outputs": [],
   "source": [
    "# select_one : class 속성값으로 찾기\n",
    "description = soup.select_one('.description')\n",
    "print(description.string)"
   ]
  },
  {
   "cell_type": "code",
   "execution_count": null,
   "id": "06191e14",
   "metadata": {},
   "outputs": [],
   "source": [
    "url = \"https://news.ycombinator.com/\""
   ]
  },
  {
   "cell_type": "code",
   "execution_count": null,
   "id": "f9f48127",
   "metadata": {},
   "outputs": [],
   "source": [
    "response = requests.get(url)"
   ]
  },
  {
   "cell_type": "code",
   "execution_count": null,
   "id": "b253a77c",
   "metadata": {},
   "outputs": [],
   "source": [
    "print(response.text[:500])"
   ]
  },
  {
   "cell_type": "code",
   "execution_count": null,
   "id": "011b7a8c",
   "metadata": {},
   "outputs": [],
   "source": [
    "soup = BeautifulSoup(response.text, 'html.parser')"
   ]
  },
  {
   "cell_type": "code",
   "execution_count": null,
   "id": "28ac315d",
   "metadata": {},
   "outputs": [],
   "source": [
    "print(soup.find_all('a'))"
   ]
  },
  {
   "cell_type": "code",
   "execution_count": null,
   "id": "7abe51f3",
   "metadata": {},
   "outputs": [],
   "source": [
    "for item in soup.find_all('a') :\n",
    "    href = item.get('href')\n",
    "    if href :\n",
    "        print(item.get_text(strip=True))\n",
    "        print(href)"
   ]
  },
  {
   "cell_type": "code",
   "execution_count": null,
   "id": "0ec57914",
   "metadata": {},
   "outputs": [],
   "source": [
    "url = \"https://news.naver.com/main/list.naver?mode=LSD&mid=sec&sid1=105\""
   ]
  },
  {
   "cell_type": "code",
   "execution_count": null,
   "id": "ed627e09",
   "metadata": {},
   "outputs": [],
   "source": [
    "# 요청 헤더 설정 (크롤링 방지 우회를 위해 User-Agent 추가)\n",
    "headers = {\n",
    "\"User-Agent\": \"Mozilla/5.0 (Windows NT 10.0; Win64; x64) AppleWebKit/537.36 (KHTML, like Gecko) Chrome/114.0.0.0 Safari/537.36\"\n",
    "}"
   ]
  },
  {
   "cell_type": "code",
   "execution_count": null,
   "id": "ad1c52a4",
   "metadata": {},
   "outputs": [],
   "source": [
    "response = requests.get(url, headers=headers)"
   ]
  },
  {
   "cell_type": "code",
   "execution_count": null,
   "id": "928cedcb",
   "metadata": {},
   "outputs": [],
   "source": [
    "soup = BeautifulSoup(response.text, 'html.parser')"
   ]
  },
  {
   "cell_type": "code",
   "execution_count": null,
   "id": "577acecb",
   "metadata": {},
   "outputs": [],
   "source": [
    "news_items = soup.select(\"ul.type06_headline li dt:not(.photo) a\")"
   ]
  },
  {
   "cell_type": "code",
   "execution_count": null,
   "id": "a4510360",
   "metadata": {},
   "outputs": [],
   "source": [
    "for item in news_items:\n",
    "    title = item.get_text(strip=True)\n",
    "    link = item['href']\n",
    "    print('title:', title)\n",
    "    print('href', link)"
   ]
  },
  {
   "cell_type": "code",
   "execution_count": null,
   "id": "b7888463",
   "metadata": {},
   "outputs": [],
   "source": [
    "from bs4 import BeautifulSoup"
   ]
  },
  {
   "cell_type": "code",
   "execution_count": null,
   "id": "11769dfb",
   "metadata": {},
   "outputs": [],
   "source": [
    "pip install selenium"
   ]
  },
  {
   "cell_type": "code",
   "execution_count": null,
   "id": "6289a160",
   "metadata": {},
   "outputs": [],
   "source": [
    "from selenium import webdriver\n",
    "from selenium.webdriver.common.by import By\n",
    "from selenium.webdriver.common.keys import Keys\n",
    "import time"
   ]
  },
  {
   "cell_type": "code",
   "execution_count": null,
   "id": "985e7d24",
   "metadata": {},
   "outputs": [],
   "source": [
    "# 브라우저 실행\n",
    "driver = webdriver.Chrome()\n",
    "\n",
    "# url\n",
    "driver.get(\"http://www.google.com\")\n",
    "\n",
    "# 브라우저 종료\n",
    "# driver.quit()"
   ]
  },
  {
   "cell_type": "code",
   "execution_count": null,
   "id": "4733eafb",
   "metadata": {},
   "outputs": [],
   "source": [
    "# 크롬 브라우저 실행\n",
    "driver = webdriver.Chrome()\n",
    "\n",
    "# 웹 페이지 열기\n",
    "driver.get(\"https://www.google.com\")\n",
    "\n",
    "# 검색창 찾기\n",
    "search_box = driver.find_element(By.NAME, \"q\")\n",
    "# 검색창에 검색어 입력\n",
    "search_box.send_keys('python')\n",
    "# 검색\n",
    "search_box.send_keys(Keys.RETURN)\n",
    "\n",
    "# 결과가 나올때까지 멈춤\n",
    "time.sleep(30)\n",
    "\n",
    "results = driver.find_elements(By.XPATH, '//h3')\n",
    "print(results)"
   ]
  },
  {
   "cell_type": "code",
   "execution_count": null,
   "id": "4481606a",
   "metadata": {},
   "outputs": [],
   "source": []
  },
  {
   "cell_type": "code",
   "execution_count": null,
   "id": "010ac040",
   "metadata": {},
   "outputs": [],
   "source": [
    "# 크롬 브라우저 실행\n",
    "driver = webdriver.Chrome()\n",
    "\n",
    "url = 'https://news.naver.com/main/list.naver?mode=LSD&mid=sec&sid1=105'\n",
    "\n",
    "# 웹 페이지 열기\n",
    "driver.get(url)\n",
    "\n",
    "# 결과가 나올때까지 멈춤\n",
    "time.sleep(3)\n",
    "\n",
    "results = driver.find_elements(By.CSS_SELECTOR, \"ul.type06_headline li dt:not(.phone) a\")\n",
    "print(results)\n",
    "for item in results:\n",
    "    print(item.text)\n",
    "    print(item.get_attribute('href'))\n",
    "\n",
    "driver.quit()"
   ]
  },
  {
   "cell_type": "code",
   "execution_count": null,
   "id": "6799c34d",
   "metadata": {},
   "outputs": [],
   "source": [
    "### 데이터의 저장"
   ]
  },
  {
   "cell_type": "code",
   "execution_count": null,
   "id": "f4c0186d",
   "metadata": {},
   "outputs": [],
   "source": [
    "import csv"
   ]
  },
  {
   "cell_type": "code",
   "execution_count": null,
   "id": "bee1888a",
   "metadata": {},
   "outputs": [],
   "source": [
    "# 데이터 준비\n",
    "data = [\n",
    "['Name', 'Age', 'City'],\n",
    "['Alice', 30, 'New York'],\n",
    "['Bob', 25, 'Los Angeles'],\n",
    "['Charlie', 35, 'Chicago']\n",
    "]"
   ]
  },
  {
   "cell_type": "code",
   "execution_count": null,
   "id": "2cf7dc68",
   "metadata": {},
   "outputs": [],
   "source": [
    "with open('data.csv', mode='w', encoding='utf-8', newline='') as file :\n",
    "    writer = csv.writer(file)\n",
    "    writer.writerows(data)\n",
    "\n",
    "print('ok!')"
   ]
  },
  {
   "cell_type": "code",
   "execution_count": null,
   "id": "d0900e08",
   "metadata": {},
   "outputs": [],
   "source": [
    "# pandas\n",
    "import pandas as pd"
   ]
  },
  {
   "cell_type": "code",
   "execution_count": null,
   "id": "404e5d58",
   "metadata": {},
   "outputs": [],
   "source": [
    "data = pd.read_csv('data.csv')\n",
    "print(data)"
   ]
  },
  {
   "cell_type": "code",
   "execution_count": null,
   "id": "0a87705d",
   "metadata": {},
   "outputs": [],
   "source": [
    "# 데이터 준비\n",
    "data = {\n",
    "    'Name': ['Alice', 'Bob', 'Charlie'],\n",
    "    'Age': [30, 25, 35],\n",
    "    'City': ['New York', 'Los Angeles', 'Chicago']\n",
    "}"
   ]
  },
  {
   "cell_type": "code",
   "execution_count": null,
   "id": "adfa816d",
   "metadata": {},
   "outputs": [],
   "source": [
    "df = pd.DataFrame(data)\n",
    "print(df)"
   ]
  },
  {
   "cell_type": "code",
   "execution_count": null,
   "id": "731457ec",
   "metadata": {},
   "outputs": [],
   "source": [
    "df.to_excel('data.xlsx', index=False)\n",
    "print('ok!')"
   ]
  },
  {
   "cell_type": "code",
   "execution_count": null,
   "id": "b8a0c23e",
   "metadata": {},
   "outputs": [],
   "source": [
    "data2 = pd.read_excel('data.xlsx')"
   ]
  },
  {
   "cell_type": "code",
   "execution_count": null,
   "id": "49878f8c",
   "metadata": {},
   "outputs": [],
   "source": [
    "data2"
   ]
  },
  {
   "cell_type": "code",
   "execution_count": null,
   "id": "917195c7",
   "metadata": {},
   "outputs": [],
   "source": [
    "import json"
   ]
  },
  {
   "cell_type": "code",
   "execution_count": null,
   "id": "2ff821d4",
   "metadata": {},
   "outputs": [],
   "source": [
    "# 데이터 준비\n",
    "data = {\n",
    "'people': [\n",
    "{'name': 'Alice', 'age': 30, 'city': 'New York'},\n",
    "{'name': 'Bob', 'age': 25, 'city': 'Los Angeles'},\n",
    "{'name': 'Charlie', 'age': 35, 'city': 'Chicago'}\n",
    "]\n",
    "}"
   ]
  },
  {
   "cell_type": "code",
   "execution_count": null,
   "id": "392bd8b9",
   "metadata": {},
   "outputs": [],
   "source": [
    "with open('data.json', mode='w', encoding='utf-8') as file:\n",
    "    json.dump(data, file, indent=2)\n",
    "\n",
    "print('ok!')"
   ]
  },
  {
   "cell_type": "code",
   "execution_count": null,
   "id": "3904d110",
   "metadata": {},
   "outputs": [],
   "source": [
    "with open('data.json', mode='r') as file :\n",
    "    data_result = json.load(file)\n",
    "    print(data_result)"
   ]
  },
  {
   "cell_type": "code",
   "execution_count": null,
   "id": "bf0f6342",
   "metadata": {},
   "outputs": [],
   "source": [
    "### SQLite : 관계형데이터베이스"
   ]
  },
  {
   "cell_type": "code",
   "execution_count": null,
   "id": "0ceb4a6f",
   "metadata": {},
   "outputs": [],
   "source": [
    "import sqlite3"
   ]
  },
  {
   "cell_type": "code",
   "execution_count": 23,
   "id": "718f5c79",
   "metadata": {},
   "outputs": [
    {
     "name": "stdout",
     "output_type": "stream",
     "text": [
      "데이터베이스 연결!\n"
     ]
    }
   ],
   "source": [
    "conn = sqlite3.connect('first.db')\n",
    "print('데이터베이스 연결!')\n",
    "conn.close()"
   ]
  },
  {
   "cell_type": "code",
   "execution_count": null,
   "id": "e5dc51c2",
   "metadata": {},
   "outputs": [],
   "source": []
  },
  {
   "cell_type": "code",
   "execution_count": null,
   "id": "32b07235",
   "metadata": {},
   "outputs": [],
   "source": [
    "# 관계형데이터베이스 : 테이블 구조로 데이터를 저장\n",
    "# 저장할 수 있는 공간 생성 => table 생성\n",
    "# sql : create table 테이블 이름(컬럼이름 데이터타입 제약조건, 커럼 타입)\n",
    "sql_create = ''' \n",
    "CREATE TABLE IF NOT EXISTS user (\n",
    "    id INTEGER PRIMARY KEY AUTOINCREMENT,\n",
    "    name TEXT NOT NULL,\n",
    "    age INTEGER,\n",
    "    city TEXT\n",
    ")\n",
    "'''\n",
    "# 테이블 생성\n",
    "# 1. 데이터베이스 연결\n",
    "conn = sqlite3.connect('first.db')\n",
    "\n",
    "# 2. sql 실행할 수 있는 객체 필요\n",
    "cursor = conn.cursor()\n",
    "\n",
    "# 3. sql 실행\n",
    "cursor.execute(sql_create)\n",
    "\n",
    "print('ok!')\n",
    "\n",
    "# 4. 연결 종료\n",
    "conn.close()\n"
   ]
  },
  {
   "cell_type": "code",
   "execution_count": null,
   "id": "dc44b131",
   "metadata": {},
   "outputs": [],
   "source": [
    "# 데이터 입력 : 행단위 입력 -> (이름, 나이, 거주지)\n",
    "# sql = insert into user (name, age, city) values (?, ?, ?)\n",
    "\n",
    "# 1. 데이터베이스 연결\n",
    "conn = sqlite3.connect('first.db')\n",
    "\n",
    "# 2. 데이터 처리\n",
    "cursor = conn.cursor()\n",
    "sql_insert = 'insert into user (name, age, city) values (?, ?, ?)'\n",
    "#cursor.execute(sql_insert, ('cool', 20, 'London'))\n",
    "data = [\n",
    "    ('cool', 20, 'London'),\n",
    "    ('hot', 30, 'SEOUL'),\n",
    "    ('king', 40, 'PASAN')\n",
    "]\n",
    "cursor.executemany(sql_insert, data)\n",
    "\n",
    "# 입력, 수정, 삭제 => DML\n",
    "# 완료 여부 코드로 지정 => 물리적인 저장\n",
    "conn.commit() # 작업이 끝났으니 파일에 저장!\n",
    "\n",
    "conn.close()"
   ]
  },
  {
   "cell_type": "code",
   "execution_count": null,
   "id": "953df83e",
   "metadata": {},
   "outputs": [],
   "source": [
    "# 질의 (검색) : 데이터 검색 => 행단위 검색\n",
    "# sql = select 컬럼이름들 ,... from 테이블 이름 [ where 컬럼이름기준으로 비교 연산 ]\n",
    "# 1. 연결\n",
    "conn = sqlite3.connect('first.db')\n",
    "\n",
    "# 2. 데이터 처리\n",
    "cursor = conn.cursor()\n",
    "\n",
    "sql_select = 'select * from user'\n",
    "# sql_select = 'select * from user where id>2'\n",
    "# sql_select = 'select name,age from user where id>2'\n",
    "\n",
    "cursor.execute(sql_select)\n",
    "\n",
    "# select 결과 => fetchall(), fetchone()\n",
    "rows = cursor.fetchall()\n",
    "print(rows)\n",
    "\n",
    "for row in rows:\n",
    "    print(row) # tuple 형식의 데이터\n",
    "\n",
    "conn.close()\n"
   ]
  },
  {
   "cell_type": "code",
   "execution_count": 22,
   "id": "a098fe5c",
   "metadata": {},
   "outputs": [
    {
     "ename": "OperationalError",
     "evalue": "no such table: users",
     "output_type": "error",
     "traceback": [
      "\u001b[31m---------------------------------------------------------------------------\u001b[39m",
      "\u001b[31mOperationalError\u001b[39m                          Traceback (most recent call last)",
      "\u001b[36mCell\u001b[39m\u001b[36m \u001b[39m\u001b[32mIn[22]\u001b[39m\u001b[32m, line 12\u001b[39m\n\u001b[32m      9\u001b[39m cursor = conn.cursor()\n\u001b[32m     10\u001b[39m sql_update = \u001b[33m'\u001b[39m\u001b[33mUPDATE users SET age=? WHERE id=?\u001b[39m\u001b[33m'\u001b[39m\n\u001b[32m---> \u001b[39m\u001b[32m12\u001b[39m \u001b[43mcursor\u001b[49m\u001b[43m.\u001b[49m\u001b[43mexecute\u001b[49m\u001b[43m(\u001b[49m\u001b[43msql_update\u001b[49m\u001b[43m,\u001b[49m\u001b[43m \u001b[49m\u001b[43m(\u001b[49m\u001b[32;43m60\u001b[39;49m\u001b[43m,\u001b[49m\u001b[43m \u001b[49m\u001b[32;43m4\u001b[39;49m\u001b[43m)\u001b[49m\u001b[43m)\u001b[49m\n\u001b[32m     14\u001b[39m conn.commit()\n\u001b[32m     15\u001b[39m \u001b[38;5;28mprint\u001b[39m(\u001b[33m'\u001b[39m\u001b[33mupdate ok\u001b[39m\u001b[33m'\u001b[39m)\n",
      "\u001b[31mOperationalError\u001b[39m: no such table: users"
     ]
    }
   ],
   "source": [
    "# 데이터 수정 : 행 단위 데이터 수정, \n",
    "# 행을 찾고 -> 행의 컬럼의 값을 변경(삭제, 입력, 치환)\n",
    "# sql = update 테이블이름 set 컬럼이름=값, 컬럼이름=값, ... [where 조건식]\n",
    "\n",
    "# 1. 연결\n",
    "conn = sqlite3.connect('first.db')\n",
    "\n",
    "# 2. 데이터 처리\n",
    "cursor = conn.cursor()\n",
    "sql_update = 'UPDATE users SET age=? WHERE id=?'\n",
    "\n",
    "cursor.execute(sql_update, (60, 4))\n",
    "\n",
    "conn.commit()\n",
    "print('update ok')\n",
    "\n",
    "conn.close()\n"
   ]
  },
  {
   "cell_type": "code",
   "execution_count": null,
   "id": "ffa3ef97",
   "metadata": {},
   "outputs": [],
   "source": []
  },
  {
   "cell_type": "code",
   "execution_count": null,
   "id": "c6139878",
   "metadata": {},
   "outputs": [],
   "source": []
  },
  {
   "cell_type": "code",
   "execution_count": null,
   "id": "557984d1",
   "metadata": {},
   "outputs": [],
   "source": []
  },
  {
   "cell_type": "code",
   "execution_count": null,
   "id": "1e9866c6",
   "metadata": {},
   "outputs": [],
   "source": []
  },
  {
   "cell_type": "code",
   "execution_count": null,
   "id": "3313385e",
   "metadata": {},
   "outputs": [],
   "source": []
  },
  {
   "cell_type": "code",
   "execution_count": null,
   "id": "97db430b",
   "metadata": {},
   "outputs": [],
   "source": []
  },
  {
   "cell_type": "code",
   "execution_count": null,
   "id": "acbf664b",
   "metadata": {},
   "outputs": [],
   "source": []
  },
  {
   "cell_type": "code",
   "execution_count": null,
   "id": "f08a5edc",
   "metadata": {},
   "outputs": [],
   "source": []
  },
  {
   "cell_type": "code",
   "execution_count": null,
   "id": "35371991",
   "metadata": {},
   "outputs": [],
   "source": []
  },
  {
   "cell_type": "code",
   "execution_count": null,
   "id": "90ba57c6",
   "metadata": {},
   "outputs": [],
   "source": []
  },
  {
   "cell_type": "code",
   "execution_count": null,
   "id": "5fcf57e3",
   "metadata": {},
   "outputs": [],
   "source": []
  },
  {
   "cell_type": "code",
   "execution_count": null,
   "id": "9c9ae816",
   "metadata": {},
   "outputs": [],
   "source": []
  },
  {
   "cell_type": "code",
   "execution_count": null,
   "id": "31b159cc",
   "metadata": {},
   "outputs": [],
   "source": []
  },
  {
   "cell_type": "code",
   "execution_count": null,
   "id": "9776d5c1",
   "metadata": {},
   "outputs": [],
   "source": []
  },
  {
   "cell_type": "code",
   "execution_count": null,
   "id": "ed43fa05",
   "metadata": {},
   "outputs": [],
   "source": []
  },
  {
   "cell_type": "code",
   "execution_count": null,
   "id": "ecd36ee0",
   "metadata": {},
   "outputs": [],
   "source": []
  },
  {
   "cell_type": "code",
   "execution_count": null,
   "id": "457ee8af",
   "metadata": {},
   "outputs": [],
   "source": []
  },
  {
   "cell_type": "code",
   "execution_count": null,
   "id": "fbfc06d9",
   "metadata": {},
   "outputs": [],
   "source": []
  },
  {
   "cell_type": "code",
   "execution_count": null,
   "id": "8f15f381",
   "metadata": {},
   "outputs": [],
   "source": []
  },
  {
   "cell_type": "code",
   "execution_count": null,
   "id": "91899c01",
   "metadata": {},
   "outputs": [],
   "source": []
  },
  {
   "cell_type": "code",
   "execution_count": null,
   "id": "2cc36890",
   "metadata": {},
   "outputs": [],
   "source": []
  },
  {
   "cell_type": "code",
   "execution_count": null,
   "id": "e6b4375d",
   "metadata": {},
   "outputs": [],
   "source": []
  },
  {
   "cell_type": "code",
   "execution_count": null,
   "id": "a1a66339",
   "metadata": {},
   "outputs": [],
   "source": []
  },
  {
   "cell_type": "code",
   "execution_count": null,
   "id": "d7da216f",
   "metadata": {},
   "outputs": [],
   "source": []
  },
  {
   "cell_type": "code",
   "execution_count": null,
   "id": "0a164867",
   "metadata": {},
   "outputs": [],
   "source": []
  },
  {
   "cell_type": "code",
   "execution_count": null,
   "id": "cfe054d1",
   "metadata": {},
   "outputs": [],
   "source": []
  },
  {
   "cell_type": "code",
   "execution_count": null,
   "id": "7354eb8e",
   "metadata": {},
   "outputs": [],
   "source": []
  },
  {
   "cell_type": "code",
   "execution_count": null,
   "id": "3c90c5e5",
   "metadata": {},
   "outputs": [],
   "source": []
  },
  {
   "cell_type": "code",
   "execution_count": null,
   "id": "5eaed1d7",
   "metadata": {},
   "outputs": [],
   "source": []
  },
  {
   "cell_type": "code",
   "execution_count": null,
   "id": "4e9cf825",
   "metadata": {},
   "outputs": [],
   "source": []
  },
  {
   "cell_type": "code",
   "execution_count": null,
   "id": "487d516a",
   "metadata": {},
   "outputs": [],
   "source": []
  },
  {
   "cell_type": "code",
   "execution_count": null,
   "id": "b295b80f",
   "metadata": {},
   "outputs": [],
   "source": []
  },
  {
   "cell_type": "code",
   "execution_count": null,
   "id": "8700b6b2",
   "metadata": {},
   "outputs": [],
   "source": []
  },
  {
   "cell_type": "code",
   "execution_count": null,
   "id": "670613a9",
   "metadata": {},
   "outputs": [],
   "source": []
  },
  {
   "cell_type": "code",
   "execution_count": null,
   "id": "790b031a",
   "metadata": {},
   "outputs": [],
   "source": []
  },
  {
   "cell_type": "code",
   "execution_count": null,
   "id": "ba42321b",
   "metadata": {},
   "outputs": [],
   "source": []
  },
  {
   "cell_type": "code",
   "execution_count": null,
   "id": "b0f08b01",
   "metadata": {},
   "outputs": [],
   "source": []
  },
  {
   "cell_type": "code",
   "execution_count": null,
   "id": "1bcb8628",
   "metadata": {},
   "outputs": [],
   "source": []
  },
  {
   "cell_type": "code",
   "execution_count": null,
   "id": "148bc45f",
   "metadata": {},
   "outputs": [],
   "source": []
  },
  {
   "cell_type": "code",
   "execution_count": null,
   "id": "62c68c62",
   "metadata": {},
   "outputs": [],
   "source": []
  },
  {
   "cell_type": "code",
   "execution_count": null,
   "id": "d6b9ff95",
   "metadata": {},
   "outputs": [],
   "source": []
  },
  {
   "cell_type": "code",
   "execution_count": null,
   "id": "4ad99eb7",
   "metadata": {},
   "outputs": [],
   "source": []
  },
  {
   "cell_type": "code",
   "execution_count": null,
   "id": "11c1598d",
   "metadata": {},
   "outputs": [],
   "source": []
  },
  {
   "cell_type": "code",
   "execution_count": null,
   "id": "c8ca71f7",
   "metadata": {},
   "outputs": [],
   "source": []
  },
  {
   "cell_type": "code",
   "execution_count": null,
   "id": "540658b0",
   "metadata": {},
   "outputs": [],
   "source": []
  },
  {
   "cell_type": "code",
   "execution_count": null,
   "id": "c9562313",
   "metadata": {},
   "outputs": [],
   "source": []
  },
  {
   "cell_type": "code",
   "execution_count": null,
   "id": "94d841ad",
   "metadata": {},
   "outputs": [],
   "source": []
  },
  {
   "cell_type": "code",
   "execution_count": null,
   "id": "5def70cd",
   "metadata": {},
   "outputs": [],
   "source": []
  },
  {
   "cell_type": "code",
   "execution_count": null,
   "id": "5897f776",
   "metadata": {},
   "outputs": [],
   "source": []
  },
  {
   "cell_type": "code",
   "execution_count": null,
   "id": "a1488ebe",
   "metadata": {},
   "outputs": [],
   "source": []
  },
  {
   "cell_type": "code",
   "execution_count": null,
   "id": "3af89467",
   "metadata": {},
   "outputs": [],
   "source": []
  },
  {
   "cell_type": "code",
   "execution_count": null,
   "id": "f492c8b2",
   "metadata": {},
   "outputs": [],
   "source": []
  },
  {
   "cell_type": "code",
   "execution_count": null,
   "id": "a5940d38",
   "metadata": {},
   "outputs": [],
   "source": []
  },
  {
   "cell_type": "code",
   "execution_count": null,
   "id": "ada5bdeb",
   "metadata": {},
   "outputs": [],
   "source": []
  },
  {
   "cell_type": "code",
   "execution_count": null,
   "id": "8ca51b6a",
   "metadata": {},
   "outputs": [],
   "source": []
  },
  {
   "cell_type": "code",
   "execution_count": null,
   "id": "534e03c8",
   "metadata": {},
   "outputs": [],
   "source": []
  },
  {
   "cell_type": "code",
   "execution_count": null,
   "id": "51e45433",
   "metadata": {},
   "outputs": [],
   "source": []
  },
  {
   "cell_type": "code",
   "execution_count": null,
   "id": "eb668fcd",
   "metadata": {},
   "outputs": [],
   "source": []
  },
  {
   "cell_type": "code",
   "execution_count": null,
   "id": "d0cb64e3",
   "metadata": {},
   "outputs": [],
   "source": []
  },
  {
   "cell_type": "code",
   "execution_count": null,
   "id": "ff777e60",
   "metadata": {},
   "outputs": [],
   "source": []
  },
  {
   "cell_type": "code",
   "execution_count": null,
   "id": "66d3b8af",
   "metadata": {},
   "outputs": [],
   "source": []
  },
  {
   "cell_type": "code",
   "execution_count": null,
   "id": "818f0f0d",
   "metadata": {},
   "outputs": [],
   "source": []
  },
  {
   "cell_type": "code",
   "execution_count": null,
   "id": "443e1dce",
   "metadata": {},
   "outputs": [],
   "source": []
  },
  {
   "cell_type": "code",
   "execution_count": null,
   "id": "95cbda60",
   "metadata": {},
   "outputs": [],
   "source": []
  },
  {
   "cell_type": "code",
   "execution_count": null,
   "id": "6101dc4e",
   "metadata": {},
   "outputs": [],
   "source": []
  },
  {
   "cell_type": "code",
   "execution_count": null,
   "id": "a059cbf9",
   "metadata": {},
   "outputs": [],
   "source": []
  },
  {
   "cell_type": "code",
   "execution_count": null,
   "id": "85616679",
   "metadata": {},
   "outputs": [],
   "source": []
  }
 ],
 "metadata": {
  "kernelspec": {
   "display_name": ".venv",
   "language": "python",
   "name": "python3"
  },
  "language_info": {
   "codemirror_mode": {
    "name": "ipython",
    "version": 3
   },
   "file_extension": ".py",
   "mimetype": "text/x-python",
   "name": "python",
   "nbconvert_exporter": "python",
   "pygments_lexer": "ipython3",
   "version": "3.13.4"
  }
 },
 "nbformat": 4,
 "nbformat_minor": 5
}
