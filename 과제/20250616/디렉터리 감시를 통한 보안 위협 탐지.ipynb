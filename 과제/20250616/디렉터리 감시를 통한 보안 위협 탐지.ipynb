{
 "cells": [
  {
   "cell_type": "markdown",
   "id": "ad51a32e",
   "metadata": {},
   "source": [
    "### 디렉터리 감시를 통한 보안 위협 탐지"
   ]
  },
  {
   "cell_type": "code",
   "execution_count": 1,
   "id": "ac29ae5e",
   "metadata": {},
   "outputs": [],
   "source": [
    "# 디렉터리 내 파일 목록 관리 및 정규식 처리를 위한 모듈\n",
    "import os\n",
    "import re\n",
    "import time"
   ]
  },
  {
   "cell_type": "code",
   "execution_count": 4,
   "id": "8fe2e3e9",
   "metadata": {},
   "outputs": [
    {
     "name": "stdout",
     "output_type": "stream",
     "text": [
      "감시 시작, 현재 './monitor_directory' 폴더 내 파일 수: 0개\n"
     ]
    }
   ],
   "source": [
    "# 감시할 디렉터리 초기 설정 및 초기 파일 목록 기록\n",
    "\n",
    "# 감시할 디렉터리 경로 지정 (현재 폴더 안의 'monitor_directory' 폴더)\n",
    "monitor_dir = \"./monitor_directory\"\n",
    "\n",
    "# 디렉터리 존재 여부 확인, 없으면 생성\n",
    "if not os.path.exists(monitor_dir):\n",
    "    os.makedirs(monitor_dir)\n",
    "    print(f\"'{monitor_dir}' 디렉터리를 새로 만들었습니다.\")\n",
    "\n",
    "# 현재 디렉터리 내 파일 목록을 기록\n",
    "initial_files = set(os.listdir(monitor_dir))\n",
    "\n",
    "print(f\"감시 시작, 현재 '{monitor_dir}' 폴더 내 파일 수: {len(initial_files)}개\")"
   ]
  },
  {
   "cell_type": "code",
   "execution_count": 5,
   "id": "b963b510",
   "metadata": {},
   "outputs": [],
   "source": [
    "# 주요 확장자와 민감 정보 정규식 패턴 정의\n",
    "\n",
    "# 주의할 확장자 리스트\n",
    "suspicious_exts = ['.py', '.is', '.class']\n",
    "\n",
    "# 주요 정보(주석, 이메일, SQL문) 탐지용 정규 표현식\n",
    "comment_pattern = re.compile(r'#.*')  # 한 줄 주석 (파이썬 스타일)\n",
    "email_pattern = re.compile(r'[a-zA-Z0-9_.+-]+@[a-zA-Z0-9-]+\\.[a-zA-Z0-9-.]+')\n",
    "sql_pattern = re.compile(r'\\b(SELECT|INSERT|UPDATE|DELETE|DROP|ALTER|CREATE)\\b', re.IGNORECASE)"
   ]
  },
  {
   "cell_type": "code",
   "execution_count": null,
   "id": "db2296aa",
   "metadata": {},
   "outputs": [],
   "source": [
    "# 새로운 파일 감지 및 보안 위협 탐지 함수\n",
    "\n",
    "def detect_new_files_and_threats():\n",
    "    # 현재 디렉터리 파일 목록\n",
    "    current_files = set(os.listdir(monitor_dir))\n",
    "    \n",
    "    # 새로 생성된 파일은 initial_files에 없는 파일\n",
    "    new_files = current_files - initial_files\n",
    "    \n",
    "    if new_files:\n",
    "        print(f\"\\n새로운 파일 발견: {new_files}\")\n",
    "    else:\n",
    "        print(\"\\n새 파일 없음\")\n",
    "    \n",
    "    for filename in new_files:\n",
    "        # 파일 경로 전체\n",
    "        filepath = os.path.join(monitor_dir, filename)\n",
    "        \n",
    "        # 확장자 체크\n",
    "        _, ext = os.path.splitext(filename)\n",
    "        if ext in suspicious_exts:\n",
    "            print(f\"[주의] 주의 확장자 파일 발견: {filename}\")\n",
    "        \n",
    "        # 파일 내용을 열어 민감 정보 탐지\n",
    "        try:\n",
    "            with open(filepath, \"r\", encoding=\"utf-8\") as f:\n",
    "                content = f.read()\n",
    "                \n",
    "                # 주석 탐지\n",
    "                comments = comment_pattern.findall(content)\n",
    "                if comments:\n",
    "                    print(f\"  -> 주석 발견 ({len(comments)}개)\")\n",
    "                \n",
    "                # 이메일 탐지\n",
    "                emails = email_pattern.findall(content)\n",
    "                if emails:\n",
    "                    print(f\"  -> 이메일 주소 발견: {set(emails)}\")\n",
    "                \n",
    "                # SQL문 탐지\n",
    "                sqls = sql_pattern.findall(content)\n",
    "                if sqls:\n",
    "                    print(f\"  -> SQL 키워드 발견: {set(sqls)}\")\n",
    "                    \n",
    "        except Exception as e:\n",
    "            print(f\"  [오류] 파일 열기 실패: {filename} ({e})\")"
   ]
  },
  {
   "cell_type": "code",
   "execution_count": null,
   "id": "3132ea97",
   "metadata": {},
   "outputs": [
    {
     "name": "stdout",
     "output_type": "stream",
     "text": [
      "\n",
      "[1번째 체크 시작]\n",
      "\n",
      "새 파일 없음\n",
      "\n",
      "[2번째 체크 시작]\n",
      "\n",
      "새 파일 없음\n",
      "\n",
      "[3번째 체크 시작]\n",
      "\n",
      "새 파일 없음\n",
      "\n",
      "모니터링 종료\n"
     ]
    }
   ],
   "source": [
    "# 모니터링 실행 루프 (예: 10초마다 3회 체크)\n",
    "\n",
    "# 감시 반복 횟수와 간격 설정\n",
    "check_count = 3\n",
    "interval_sec = 10\n",
    "\n",
    "for i in range(check_count):\n",
    "    print(f\"\\n[{i+1}번째 체크 시작]\")\n",
    "    detect_new_files_and_threats()\n",
    "    \n",
    "    # 초기 파일 목록을 업데이트 (새 파일을 계속 추적하기 위해)\n",
    "    initial_files.update(os.listdir(monitor_dir))\n",
    "    time.sleep(interval_sec)\n",
    "    \n",
    "print(\"\\n모니터링 종료\")"
   ]
  },
  {
   "cell_type": "code",
   "execution_count": null,
   "id": "4ec57bb1",
   "metadata": {},
   "outputs": [],
   "source": []
  }
 ],
 "metadata": {
  "kernelspec": {
   "display_name": ".venv",
   "language": "python",
   "name": "python3"
  },
  "language_info": {
   "codemirror_mode": {
    "name": "ipython",
    "version": 3
   },
   "file_extension": ".py",
   "mimetype": "text/x-python",
   "name": "python",
   "nbconvert_exporter": "python",
   "pygments_lexer": "ipython3",
   "version": "3.13.4"
  }
 },
 "nbformat": 4,
 "nbformat_minor": 5
}
