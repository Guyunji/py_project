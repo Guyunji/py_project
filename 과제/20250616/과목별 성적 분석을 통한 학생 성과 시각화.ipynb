{
 "cells": [
  {
   "cell_type": "markdown",
   "id": "b0f472cb",
   "metadata": {},
   "source": [
    "### 과목별 성적 분석을 통한 학생 성과 시각화"
   ]
  },
  {
   "cell_type": "code",
   "execution_count": 2,
   "id": "7503bc0e",
   "metadata": {},
   "outputs": [],
   "source": [
    "# 필요한 모듈 불러오기\n",
    "\n",
    "import pandas as pd\n",
    "import numpy as np\n",
    "import matplotlib.pyplot as plt\n",
    "from matplotlib import font_manager, rc"
   ]
  },
  {
   "cell_type": "code",
   "execution_count": 3,
   "id": "9c3e3612",
   "metadata": {},
   "outputs": [],
   "source": [
    "# 한글 폰트 설정 (윈도우 기준)\n",
    "font_path = \"C:/Windows/Fonts/malgun.ttf\"\n",
    "font_name = font_manager.FontProperties(fname=font_path).get_name()\n",
    "rc('font', family=font_name)"
   ]
  },
  {
   "cell_type": "code",
   "execution_count": 4,
   "id": "ebb75d8c",
   "metadata": {},
   "outputs": [],
   "source": [
    "class StudentScoreAnalysis:\n",
    "    def __init__(self):\n",
    "        # 학생 이름 생성\n",
    "        self.students = [f'학생{i}' for i in range(1, 21)]\n",
    "        \n",
    "        # 난수 시드 고정\n",
    "        np.random.seed(42)\n",
    "        \n",
    "        # 수학 점수 생성\n",
    "        self.scores = {\n",
    "            '수학': np.random.randint(50, 101, size=20),\n",
    "            '영어': np.random.randint(50, 101, size=20),\n",
    "            '과학': np.random.randint(50, 101, size=20)\n",
    "        }\n",
    "        \n",
    "        # 데이터프레임 생성\n",
    "        self.df = pd.DataFrame(self.scores, index=self.students)\n",
    "\n",
    "    def subject_averages(self):\n",
    "        # 과목별 평균 계산\n",
    "        return self.df.mean()\n",
    "\n",
    "    def top_5_students(self):\n",
    "        # 학생별 평균 계산\n",
    "        avg_scores = self.df.mean(axis=1)\n",
    "        \n",
    "        # 내림차순 정렬\n",
    "        top5 = avg_scores.sort_values(ascending=False).head(5)\n",
    "        \n",
    "        # 상위 5명 반환\n",
    "        return top5\n",
    "\n",
    "    def plot_subject_averages(self):\n",
    "        # 과목별 평균 가져오기\n",
    "        averages = self.subject_averages()\n",
    "        \n",
    "        # 그래프 크기 설정\n",
    "        plt.figure(figsize=(8,5))\n",
    "        \n",
    "        # 막대그래프 그리기\n",
    "        plt.bar(averages.index, averages.values, color='skyblue')\n",
    "        \n",
    "        # 제목 지정\n",
    "        plt.title('과목별 평균 점수')\n",
    "        \n",
    "        # y축 레이블 지정\n",
    "        plt.ylabel('평균 점수')\n",
    "        \n",
    "        # y축 범위 지정\n",
    "        plt.ylim(0, 100)\n",
    "        \n",
    "        # 격자 표시 (y축)\n",
    "        plt.grid(axis='y')\n",
    "        \n",
    "        # 그래프 출력\n",
    "        plt.show()\n",
    "\n",
    "    def plot_top_5_students(self):\n",
    "        # 상위 5명 평균 점수 가져오기\n",
    "        top5 = self.top_5_students()\n",
    "        \n",
    "        # 그래프 크기 설정\n",
    "        plt.figure(figsize=(8,5))\n",
    "        \n",
    "        # 막대그래프 그리기\n",
    "        plt.bar(top5.index, top5.values, color='salmon')\n",
    "        \n",
    "        # 제목 지정\n",
    "        plt.title('평균 성적 상위 5명 학생')\n",
    "        \n",
    "        # y축 레이블 지정\n",
    "        plt.ylabel('평균 점수')\n",
    "        \n",
    "        # y축 범위 지정\n",
    "        plt.ylim(0, 100)\n",
    "        \n",
    "        # 격자 표시 (y축)\n",
    "        plt.grid(axis='y')\n",
    "        \n",
    "        # 그래프 출력\n",
    "        plt.show()"
   ]
  },
  {
   "cell_type": "code",
   "execution_count": 5,
   "id": "0a9b4dba",
   "metadata": {},
   "outputs": [
    {
     "name": "stdout",
     "output_type": "stream",
     "text": [
      "수학    72.85\n",
      "영어    78.30\n",
      "과학    72.80\n",
      "dtype: float64\n",
      "학생20    91.666667\n",
      "학생1     89.000000\n",
      "학생10    85.666667\n",
      "학생16    81.333333\n",
      "학생12    79.666667\n",
      "dtype: float64\n"
     ]
    },
    {
     "data": {
      "image/png": "[encoded data removed]",
      "text/plain": [
       "<Figure size 800x500 with 1 Axes>"
      ]
     },
     "metadata": {},
     "output_type": "display_data"
    },
    {
     "data": {
      "image/png": "[encoded data removed]",
      "text/plain": [
       "<Figure size 800x500 with 1 Axes>"
      ]
     },
     "metadata": {},
     "output_type": "display_data"
    }
   ],
   "source": [
    "analyzer = StudentScoreAnalysis()\n",
    "\n",
    "print(analyzer.subject_averages())   # 과목별 평균 점수 출력\n",
    "print(analyzer.top_5_students())     # 상위 5명 학생 출력\n",
    "\n",
    "analyzer.plot_subject_averages()     # 과목별 평균 점수 그래프\n",
    "analyzer.plot_top_5_students()       # 상위 5명 학생 평균 점수 그래프"
   ]
  },
  {
   "cell_type": "code",
   "execution_count": null,
   "id": "d01492b2",
   "metadata": {},
   "outputs": [],
   "source": []
  }
 ],
 "metadata": {
  "kernelspec": {
   "display_name": ".venv",
   "language": "python",
   "name": "python3"
  },
  "language_info": {
   "codemirror_mode": {
    "name": "ipython",
    "version": 3
   },
   "file_extension": ".py",
   "mimetype": "text/x-python",
   "name": "python",
   "nbconvert_exporter": "python",
   "pygments_lexer": "ipython3",
   "version": "3.13.4"
  }
 },
 "nbformat": 4,
 "nbformat_minor": 5
}
