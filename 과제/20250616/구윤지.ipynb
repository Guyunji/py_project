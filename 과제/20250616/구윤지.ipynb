{
 "cells": [
  {
   "cell_type": "code",
   "execution_count": 9,
   "id": "3ef122da",
   "metadata": {},
   "outputs": [],
   "source": [
    "# 데이터 불러오기 및 정의\n",
    "import pandas as pd\n",
    "\n",
    "df = pd.read_csv(\"Mall_Customers.csv\")"
   ]
  },
  {
   "cell_type": "code",
   "execution_count": 12,
   "id": "c10268ac",
   "metadata": {},
   "outputs": [
    {
     "data": {
      "text/html": [
       "<div>\n",
       "<style scoped>\n",
       "    .dataframe tbody tr th:only-of-type {\n",
       "        vertical-align: middle;\n",
       "    }\n",
       "\n",
       "    .dataframe tbody tr th {\n",
       "        vertical-align: top;\n",
       "    }\n",
       "\n",
       "    .dataframe thead th {\n",
       "        text-align: right;\n",
       "    }\n",
       "</style>\n",
       "<table border=\"1\" class=\"dataframe\">\n",
       "  <thead>\n",
       "    <tr style=\"text-align: right;\">\n",
       "      <th></th>\n",
       "      <th>CustomerID</th>\n",
       "      <th>Gender</th>\n",
       "      <th>Age</th>\n",
       "      <th>Annual Income (k$)</th>\n",
       "      <th>Spending Score (1-100)</th>\n",
       "    </tr>\n",
       "  </thead>\n",
       "  <tbody>\n",
       "    <tr>\n",
       "      <th>0</th>\n",
       "      <td>1</td>\n",
       "      <td>Male</td>\n",
       "      <td>19</td>\n",
       "      <td>15</td>\n",
       "      <td>39</td>\n",
       "    </tr>\n",
       "    <tr>\n",
       "      <th>1</th>\n",
       "      <td>2</td>\n",
       "      <td>Male</td>\n",
       "      <td>21</td>\n",
       "      <td>15</td>\n",
       "      <td>81</td>\n",
       "    </tr>\n",
       "    <tr>\n",
       "      <th>2</th>\n",
       "      <td>3</td>\n",
       "      <td>Female</td>\n",
       "      <td>20</td>\n",
       "      <td>16</td>\n",
       "      <td>6</td>\n",
       "    </tr>\n",
       "    <tr>\n",
       "      <th>3</th>\n",
       "      <td>4</td>\n",
       "      <td>Female</td>\n",
       "      <td>23</td>\n",
       "      <td>16</td>\n",
       "      <td>77</td>\n",
       "    </tr>\n",
       "    <tr>\n",
       "      <th>4</th>\n",
       "      <td>5</td>\n",
       "      <td>Female</td>\n",
       "      <td>31</td>\n",
       "      <td>17</td>\n",
       "      <td>40</td>\n",
       "    </tr>\n",
       "  </tbody>\n",
       "</table>\n",
       "</div>"
      ],
      "text/plain": [
       "   CustomerID  Gender  Age  Annual Income (k$)  Spending Score (1-100)\n",
       "0           1    Male   19                  15                      39\n",
       "1           2    Male   21                  15                      81\n",
       "2           3  Female   20                  16                       6\n",
       "3           4  Female   23                  16                      77\n",
       "4           5  Female   31                  17                      40"
      ]
     },
     "execution_count": 12,
     "metadata": {},
     "output_type": "execute_result"
    }
   ],
   "source": [
    "# 데이터 확인\n",
    "df.head()"
   ]
  },
  {
   "cell_type": "code",
   "execution_count": 13,
   "id": "6779e76f",
   "metadata": {},
   "outputs": [
    {
     "name": "stdout",
     "output_type": "stream",
     "text": [
      "       CustomerID         Age  Annual Income (k$)  Spending Score (1-100)\n",
      "count  200.000000  200.000000          200.000000              200.000000\n",
      "mean   100.500000   38.850000           60.560000               50.200000\n",
      "std     57.879185   13.969007           26.264721               25.823522\n",
      "min      1.000000   18.000000           15.000000                1.000000\n",
      "25%     50.750000   28.750000           41.500000               34.750000\n",
      "50%    100.500000   36.000000           61.500000               50.000000\n",
      "75%    150.250000   49.000000           78.000000               73.000000\n",
      "max    200.000000   70.000000          137.000000               99.000000\n"
     ]
    }
   ],
   "source": [
    "# 통계량 분석\n",
    "print(df.describe())"
   ]
  },
  {
   "cell_type": "code",
   "execution_count": 14,
   "id": "25d509d3",
   "metadata": {},
   "outputs": [
    {
     "name": "stdout",
     "output_type": "stream",
     "text": [
      "📊 평균:\n",
      "Age                       38.85\n",
      "Annual Income (k$)        60.56\n",
      "Spending Score (1-100)    50.20\n",
      "dtype: float64\n",
      "\n",
      "📍 중앙값:\n",
      "Age                       36.0\n",
      "Annual Income (k$)        61.5\n",
      "Spending Score (1-100)    50.0\n",
      "dtype: float64\n",
      "\n",
      "📌 최빈값:\n",
      "Age                       32.0\n",
      "Annual Income (k$)        54.0\n",
      "Spending Score (1-100)    42.0\n",
      "Name: 0, dtype: float64\n"
     ]
    }
   ],
   "source": [
    "# 기초 통계량 분석\n",
    "# 중심 경향성: 평균, 중앙값, 최빈값\n",
    "print(\"📊 평균:\")\n",
    "print(df[['Age', 'Annual Income (k$)', 'Spending Score (1-100)']].mean())\n",
    "\n",
    "print(\"\\n📍 중앙값:\")\n",
    "print(df[['Age', 'Annual Income (k$)', 'Spending Score (1-100)']].median())\n",
    "\n",
    "print(\"\\n📌 최빈값:\")\n",
    "print(df[['Age', 'Annual Income (k$)', 'Spending Score (1-100)']].mode().iloc[0])"
   ]
  },
  {
   "cell_type": "code",
   "execution_count": null,
   "id": "14950d93",
   "metadata": {},
   "outputs": [],
   "source": [
    "# 분산성 지표: 표준편차, 사분위수, IQR\n",
    "print(\"📐 표준편차:\")\n",
    "print(df[['Age', 'Annual Income (k$)', 'Spending Score (1-100)']].std())\n",
    "\n",
    "print(\"\\n🧮 사분위수:\")\n",
    "print(\"Q1:\\n\", df.quantile(0.25))\n",
    "print(\"Q2 (중앙값):\\n\", df.quantile(0.50))\n",
    "print(\"Q3:\\n\", df.quantile(0.75))\n",
    "\n",
    "print(\"\\n📏 IQR (Q3 - Q1):\")\n",
    "iqr = df.quantile(0.75) - df.quantile(0.25)\n",
    "print(iqr)"
   ]
  }
 ],
 "metadata": {
  "kernelspec": {
   "display_name": ".venv",
   "language": "python",
   "name": "python3"
  },
  "language_info": {
   "codemirror_mode": {
    "name": "ipython",
    "version": 3
   },
   "file_extension": ".py",
   "mimetype": "text/x-python",
   "name": "python",
   "nbconvert_exporter": "python",
   "pygments_lexer": "ipython3",
   "version": "3.13.4"
  }
 },
 "nbformat": 4,
 "nbformat_minor": 5
}
