{
 "cells": [
  {
   "cell_type": "markdown",
   "id": "f5c83c84",
   "metadata": {},
   "source": [
    "### 로그 파일을 활용한 IP 접속 분석"
   ]
  },
  {
   "cell_type": "code",
   "execution_count": null,
   "id": "b5d201ef",
   "metadata": {},
   "outputs": [],
   "source": [
    "# 필요한 모듈 불러오기\n",
    "\n",
    "import re\n",
    "import csv\n",
    "import os\n",
    "from collections import Counter\n"
   ]
  },
  {
   "cell_type": "code",
   "execution_count": 11,
   "id": "e189861f",
   "metadata": {},
   "outputs": [
    {
     "name": "stdout",
     "output_type": "stream",
     "text": [
      "파일 확인 완료. 분석 시작!\n"
     ]
    }
   ],
   "source": [
    "# 사용자 입력 받기 (파일 경로)\n",
    "log_path = input(\"분석할 로그 파일 경로를 입력하세요: \")\n",
    "\n",
    "# 파일 존재 여부 확인\n",
    "if not os.path.exists(log_path):\n",
    "    print(f\"파일 '{log_path}' 이 존재하지 않습니다.\")\n",
    "else:\n",
    "    print(\"파일 확인 완료. 분석 시작!\")"
   ]
  },
  {
   "cell_type": "code",
   "execution_count": null,
   "id": "0fb8b369",
   "metadata": {},
   "outputs": [],
   "source": [
    "# 로그 파일 열기 및 IP 주소 추출\n",
    "ip_pattern = re.compile(r\"\\b(?:\\d{1,3}\\.){3}\\d{1,3}\\b\")\n",
    "\n",
    "ip_list = []  # 추출된 IP 주소들을 저장할 리스트\n",
    "\n",
    "if log_path:\n",
    "    with open(log_path, \"r\", encoding=\"utf-8\") as file:\n",
    "        for line in file:\n",
    "            # 각 줄에서 IP 주소 패턴과 일치하는 모든 부분 찾기\n",
    "            found_ips = ip_pattern.findall(line)\n",
    "            for ip in found_ips:\n",
    "                # IP 각 부분이 0~255 사이인지 확인하여 유효성 검사\n",
    "                parts = ip.split('.')\n",
    "                if all(0 <= int(part) <= 255 for part in parts):\n",
    "                    ip_list.append(ip)\n"
   ]
  },
  {
   "cell_type": "code",
   "execution_count": 13,
   "id": "e07a4a5a",
   "metadata": {},
   "outputs": [
    {
     "name": "stdout",
     "output_type": "stream",
     "text": [
      "\n",
      "상위 3개 접속 IP 및 접속 횟수:\n",
      "203.0.113.5 - 17회 접속\n",
      "192.168.0.3 - 14회 접속\n",
      "192.168.0.2 - 14회 접속\n"
     ]
    }
   ],
   "source": [
    "# IP별 접속 횟수 계산 및 상위 3개 IP 출력\n",
    "if ip_list:\n",
    "    # IP별 빈도 계산 (Counter 사용)\n",
    "    ip_counts = Counter(ip_list)\n",
    "\n",
    "    # 가장 많이 접속한 3개의 IP를 구함\n",
    "    top3 = ip_counts.most_common(3)\n",
    "\n",
    "    print(\"\\n상위 3개 접속 IP 및 접속 횟수:\")\n",
    "    for ip, count in top3:\n",
    "        print(f\"{ip} - {count}회 접속\")\n",
    "else:\n",
    "    print(\"로그에서 유효한 IP 주소를 찾지 못했습니다.\")"
   ]
  },
  {
   "cell_type": "code",
   "execution_count": 14,
   "id": "ca494080",
   "metadata": {},
   "outputs": [
    {
     "name": "stdout",
     "output_type": "stream",
     "text": [
      "\n",
      "분석 결과가 'ip_analysis.csv' 파일로 저장되었습니다.\n"
     ]
    }
   ],
   "source": [
    "if ip_list:\n",
    "    try:\n",
    "        # CSV 파일을 UTF-8-sig 인코딩으로 열어 한글 깨짐 방지\n",
    "        with open(\"ip_analysis.csv\", \"w\", encoding=\"utf-8-sig\", newline='') as csvfile:\n",
    "            writer = csv.writer(csvfile)\n",
    "            # 헤더 작성\n",
    "            writer.writerow([\"IP Address\", \"Access Count\"])\n",
    "            # 모든 IP 주소와 접속 횟수를 많이 접속한 순서대로 작성\n",
    "            for ip, count in ip_counts.most_common():\n",
    "                writer.writerow([ip, count])\n",
    "        print(\"\\n분석 결과가 'ip_analysis.csv' 파일로 저장되었습니다.\")\n",
    "        \n",
    "    except Exception as e:\n",
    "        print(\"CSV 파일 저장 중 오류가 발생했습니다:\", e)"
   ]
  },
  {
   "cell_type": "code",
   "execution_count": null,
   "id": "72fd2eef",
   "metadata": {},
   "outputs": [],
   "source": []
  },
  {
   "cell_type": "code",
   "execution_count": null,
   "id": "4b7932a0",
   "metadata": {},
   "outputs": [],
   "source": []
  }
 ],
 "metadata": {
  "kernelspec": {
   "display_name": ".venv",
   "language": "python",
   "name": "python3"
  },
  "language_info": {
   "codemirror_mode": {
    "name": "ipython",
    "version": 3
   },
   "file_extension": ".py",
   "mimetype": "text/x-python",
   "name": "python",
   "nbconvert_exporter": "python",
   "pygments_lexer": "ipython3",
   "version": "3.13.4"
  }
 },
 "nbformat": 4,
 "nbformat_minor": 5
}
