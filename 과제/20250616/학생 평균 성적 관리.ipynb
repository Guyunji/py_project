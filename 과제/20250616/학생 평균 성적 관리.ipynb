{
 "cells": [
  {
   "cell_type": "markdown",
   "id": "8a3f2288",
   "metadata": {},
   "source": [
    "### 문제 상황\n",
    "학생들의 성적 데이터를 분석해야 하는 상황에서, 객체지향 프로그래밍(OOP)을 활용하여 데이터를 효율적으로 관리하고 분석하는 프로그램이 필요합니다.\n",
    "\n",
    "### 기능요구사항\n",
    "- 파일: scores_korean.uxt (\"이름,점수\" 형식으로 저장된 학생 성적 데이터)\n",
    "##### 요구사항:\n",
    "- StudentScores 클래스 정의\n",
    "- 생성자: 파일을 읽고 데이터를 딕셔너리에 저장\n",
    "- 평균 점수 계산 메서드\n",
    "- 평균 이상 학생 리스트 반환 메서드\n",
    "- 평균 이하 학생 데이터를 별도 파일로 저장하는 메서드 (below_average_korean.txt)\n",
    "- 평균 점수와 평균 이상 학생 리스트 줄력 메서드\n",
    "\n",
    "### 문제 해결 가이드\n",
    "- Linit_: 파일 열기 및 딕셔너리에 저장 (예외 처리 필수)\\\n",
    "- calculate_average(): 평균 계산\\\n",
    "- get_above_average(): 평균 이상 이름 리스트 반환\\\n",
    "- save_below_average(): 평균 미만 학생 저장\\\n",
    "- print_summary(): 결과 출력"
   ]
  },
  {
   "cell_type": "code",
   "execution_count": 16,
   "id": "0b52c08c",
   "metadata": {},
   "outputs": [],
   "source": [
    "class StudentScores:\n",
    "    def __init__(self, filename):\n",
    "        # 생성자: 파일을 읽고 딕셔너리에 저장\n",
    "        self.filename = filename   # 입력 파일 이름 저장\n",
    "        self.scores = {}           # 학생 데이터를 저장할 딕셔너리\n",
    "\n",
    "        try:\n",
    "            # 파일을 읽기 모드로 열고 줄마다 처리\n",
    "            with open(filename, 'r', encoding='utf-8') as file:\n",
    "                for line in file:\n",
    "                    if line.strip():  # 빈 줄 무시\n",
    "                        name, score = line.strip().split(',') # '이름,점수'로 분리\n",
    "                        self.scores[name.strip()] = int(score.strip()) # 문자열 정리 후 저장\n",
    "\n",
    "        except FileNotFoundError: # 파일이 없을 때\n",
    "            print(f\"파일 {filename}을(를) 찾을 수 없습니다.\")\n",
    "\n",
    "        except ValueError: # 형식이 잘못되었을 때\n",
    "            print(\"파일 형식 오류 발생\")\n",
    "\n",
    "        except Exception as e: # 그 외 오류\n",
    "            print(f\"알 수 없는 오류 발생: {e}\")\n",
    "\n",
    "    def calculate_average(self):\n",
    "        # 평균 점수를 계산하여 반환. 학생 데이터가 없을 경우 0을 반환\n",
    "        if not self.scores:\n",
    "            return 0\n",
    "        total = sum(self.scores.values())\n",
    "        return total / len(self.scores)\n",
    "\n",
    "    def get_above_average(self):\n",
    "        # 평균 이상 학생 이름 리스트 반환\n",
    "        average = self.calculate_average()\n",
    "        # 조건에 맞는 이름만 리스트로 추출\n",
    "        return [name for name, score in self.scores.items() if score >= average]\n",
    "\n",
    "    def save_below_average(self, output_file='below_average_korean.txt'):\n",
    "        # 평균 이하 학생 데이터를 파일로 저장\n",
    "        average = self.calculate_average()\n",
    "        try:\n",
    "            with open(output_file, 'w', encoding='utf-8') as file:  # 쓰기 모드로 파일 열기\n",
    "                for name, score in self.scores.items():             # 학생 점수 하나씩 확인\n",
    "                    if score < average:                             # 평균 미만인 경우\n",
    "                        file.write(f\"{name},{score}\\n\")             # 파일에 기록\n",
    "        except Exception as e:\n",
    "            print(f\"{output_file} 저장 중 오류 발생: {e}\")   # 오류 발생 시 메시지 출력\n",
    "\n",
    "    def print_summary(self):\n",
    "        # 평균 점수와 평균 이상 학생 출력\n",
    "        average = self.calculate_average()        # 평균 점수 계산\n",
    "        above_average = self.get_above_average()  # 평균 이상 학생 구하기\n",
    "        print(\"[ 학생 성적 분석 ]\")\n",
    "        print(f\"전체 학생 수: {len(self.scores)}명\")  # 총 인원 출력\n",
    "        print(f\"평균 점수: {average:.2f}\")            # 평균 소수 둘째 자리까지 출력\n",
    "        print(\"평균 이상 학생 명단:\")\n",
    "\n",
    "        for name in above_average:      # 평균 이상 학생들 이름 출력\n",
    "            print(f\"- {name}\")"
   ]
  },
  {
   "cell_type": "code",
   "execution_count": 17,
   "id": "f57b2066",
   "metadata": {},
   "outputs": [
    {
     "name": "stdout",
     "output_type": "stream",
     "text": [
      "[ 학생 성적 분석 ]\n",
      "전체 학생 수: 5명\n",
      "평균 점수: 86.60\n",
      "평균 이상 학생 명단:\n",
      "- 박영희\n",
      "- 최다은\n",
      "- 강은지\n"
     ]
    }
   ],
   "source": [
    "if __name__ == \"__main__\":\n",
    "    analyzer = StudentScores(\"scores_korean.txt\")\n",
    "    analyzer.print_summary()\n",
    "    analyzer.save_below_average()"
   ]
  },
  {
   "cell_type": "code",
   "execution_count": null,
   "id": "d97743df",
   "metadata": {},
   "outputs": [],
   "source": []
  },
  {
   "cell_type": "code",
   "execution_count": null,
   "id": "fdfc2a69",
   "metadata": {},
   "outputs": [],
   "source": []
  }
 ],
 "metadata": {
  "kernelspec": {
   "display_name": ".venv",
   "language": "python",
   "name": "python3"
  },
  "language_info": {
   "codemirror_mode": {
    "name": "ipython",
    "version": 3
   },
   "file_extension": ".py",
   "mimetype": "text/x-python",
   "name": "python",
   "nbconvert_exporter": "python",
   "pygments_lexer": "ipython3",
   "version": "3.13.4"
  }
 },
 "nbformat": 4,
 "nbformat_minor": 5
}
