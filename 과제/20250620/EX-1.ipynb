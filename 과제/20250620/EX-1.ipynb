{
 "cells": [
  {
   "cell_type": "markdown",
   "id": "f518dcc8",
   "metadata": {},
   "source": [
    "### 문제 1: 결측치 처리"
   ]
  },
  {
   "cell_type": "code",
   "execution_count": 61,
   "id": "312dcb82",
   "metadata": {},
   "outputs": [],
   "source": [
    "import pandas as pd"
   ]
  },
  {
   "cell_type": "code",
   "execution_count": 62,
   "id": "9569585e",
   "metadata": {},
   "outputs": [
    {
     "name": "stdout",
     "output_type": "stream",
     "text": [
      "(891, 12)\n"
     ]
    }
   ],
   "source": [
    "# 데이터 로드\n",
    "train_df = pd.read_csv('train.csv')\n",
    "print(train_df.shape)"
   ]
  },
  {
   "cell_type": "code",
   "execution_count": 63,
   "id": "d2e0ffae",
   "metadata": {},
   "outputs": [
    {
     "name": "stdout",
     "output_type": "stream",
     "text": [
      "평균: 29.69911764705882\n"
     ]
    },
    {
     "name": "stderr",
     "output_type": "stream",
     "text": [
      "C:\\Users\\YUNJI\\AppData\\Local\\Temp\\ipykernel_16712\\1360244478.py:3: FutureWarning: A value is trying to be set on a copy of a DataFrame or Series through chained assignment using an inplace method.\n",
      "The behavior will change in pandas 3.0. This inplace method will never work because the intermediate object on which we are setting values always behaves as a copy.\n",
      "\n",
      "For example, when doing 'df[col].method(value, inplace=True)', try using 'df.method({col: value}, inplace=True)' or df[col] = df[col].method(value) instead, to perform the operation inplace on the original object.\n",
      "\n",
      "\n",
      "  train_df['Age'].fillna(age_mean, inplace=True)\n"
     ]
    }
   ],
   "source": [
    "# Age 열의 결측치를 평균값으로 대체\n",
    "age_mean = train_df['Age'].mean()\n",
    "train_df['Age'].fillna(age_mean, inplace=True)\n",
    "print(\"평균:\", age_mean)"
   ]
  },
  {
   "cell_type": "code",
   "execution_count": 64,
   "id": "8ea7f53a",
   "metadata": {},
   "outputs": [
    {
     "name": "stdout",
     "output_type": "stream",
     "text": [
      "최빈값: S\n"
     ]
    },
    {
     "name": "stderr",
     "output_type": "stream",
     "text": [
      "C:\\Users\\YUNJI\\AppData\\Local\\Temp\\ipykernel_16712\\2724613542.py:3: FutureWarning: A value is trying to be set on a copy of a DataFrame or Series through chained assignment using an inplace method.\n",
      "The behavior will change in pandas 3.0. This inplace method will never work because the intermediate object on which we are setting values always behaves as a copy.\n",
      "\n",
      "For example, when doing 'df[col].method(value, inplace=True)', try using 'df.method({col: value}, inplace=True)' or df[col] = df[col].method(value) instead, to perform the operation inplace on the original object.\n",
      "\n",
      "\n",
      "  train_df['Embarked'].fillna(mode_embarked, inplace=True)\n"
     ]
    }
   ],
   "source": [
    "# Embarked 열의 결측치를 최빈값으로 대체\n",
    "mode_embarked = train_df['Embarked'].mode()[0]\n",
    "train_df['Embarked'].fillna(mode_embarked, inplace=True)\n",
    "print(\"최빈값:\", mode_embarked)"
   ]
  },
  {
   "cell_type": "code",
   "execution_count": 65,
   "id": "0681aa0d",
   "metadata": {},
   "outputs": [],
   "source": [
    "# Cabin 열 제거\n",
    "train_df.drop(columns=['Cabin'], inplace=True)"
   ]
  },
  {
   "cell_type": "code",
   "execution_count": 66,
   "id": "e59688b8",
   "metadata": {},
   "outputs": [
    {
     "name": "stdout",
     "output_type": "stream",
     "text": [
      "결측치 개수:\n",
      " PassengerId    0\n",
      "Survived       0\n",
      "Pclass         0\n",
      "Name           0\n",
      "Sex            0\n",
      "Age            0\n",
      "SibSp          0\n",
      "Parch          0\n",
      "Ticket         0\n",
      "Fare           0\n",
      "Embarked       0\n",
      "dtype: int64\n"
     ]
    }
   ],
   "source": [
    "# 결측치가 모두 제거되었는지 확인\n",
    "print(\"결측치 개수:\\n\", train_df.isnull().sum())"
   ]
  },
  {
   "cell_type": "markdown",
   "id": "e8835244",
   "metadata": {},
   "source": [
    "### 문제 2: 중복 데이터 제거"
   ]
  },
  {
   "cell_type": "code",
   "execution_count": 67,
   "id": "58081fae",
   "metadata": {},
   "outputs": [
    {
     "name": "stdout",
     "output_type": "stream",
     "text": [
      "sales.csv 파일이 생성되었습니다.\n"
     ]
    }
   ],
   "source": [
    "import pandas as pd\n",
    "\n",
    "# 1. 가짜 데이터 생성\n",
    "data = {\n",
    "    'ProductID': [101, 102, 103, 104, 101, 102, 103, 105, 106, 101],\n",
    "    'ProductName': ['A', 'B', 'C', 'D', 'A', 'B', 'C', 'E', 'F', 'A'],\n",
    "    'Price': [100, 200, 300, 400, 100, 200, 300, 500, 600, 100],\n",
    "    'Quantity': [1, 2, 3, 4, 1, 2, 3, 5, 6, 1]\n",
    "}\n",
    "\n",
    "# 2. DataFrame 생성\n",
    "df = pd.DataFrame(data)\n",
    "\n",
    "# 3. 중복된 데이터를 일부 추가 (중복된 행 4개 추가)\n",
    "df.loc[len(df.index)] = [101, 'A', 100, 1]  # 중복 행 추가\n",
    "df.loc[len(df.index)] = [102, 'B', 200, 2]  # 중복 행 추가\n",
    "df.loc[len(df.index)] = [103, 'C', 300, 3]  # 중복 행 추가\n",
    "df.loc[len(df.index)] = [104, 'D', 400, 4]  # 중복 행 추가\n",
    "\n",
    "# 4. CSV 파일로 내보내기\n",
    "df.to_csv('sales.csv', index=False)\n",
    "\n",
    "print(\"sales.csv 파일이 생성되었습니다.\")"
   ]
  },
  {
   "cell_type": "code",
   "execution_count": 68,
   "id": "913f3ca4",
   "metadata": {},
   "outputs": [
    {
     "name": "stdout",
     "output_type": "stream",
     "text": [
      "원본 데이터 크기: (14, 4)\n"
     ]
    }
   ],
   "source": [
    "# sales.csv 파일 로드\n",
    "sales_df = pd.read_csv('sales.csv')\n",
    "print(\"원본 데이터 크기:\", sales_df.shape)"
   ]
  },
  {
   "cell_type": "code",
   "execution_count": 69,
   "id": "000413e6",
   "metadata": {},
   "outputs": [
    {
     "name": "stdout",
     "output_type": "stream",
     "text": [
      "중복된 데이터 개수: 8개\n"
     ]
    }
   ],
   "source": [
    "# 중복 데이터 개수 확인\n",
    "duplicates = sales_df.duplicated().sum()\n",
    "print(f\"중복된 데이터 개수: {duplicates}개\")"
   ]
  },
  {
   "cell_type": "code",
   "execution_count": 70,
   "id": "7ab4db7b",
   "metadata": {},
   "outputs": [],
   "source": [
    "# 중복 데이터 제거\n",
    "sales_df = sales_df.drop_duplicates()"
   ]
  },
  {
   "cell_type": "code",
   "execution_count": 71,
   "id": "9444b6ca",
   "metadata": {},
   "outputs": [
    {
     "name": "stdout",
     "output_type": "stream",
     "text": [
      "중복 제거 후 데이터 개수: 6개\n"
     ]
    }
   ],
   "source": [
    "# 제거 후 데이터 개수 확인\n",
    "print(f\"중복 제거 후 데이터 개수: {len(sales_df)}개\")"
   ]
  },
  {
   "cell_type": "markdown",
   "id": "7240da59",
   "metadata": {},
   "source": [
    "### 문제 3: 이상치 제거 (IQR 이용)"
   ]
  },
  {
   "cell_type": "code",
   "execution_count": 72,
   "id": "0a2071bf",
   "metadata": {},
   "outputs": [
    {
     "name": "stdout",
     "output_type": "stream",
     "text": [
      "전체 데이터 수: 53940\n"
     ]
    }
   ],
   "source": [
    "# 데이터 로드\n",
    "diamonds_df = pd.read_csv('diamonds.csv')\n",
    "print(\"전체 데이터 수:\", len(diamonds_df))"
   ]
  },
  {
   "cell_type": "code",
   "execution_count": 73,
   "id": "215623bd",
   "metadata": {},
   "outputs": [],
   "source": [
    "# IQR 계산\n",
    "Q1 = diamonds_df['carat'].quantile(0.25)\n",
    "Q3 = diamonds_df['carat'].quantile(0.75)\n",
    "\n",
    "IQR = Q3 - Q1\n",
    "\n",
    "lower_bound = Q1 - 1.5 * IQR\n",
    "upper_bound = Q3 + 1.5 * IQR"
   ]
  },
  {
   "cell_type": "code",
   "execution_count": 74,
   "id": "e3039acc",
   "metadata": {},
   "outputs": [
    {
     "name": "stdout",
     "output_type": "stream",
     "text": [
      "Q1: 0.4, Q3: 1.04, IQR: 0.64\n",
      "하한: -0.5599999999999999, 상한: 2.0\n"
     ]
    }
   ],
   "source": [
    "print(f\"Q1: {Q1}, Q3: {Q3}, IQR: {IQR}\")\n",
    "print(f\"하한: {lower_bound}, 상한: {upper_bound}\")"
   ]
  },
  {
   "cell_type": "code",
   "execution_count": 75,
   "id": "83831859",
   "metadata": {},
   "outputs": [],
   "source": [
    "# 이상치 제거\n",
    "diamonds_df_cleaned = diamonds_df[(diamonds_df['carat'] >= lower_bound) & (diamonds_df['carat'] <= upper_bound)]"
   ]
  },
  {
   "cell_type": "code",
   "execution_count": 76,
   "id": "653035b1",
   "metadata": {},
   "outputs": [
    {
     "name": "stdout",
     "output_type": "stream",
     "text": [
      "이상치를 제거한 데이터의 개수: 52051\n"
     ]
    }
   ],
   "source": [
    "print(f\"이상치를 제거한 데이터의 개수: {len(diamonds_df_cleaned)}\")"
   ]
  },
  {
   "cell_type": "markdown",
   "id": "9cdb628c",
   "metadata": {},
   "source": [
    "### 문제 4: 범주형 데이터 인코딩"
   ]
  },
  {
   "cell_type": "code",
   "execution_count": 77,
   "id": "c11d3c59",
   "metadata": {},
   "outputs": [],
   "source": [
    "from sklearn.preprocessing import LabelEncoder"
   ]
  },
  {
   "cell_type": "code",
   "execution_count": 78,
   "id": "b9f92985",
   "metadata": {},
   "outputs": [
    {
     "name": "stdout",
     "output_type": "stream",
     "text": [
      "(48842, 15)\n"
     ]
    }
   ],
   "source": [
    "# 데이터 로드\n",
    "adult_df = pd.read_csv('adult.csv')\n",
    "print(adult_df.shape)"
   ]
  },
  {
   "cell_type": "code",
   "execution_count": 79,
   "id": "5de2af57",
   "metadata": {},
   "outputs": [],
   "source": [
    "# 인코딩할 열 목록\n",
    "cols_to_encode = ['workclass',\n",
    "                  'education',\n",
    "                  'marital-status',\n",
    "                  'occupation',\n",
    "                  'relationship',\n",
    "                  'race',\n",
    "                  'gender',\n",
    "                  'native-country']"
   ]
  },
  {
   "cell_type": "code",
   "execution_count": 80,
   "id": "da9634c1",
   "metadata": {},
   "outputs": [],
   "source": [
    "# Label Encoding 수행\n",
    "le = LabelEncoder()\n",
    "for col in cols_to_encode:\n",
    "    adult_df[col] = le.fit_transform(adult_df[col])"
   ]
  },
  {
   "cell_type": "code",
   "execution_count": 81,
   "id": "18abbfc9",
   "metadata": {},
   "outputs": [
    {
     "name": "stdout",
     "output_type": "stream",
     "text": [
      "   workclass  education  marital-status  occupation  relationship  race  \\\n",
      "0          4          1               4           7             3     2   \n",
      "1          4         11               2           5             0     4   \n",
      "2          2          7               2          11             0     4   \n",
      "3          4         15               2           7             0     2   \n",
      "4          0         15               4           0             3     4   \n",
      "\n",
      "   gender  native-country  \n",
      "0       1              39  \n",
      "1       1              39  \n",
      "2       1              39  \n",
      "3       1              39  \n",
      "4       0              39  \n"
     ]
    }
   ],
   "source": [
    "print(adult_df[cols_to_encode].head())"
   ]
  },
  {
   "cell_type": "markdown",
   "id": "816085a2",
   "metadata": {},
   "source": [
    "### 문제 5: 데이터 스케일링"
   ]
  },
  {
   "cell_type": "code",
   "execution_count": 82,
   "id": "205e2b6f",
   "metadata": {},
   "outputs": [],
   "source": [
    "from sklearn.preprocessing import StandardScaler"
   ]
  },
  {
   "cell_type": "code",
   "execution_count": 83,
   "id": "92fea06e",
   "metadata": {},
   "outputs": [
    {
     "name": "stdout",
     "output_type": "stream",
     "text": [
      "(1599, 12)\n"
     ]
    }
   ],
   "source": [
    "# 데이터 로드\n",
    "wine_df = pd.read_csv('winequality-red.csv')\n",
    "print(wine_df.shape)"
   ]
  },
  {
   "cell_type": "code",
   "execution_count": 84,
   "id": "a84b03f6",
   "metadata": {},
   "outputs": [],
   "source": [
    "# 스케일링 대상 열\n",
    "cols_to_scale = ['fixed acidity', 'volatile acidity', 'citric acid', 'residual sugar', 'chlorides']"
   ]
  },
  {
   "cell_type": "code",
   "execution_count": 85,
   "id": "79504199",
   "metadata": {},
   "outputs": [],
   "source": [
    "# StandardScaler 적용\n",
    "scaler = StandardScaler()\n",
    "wine_scaled = scaler.fit_transform(wine_df[cols_to_scale])"
   ]
  },
  {
   "cell_type": "code",
   "execution_count": 86,
   "id": "857aebce",
   "metadata": {},
   "outputs": [
    {
     "name": "stdout",
     "output_type": "stream",
     "text": [
      "   fixed acidity  volatile acidity  citric acid  residual sugar  chlorides\n",
      "0      -0.528360          0.961877    -1.391472       -0.453218  -0.243707\n",
      "1      -0.298547          1.967442    -1.391472        0.043416   0.223875\n",
      "2      -0.298547          1.297065    -1.186070       -0.169427   0.096353\n",
      "3       1.654856         -1.384443     1.484154       -0.453218  -0.264960\n",
      "4      -0.528360          0.961877    -1.391472       -0.453218  -0.243707\n"
     ]
    }
   ],
   "source": [
    "# 결과 출력\n",
    "scaled_df = pd.DataFrame(wine_scaled, columns=cols_to_scale)\n",
    "print(scaled_df.head())"
   ]
  },
  {
   "cell_type": "code",
   "execution_count": null,
   "id": "50d940f2",
   "metadata": {},
   "outputs": [],
   "source": []
  },
  {
   "cell_type": "code",
   "execution_count": null,
   "id": "32aff399",
   "metadata": {},
   "outputs": [],
   "source": []
  },
  {
   "cell_type": "code",
   "execution_count": null,
   "id": "78b7cd68",
   "metadata": {},
   "outputs": [],
   "source": []
  }
 ],
 "metadata": {
  "kernelspec": {
   "display_name": ".venv",
   "language": "python",
   "name": "python3"
  },
  "language_info": {
   "codemirror_mode": {
    "name": "ipython",
    "version": 3
   },
   "file_extension": ".py",
   "mimetype": "text/x-python",
   "name": "python",
   "nbconvert_exporter": "python",
   "pygments_lexer": "ipython3",
   "version": "3.13.4"
  }
 },
 "nbformat": 4,
 "nbformat_minor": 5
}
